{
  "nbformat": 4,
  "nbformat_minor": 0,
  "metadata": {
    "colab": {
      "provenance": [],
      "toc_visible": true,
      "authorship_tag": "ABX9TyMZvaP4sT42ER1RgVghDEA+",
      "include_colab_link": true
    },
    "kernelspec": {
      "name": "python3",
      "display_name": "Python 3"
    },
    "language_info": {
      "name": "python"
    }
  },
  "cells": [
    {
      "cell_type": "markdown",
      "metadata": {
        "id": "view-in-github",
        "colab_type": "text"
      },
      "source": [
        "<a href=\"https://colab.research.google.com/github/alpha8108/mulcamp34/blob/main/%EA%B8%B0%EC%B4%88%EB%AC%B8%EB%B2%95231227.ipynb\" target=\"_parent\"><img src=\"https://colab.research.google.com/assets/colab-badge.svg\" alt=\"Open In Colab\"/></a>"
      ]
    },
    {
      "cell_type": "markdown",
      "source": [
        "# Chapter 3. 파이썬을 계산기처럼\n",
        "- 2015년~2016년 이전 : 국비교육 취업(Java 웹개발, 안드로이드 앱개발)\n",
        "- 미국, 데이터관련 얘기 이미 진행중이었음\n",
        "- 2015년, 지도교수님, R을 공부 추천 (교수님 말 무시)\n",
        "- 2016~17년 알파고\n",
        "- 2017년~2018년 국비교육 R 교육 매우 많음\n",
        "--> R이 분석용으로 매우 좋음 / 웹개발용으로 넘어가면 단점 부각\n",
        "- 회사에 가면, 여전히 수요는 웹이 높음\n",
        "- 파이썬이 왜 뜬 것이냐?\n",
        "----> 가장 큰 장점 : 범용성\n",
        "----> 데이터분석, 간단한 프로그램, 앱개발, 보안관련, 게임개발 가능\n"
      ],
      "metadata": {
        "id": "sQz4c5KQotJP"
      }
    },
    {
      "cell_type": "code",
      "source": [
        "1+1 # 정수"
      ],
      "metadata": {
        "colab": {
          "base_uri": "https://localhost:8080/"
        },
        "id": "Ke7enpayol69",
        "outputId": "1727bb60-0efa-4b13-b7e5-99c722aa0c93"
      },
      "execution_count": 1,
      "outputs": [
        {
          "output_type": "execute_result",
          "data": {
            "text/plain": [
              "2"
            ]
          },
          "metadata": {},
          "execution_count": 1
        }
      ]
    },
    {
      "cell_type": "code",
      "source": [
        "5-2 # 정수 연산 결과값은 정수로 반환"
      ],
      "metadata": {
        "colab": {
          "base_uri": "https://localhost:8080/"
        },
        "id": "Bkh6Hxx-rXaV",
        "outputId": "ea1aa53b-2a50-4221-d246-0e9e51a39f67"
      },
      "execution_count": 2,
      "outputs": [
        {
          "output_type": "execute_result",
          "data": {
            "text/plain": [
              "3"
            ]
          },
          "metadata": {},
          "execution_count": 2
        }
      ]
    },
    {
      "cell_type": "code",
      "source": [
        "5 -2"
      ],
      "metadata": {
        "colab": {
          "base_uri": "https://localhost:8080/"
        },
        "id": "habazwzgrY0G",
        "outputId": "e9d9a77a-99e1-4a24-8c26-c2a8defee6bd"
      },
      "execution_count": 4,
      "outputs": [
        {
          "output_type": "execute_result",
          "data": {
            "text/plain": [
              "3"
            ]
          },
          "metadata": {},
          "execution_count": 4
        }
      ]
    },
    {
      "cell_type": "code",
      "source": [
        "15*2"
      ],
      "metadata": {
        "colab": {
          "base_uri": "https://localhost:8080/"
        },
        "id": "jvAqcxGyrgyp",
        "outputId": "0ef481d5-6dff-484b-f09c-b114a3bb6b94"
      },
      "execution_count": 6,
      "outputs": [
        {
          "output_type": "execute_result",
          "data": {
            "text/plain": [
              "30"
            ]
          },
          "metadata": {},
          "execution_count": 6
        }
      ]
    },
    {
      "cell_type": "code",
      "source": [
        "10/2 # 정수 / 정수 ===> 반환값은 실수형으로 반환\n",
        "# 3.0 버전은 실수로 처리\n",
        "# 2.X 버전은 정수로 처리\n"
      ],
      "metadata": {
        "colab": {
          "base_uri": "https://localhost:8080/"
        },
        "id": "_txh7J34rql5",
        "outputId": "43ce2602-4c78-4ae5-c58a-73c4f3d0124f"
      },
      "execution_count": 8,
      "outputs": [
        {
          "output_type": "execute_result",
          "data": {
            "text/plain": [
              "5.0"
            ]
          },
          "metadata": {},
          "execution_count": 8
        }
      ]
    },
    {
      "cell_type": "code",
      "source": [
        "print(1+2)\n",
        "print(2.1-1.3)"
      ],
      "metadata": {
        "colab": {
          "base_uri": "https://localhost:8080/"
        },
        "id": "VkXEDp3PtL-j",
        "outputId": "5d6e75f4-c7c1-47ca-a692-bca79b1661be"
      },
      "execution_count": 9,
      "outputs": [
        {
          "output_type": "stream",
          "name": "stdout",
          "text": [
            "3\n",
            "0.8\n"
          ]
        }
      ]
    },
    {
      "cell_type": "markdown",
      "source": [
        "## 연산규칙\n",
        "- (1)괄호안 계산\n",
        "- (2)지수 계산\n",
        "- (3)곱셈과 나눗셈 계산\n",
        "- (4) 덧셈과 뺏셈 계산\n",
        "- (5) 같은 순위 연산이면, 왼쪽에서 오른쪽으로\n",
        "- (6) 중복된 괄호가 있을 경우, 안쪽에서부터 처리"
      ],
      "metadata": {
        "id": "iN1urX7FtVRR"
      }
    },
    {
      "cell_type": "code",
      "source": [
        "print(2 + 3 * 4) #프린트는 습관적으로 넣어주거나 확인하는 습관"
      ],
      "metadata": {
        "colab": {
          "base_uri": "https://localhost:8080/"
        },
        "id": "2UKeDpjAt2kE",
        "outputId": "730d5869-6573-475a-a9cb-9635aa872805"
      },
      "execution_count": 12,
      "outputs": [
        {
          "output_type": "stream",
          "name": "stdout",
          "text": [
            "14\n"
          ]
        }
      ]
    },
    {
      "cell_type": "code",
      "source": [
        "3/2*4-5/2"
      ],
      "metadata": {
        "colab": {
          "base_uri": "https://localhost:8080/"
        },
        "id": "geXOeJ8it_RY",
        "outputId": "5fe30f57-aa02-4519-a28c-c4c9f203db6d"
      },
      "execution_count": 14,
      "outputs": [
        {
          "output_type": "execute_result",
          "data": {
            "text/plain": [
              "3.5"
            ]
          },
          "metadata": {},
          "execution_count": 14
        }
      ]
    },
    {
      "cell_type": "code",
      "source": [
        "(5*4-15) + ((5-2) * (9 -7)) #암산"
      ],
      "metadata": {
        "colab": {
          "base_uri": "https://localhost:8080/"
        },
        "id": "4MhK0eTfuQju",
        "outputId": "e4019514-ccd8-4b63-adf3-c05db2478bd5"
      },
      "execution_count": 15,
      "outputs": [
        {
          "output_type": "execute_result",
          "data": {
            "text/plain": [
              "11"
            ]
          },
          "metadata": {},
          "execution_count": 15
        }
      ]
    },
    {
      "cell_type": "markdown",
      "source": [
        "## type()\n",
        "- 함수 : 특정 기능을 수행하도록 만든 매직박스\n",
        " + 특정함수를 조건만 맞춰주면 동작\n",
        ""
      ],
      "metadata": {
        "id": "PXb4O3YVuwx4"
      }
    },
    {
      "cell_type": "markdown",
      "source": [
        "함수의종류\n",
        "- 내장(bulit-in)함수 : 파이썬 설치와 함께 제공하는 기본적인 함수\n",
        " + print(), type() <---대표적인 함수\n",
        " + 종류가 몇개인가요? -> 모름\n",
        " + 5주차~8주차 Documentation : 함수를 설명해주는 문서 보는 법 익힐 것 (영어)\n",
        "\n",
        "-라이브러리에서 제공하는 함수\n",
        " + R에서는 패키지\n",
        " + 파이썬에서는 라이브러리\n",
        " + 목적이 분명.\n",
        "   - 웹사이트를 개발 : 웹사이트와 관련된 라이브러리를 별도로 설치\n",
        "   - 통계분석 : 통계분석과 관련된 라이브러리를 별도 설치\n",
        "   - 시각화 : 시각화와 관련된 라이브러리를 별도 설치\n",
        "   - 게임개발 : 게임개발과 관련된 라이브러리를 별도 설치\n",
        "   - 수치연산 주요 라이브러리 : numpy(핵심), scipy"
      ],
      "metadata": {
        "id": "2xEao0S2zqiz"
      }
    },
    {
      "cell_type": "code",
      "source": [
        "# 파이썬에서는 정수를 어떻게 표현할까?\n",
        "# 파이썬에서는 실수를 어떻게 표현할까?\n",
        "print(type(3))"
      ],
      "metadata": {
        "colab": {
          "base_uri": "https://localhost:8080/"
        },
        "id": "20LVY7-9usI2",
        "outputId": "6f01cfdf-1bc8-4c73-981a-ca135467dddb"
      },
      "execution_count": 27,
      "outputs": [
        {
          "output_type": "stream",
          "name": "stdout",
          "text": [
            "<class 'int'>\n"
          ]
        }
      ]
    },
    {
      "cell_type": "code",
      "source": [
        "print(type(3.5))"
      ],
      "metadata": {
        "colab": {
          "base_uri": "https://localhost:8080/"
        },
        "id": "6fEc8GSou1nV",
        "outputId": "134e9c42-b7c4-46d5-987f-ad4615befe67"
      },
      "execution_count": 26,
      "outputs": [
        {
          "output_type": "stream",
          "name": "stdout",
          "text": [
            "<class 'float'>\n"
          ]
        }
      ]
    },
    {
      "cell_type": "code",
      "source": [
        "print(type(~~~)) #에러 상황"
      ],
      "metadata": {
        "colab": {
          "base_uri": "https://localhost:8080/",
          "height": 147
        },
        "id": "KMLMjHEAzSh-",
        "outputId": "2a550640-381c-41b8-d447-fbab08d72c12"
      },
      "execution_count": 19,
      "outputs": [
        {
          "output_type": "error",
          "ename": "SyntaxError",
          "evalue": "ignored",
          "traceback": [
            "\u001b[0;36m  File \u001b[0;32m\"<ipython-input-19-4204741c7bce>\"\u001b[0;36m, line \u001b[0;32m1\u001b[0m\n\u001b[0;31m    print(type(~~~))\u001b[0m\n\u001b[0m                  ^\u001b[0m\n\u001b[0;31mSyntaxError\u001b[0m\u001b[0;31m:\u001b[0m invalid syntax\n"
          ]
        }
      ]
    },
    {
      "cell_type": "markdown",
      "source": [
        "- 파이썬 객체지향 언어입니다."
      ],
      "metadata": {
        "id": "tuhIrWvS1x8I"
      }
    },
    {
      "cell_type": "markdown",
      "source": [
        "## 거듭 제곱과 나머지\n",
        "- 숫자 A를 N번 곱하는 거듭제곱(Power)\n",
        " + A는 밑, n을 지수라고 표현"
      ],
      "metadata": {
        "id": "rKK5tF4b2C8i"
      }
    },
    {
      "cell_type": "code",
      "source": [
        "2*2*2*2*2 #불편하잖아"
      ],
      "metadata": {
        "colab": {
          "base_uri": "https://localhost:8080/"
        },
        "id": "xXh5ECxR2U7b",
        "outputId": "3b406ff8-12a1-428a-ddfe-f0100683fba6"
      },
      "execution_count": 20,
      "outputs": [
        {
          "output_type": "execute_result",
          "data": {
            "text/plain": [
              "32"
            ]
          },
          "metadata": {},
          "execution_count": 20
        }
      ]
    },
    {
      "cell_type": "code",
      "source": [
        "2**5 #거듭제곱"
      ],
      "metadata": {
        "colab": {
          "base_uri": "https://localhost:8080/"
        },
        "id": "q4up9iuc2adg",
        "outputId": "d4688a57-a5a2-4771-da3e-25556f538006"
      },
      "execution_count": 25,
      "outputs": [
        {
          "output_type": "execute_result",
          "data": {
            "text/plain": [
              "32"
            ]
          },
          "metadata": {},
          "execution_count": 25
        }
      ]
    },
    {
      "cell_type": "markdown",
      "source": [
        "- 나머지 구하는 방법"
      ],
      "metadata": {
        "id": "UPibT3t22ohQ"
      }
    },
    {
      "cell_type": "code",
      "source": [
        "13 % 5 # 나머지"
      ],
      "metadata": {
        "colab": {
          "base_uri": "https://localhost:8080/"
        },
        "id": "-QLvjrQg2rHI",
        "outputId": "4de0f7c6-8d7a-4a3a-dc6a-200818354881"
      },
      "execution_count": 23,
      "outputs": [
        {
          "output_type": "execute_result",
          "data": {
            "text/plain": [
              "3"
            ]
          },
          "metadata": {},
          "execution_count": 23
        }
      ]
    },
    {
      "cell_type": "code",
      "source": [
        "# 몫을 구하고 싶음\n",
        "13 // 5"
      ],
      "metadata": {
        "colab": {
          "base_uri": "https://localhost:8080/"
        },
        "id": "Sam-bSHL2vcS",
        "outputId": "20690ad1-745a-43db-ead3-493fc8688ab0"
      },
      "execution_count": 24,
      "outputs": [
        {
          "output_type": "execute_result",
          "data": {
            "text/plain": [
              "2"
            ]
          },
          "metadata": {},
          "execution_count": 24
        }
      ]
    },
    {
      "cell_type": "markdown",
      "source": [
        "- 교재 표 3-1 (p34) 산술연산자 표 정리"
      ],
      "metadata": {
        "id": "fOQIZQ2z29l1"
      }
    },
    {
      "cell_type": "markdown",
      "source": [
        "## 과학적 표기법\n",
        "- 아주 큰 수, 작은 수를 다뤄야 하는 케이스\n",
        " + 빛은 초당 30만km\n",
        " + 단위를 m/s 표현하면, 300,000,000m/s\n",
        " + 3x10^8 로 표현해줘야하잖아 이게 과학적표기법(압축해서 표현)"
      ],
      "metadata": {
        "id": "Vp9yL1483dao"
      }
    },
    {
      "cell_type": "code",
      "source": [
        "3*10**8"
      ],
      "metadata": {
        "colab": {
          "base_uri": "https://localhost:8080/"
        },
        "id": "AqWpIKW44Llr",
        "outputId": "00684704-8bde-41fb-e556-68456ff98d40"
      },
      "execution_count": 28,
      "outputs": [
        {
          "output_type": "execute_result",
          "data": {
            "text/plain": [
              "300000000"
            ]
          },
          "metadata": {},
          "execution_count": 28
        }
      ]
    },
    {
      "cell_type": "code",
      "source": [
        "3e8 # e는 뭐지 이런형태를 과학적 표기법이라고 함"
      ],
      "metadata": {
        "colab": {
          "base_uri": "https://localhost:8080/"
        },
        "id": "CvFoZ4_I4N2J",
        "outputId": "423bbd45-e812-42d8-9c8c-193bd4a295bf"
      },
      "execution_count": 29,
      "outputs": [
        {
          "output_type": "execute_result",
          "data": {
            "text/plain": [
              "300000000.0"
            ]
          },
          "metadata": {},
          "execution_count": 29
        }
      ]
    },
    {
      "cell_type": "code",
      "source": [
        "3e-4"
      ],
      "metadata": {
        "colab": {
          "base_uri": "https://localhost:8080/"
        },
        "id": "upLAT8Zh4qZN",
        "outputId": "732f8537-1c48-4d16-9e8a-bb4e4e4c9ce2"
      },
      "execution_count": 30,
      "outputs": [
        {
          "output_type": "execute_result",
          "data": {
            "text/plain": [
              "0.0003"
            ]
          },
          "metadata": {},
          "execution_count": 30
        }
      ]
    },
    {
      "cell_type": "code",
      "source": [
        "1e-4"
      ],
      "metadata": {
        "colab": {
          "base_uri": "https://localhost:8080/"
        },
        "id": "1rQPCtco4rjQ",
        "outputId": "82afaf56-fee3-4c57-8b5e-0c543f5f65e1"
      },
      "execution_count": 31,
      "outputs": [
        {
          "output_type": "execute_result",
          "data": {
            "text/plain": [
              "0.0001"
            ]
          },
          "metadata": {},
          "execution_count": 31
        }
      ]
    },
    {
      "cell_type": "markdown",
      "source": [
        "## 진수 표현과 변환\n",
        "- 우리는 일상에서는 10진법 많이 씀\n",
        "- 60초가 1분이고, 60분이 1시간\n",
        "--> 엄밀히말하면 60진법\n",
        "- 오전12시간, 오후12시간 -> 12진법\n",
        "1년 12달, 12진법에 해당\n",
        "- 컴퓨터 프로그래밍, 숫자 0과 1로 이루어진 2진법 수행\n",
        "- 8진법 : 0~7까지의 숫자\n",
        "- 16진법 : 0~9, a,b,c,d,e,f\n"
      ],
      "metadata": {
        "id": "pX98t9KO5VY8"
      }
    },
    {
      "cell_type": "code",
      "source": [
        "17 # 10진법"
      ],
      "metadata": {
        "colab": {
          "base_uri": "https://localhost:8080/"
        },
        "id": "0BKjCr3a6KW-",
        "outputId": "a034c69b-b5a9-4da9-e699-5c7972037242"
      },
      "execution_count": 33,
      "outputs": [
        {
          "output_type": "execute_result",
          "data": {
            "text/plain": [
              "17"
            ]
          },
          "metadata": {},
          "execution_count": 33
        }
      ]
    },
    {
      "cell_type": "code",
      "source": [
        "0b10001 #2진법 이런게 되나보다 정도로만 생각"
      ],
      "metadata": {
        "colab": {
          "base_uri": "https://localhost:8080/"
        },
        "id": "obn9TMxZ6NkU",
        "outputId": "410fb26d-7a55-4534-c276-b8cb3412137c"
      },
      "execution_count": 35,
      "outputs": [
        {
          "output_type": "execute_result",
          "data": {
            "text/plain": [
              "17"
            ]
          },
          "metadata": {},
          "execution_count": 35
        }
      ]
    },
    {
      "cell_type": "code",
      "source": [
        "0o21 # 8진법"
      ],
      "metadata": {
        "colab": {
          "base_uri": "https://localhost:8080/"
        },
        "id": "gug7sRs66WZM",
        "outputId": "ee473213-d735-479c-f9d9-b3662567d100"
      },
      "execution_count": 36,
      "outputs": [
        {
          "output_type": "execute_result",
          "data": {
            "text/plain": [
              "17"
            ]
          },
          "metadata": {},
          "execution_count": 36
        }
      ]
    },
    {
      "cell_type": "code",
      "source": [
        "0x11 # 16진법"
      ],
      "metadata": {
        "colab": {
          "base_uri": "https://localhost:8080/"
        },
        "id": "XrXfx-Xt6bYd",
        "outputId": "39e2d79d-d483-456d-857a-6880cc31e8a3"
      },
      "execution_count": 37,
      "outputs": [
        {
          "output_type": "execute_result",
          "data": {
            "text/plain": [
              "17"
            ]
          },
          "metadata": {},
          "execution_count": 37
        }
      ]
    },
    {
      "cell_type": "markdown",
      "source": [
        "## 논리 연산 및 비교 연산\n",
        "- 참/거짓\n",
        "- 논리 연산을 잘 활용하는 것이 프로그래밍의 핵심\n"
      ],
      "metadata": {
        "id": "fP2uROG17HL-"
      }
    },
    {
      "cell_type": "code",
      "source": [
        "print(True)"
      ],
      "metadata": {
        "colab": {
          "base_uri": "https://localhost:8080/"
        },
        "id": "924MmyUv79W_",
        "outputId": "3b0f64cb-f985-4a36-c003-ec087eb52f84"
      },
      "execution_count": 40,
      "outputs": [
        {
          "output_type": "stream",
          "name": "stdout",
          "text": [
            "True\n"
          ]
        }
      ]
    },
    {
      "cell_type": "code",
      "source": [
        "print(False)"
      ],
      "metadata": {
        "colab": {
          "base_uri": "https://localhost:8080/"
        },
        "id": "pd-mGg428DHe",
        "outputId": "671fcc6a-d262-4934-d7e7-412a9c14d591"
      },
      "execution_count": 43,
      "outputs": [
        {
          "output_type": "stream",
          "name": "stdout",
          "text": [
            "False\n"
          ]
        }
      ]
    },
    {
      "cell_type": "code",
      "source": [
        "print(type(True))"
      ],
      "metadata": {
        "colab": {
          "base_uri": "https://localhost:8080/"
        },
        "id": "1bz9Q8-s8HBE",
        "outputId": "a9ee056b-608d-47a7-beab-9ce73074c991"
      },
      "execution_count": 42,
      "outputs": [
        {
          "output_type": "stream",
          "name": "stdout",
          "text": [
            "<class 'bool'>\n"
          ]
        }
      ]
    },
    {
      "cell_type": "markdown",
      "source": [
        "### 논리 연산자\n",
        "- and : A and B : A와 B 모두 참일 때 참\n",
        "- or : A or B : A와 B중 하나라도 참이면 참 , 둘 다 거짓일 때 거짓\n",
        "- not : not A : A가 참일 때 거짓, A가 거짓이면 참\n",
        "\n",
        "\n"
      ],
      "metadata": {
        "id": "xNVNkoIt8Vir"
      }
    },
    {
      "cell_type": "code",
      "source": [
        "# 교집합\n",
        "# True 또는 False 결과가 나오도록 조건식을 만들어야함\n",
        "print(True and True)\n",
        "print(True and False)\n",
        "print(False and True)\n",
        "print(False and False)"
      ],
      "metadata": {
        "colab": {
          "base_uri": "https://localhost:8080/"
        },
        "id": "qM5XKvCzBReJ",
        "outputId": "51d72b8f-4230-4c0e-ea04-d5594f4fc216"
      },
      "execution_count": 46,
      "outputs": [
        {
          "output_type": "stream",
          "name": "stdout",
          "text": [
            "True\n",
            "False\n",
            "False\n",
            "False\n"
          ]
        }
      ]
    },
    {
      "cell_type": "code",
      "source": [
        "# 합집합\n",
        "print(True or True)\n",
        "print(True or False)\n",
        "print(False or True)\n",
        "print(False or False)"
      ],
      "metadata": {
        "colab": {
          "base_uri": "https://localhost:8080/"
        },
        "id": "zRcJu3evBnXz",
        "outputId": "00ecb0bf-ff08-4456-91af-21630aca753f"
      },
      "execution_count": 47,
      "outputs": [
        {
          "output_type": "stream",
          "name": "stdout",
          "text": [
            "True\n",
            "True\n",
            "True\n",
            "False\n"
          ]
        }
      ]
    },
    {
      "cell_type": "code",
      "source": [
        "not False"
      ],
      "metadata": {
        "colab": {
          "base_uri": "https://localhost:8080/"
        },
        "id": "Mn2EvFh7CAEn",
        "outputId": "0edcb725-56b2-44a4-9159-3932f224aa5f"
      },
      "execution_count": 49,
      "outputs": [
        {
          "output_type": "execute_result",
          "data": {
            "text/plain": [
              "True"
            ]
          },
          "metadata": {},
          "execution_count": 49
        }
      ]
    },
    {
      "cell_type": "markdown",
      "source": [
        "### 비교연산자\n"
      ],
      "metadata": {
        "id": "-xlHZu_9CYvJ"
      }
    },
    {
      "cell_type": "code",
      "source": [
        "1 == 2\n",
        "# True 또는 False 결과가 나오도록 \"의도적\"으로 조건식을 만들어야함"
      ],
      "metadata": {
        "colab": {
          "base_uri": "https://localhost:8080/"
        },
        "id": "aWxzZfohCXhf",
        "outputId": "d9de201d-9f6f-4c69-a28e-a3530483bbce"
      },
      "execution_count": 51,
      "outputs": [
        {
          "output_type": "execute_result",
          "data": {
            "text/plain": [
              "False"
            ]
          },
          "metadata": {},
          "execution_count": 51
        }
      ]
    },
    {
      "cell_type": "code",
      "source": [
        "1 != 2 # a와 b는 같지 않다. \"!=\""
      ],
      "metadata": {
        "colab": {
          "base_uri": "https://localhost:8080/"
        },
        "id": "9SQLczmKDDyi",
        "outputId": "ccbf0886-f8a9-4e44-df2e-56d9555bbf76"
      },
      "execution_count": 54,
      "outputs": [
        {
          "output_type": "execute_result",
          "data": {
            "text/plain": [
              "True"
            ]
          },
          "metadata": {},
          "execution_count": 54
        }
      ]
    },
    {
      "cell_type": "code",
      "source": [
        "1 <=2 # a는 b보다 작거나 같다."
      ],
      "metadata": {
        "colab": {
          "base_uri": "https://localhost:8080/"
        },
        "id": "DC25bge-DPLZ",
        "outputId": "55e4d107-2f3a-45a7-8e58-f783dd79ef9f"
      },
      "execution_count": 55,
      "outputs": [
        {
          "output_type": "execute_result",
          "data": {
            "text/plain": [
              "True"
            ]
          },
          "metadata": {},
          "execution_count": 55
        }
      ]
    },
    {
      "cell_type": "code",
      "source": [
        "1 < 2 # a가 b보다 작다"
      ],
      "metadata": {
        "colab": {
          "base_uri": "https://localhost:8080/"
        },
        "id": "kueoRXAoDUE6",
        "outputId": "756cac43-9c97-4876-a2e0-98dda40b425d"
      },
      "execution_count": 56,
      "outputs": [
        {
          "output_type": "execute_result",
          "data": {
            "text/plain": [
              "True"
            ]
          },
          "metadata": {},
          "execution_count": 56
        }
      ]
    },
    {
      "cell_type": "code",
      "source": [
        "1 >= 2 # a가 b보다 크거나 같다"
      ],
      "metadata": {
        "colab": {
          "base_uri": "https://localhost:8080/"
        },
        "id": "8EdmPrb6DXzw",
        "outputId": "00a422b0-62d1-4b4a-b1c0-67a825359e29"
      },
      "execution_count": 58,
      "outputs": [
        {
          "output_type": "execute_result",
          "data": {
            "text/plain": [
              "False"
            ]
          },
          "metadata": {},
          "execution_count": 58
        }
      ]
    },
    {
      "cell_type": "code",
      "source": [
        "1 > 2 # a가 b보다 크다"
      ],
      "metadata": {
        "colab": {
          "base_uri": "https://localhost:8080/"
        },
        "id": "tcM8c5NpDdzr",
        "outputId": "09c11e95-9327-42c9-a955-b5e664845a83"
      },
      "execution_count": 59,
      "outputs": [
        {
          "output_type": "execute_result",
          "data": {
            "text/plain": [
              "False"
            ]
          },
          "metadata": {},
          "execution_count": 59
        }
      ]
    },
    {
      "cell_type": "code",
      "source": [
        "# 우리가 어떤식으로 만들건지는 하기 나름 실제 프로그래밍 할 떄는 부등호 연산자 논리연산자 이 도구를 통해\n",
        "어떤식으로 true와 false를 어떻게 해야 고민해"
      ],
      "metadata": {
        "id": "RxIIqrvPDh59"
      },
      "execution_count": null,
      "outputs": []
    },
    {
      "cell_type": "markdown",
      "source": [
        "###비교연산자+논리연산자"
      ],
      "metadata": {
        "id": "FgY0-Uh4D89o"
      }
    },
    {
      "cell_type": "code",
      "source": [
        "1 > 0 and -2 < 0 # 비교연산자(1순위) 논리연산자(2순위)"
      ],
      "metadata": {
        "colab": {
          "base_uri": "https://localhost:8080/"
        },
        "id": "jhigNLq9D-wD",
        "outputId": "a459d38b-3f18-4553-c685-f3a9cd19cfb3"
      },
      "execution_count": 60,
      "outputs": [
        {
          "output_type": "execute_result",
          "data": {
            "text/plain": [
              "True"
            ]
          },
          "metadata": {},
          "execution_count": 60
        }
      ]
    },
    {
      "cell_type": "code",
      "source": [
        "# 괄호안이 먼저 연산\n",
        "((3 < 0) and (-5 > 0)) and (1 > 5)"
      ],
      "metadata": {
        "colab": {
          "base_uri": "https://localhost:8080/"
        },
        "id": "9Eamlh5aEC40",
        "outputId": "e8564da4-0eed-43bf-f72e-3355080bda29"
      },
      "execution_count": 63,
      "outputs": [
        {
          "output_type": "execute_result",
          "data": {
            "text/plain": [
              "False"
            ]
          },
          "metadata": {},
          "execution_count": 63
        }
      ]
    },
    {
      "cell_type": "markdown",
      "source": [
        "# Chapter 4. 변수와 자료형"
      ],
      "metadata": {
        "id": "AH6InnpaooXP"
      }
    }
  ]
}