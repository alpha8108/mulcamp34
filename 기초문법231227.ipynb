{
  "nbformat": 4,
  "nbformat_minor": 0,
  "metadata": {
    "colab": {
      "provenance": [],
      "toc_visible": true,
      "authorship_tag": "ABX9TyMGgi4oOZEYXR1COG4vhYM8",
      "include_colab_link": true
    },
    "kernelspec": {
      "name": "python3",
      "display_name": "Python 3"
    },
    "language_info": {
      "name": "python"
    }
  },
  "cells": [
    {
      "cell_type": "markdown",
      "metadata": {
        "id": "view-in-github",
        "colab_type": "text"
      },
      "source": [
        "<a href=\"https://colab.research.google.com/github/alpha8108/mulcamp34/blob/main/%EA%B8%B0%EC%B4%88%EB%AC%B8%EB%B2%95231227.ipynb\" target=\"_parent\"><img src=\"https://colab.research.google.com/assets/colab-badge.svg\" alt=\"Open In Colab\"/></a>"
      ]
    },
    {
      "cell_type": "markdown",
      "source": [
        "# Chapter 3. 파이썬을 계산기처럼\n",
        "- 2015년~2016년 이전 : 국비교육 취업(Java 웹개발, 안드로이드 앱개발)\n",
        "- 미국, 데이터관련 얘기 이미 진행중이었음\n",
        "- 2015년, 지도교수님, R을 공부 추천 (교수님 말 무시)\n",
        "- 2016~17년 알파고\n",
        "- 2017년~2018년 국비교육 R 교육 매우 많음\n",
        "--> R이 분석용으로 매우 좋음 / 웹개발용으로 넘어가면 단점 부각\n",
        "- 회사에 가면, 여전히 수요는 웹이 높음\n",
        "- 파이썬이 왜 뜬 것이냐?\n",
        "----> 가장 큰 장점 : 범용성\n",
        "----> 데이터분석, 간단한 프로그램, 앱개발, 보안관련, 게임개발 가능\n"
      ],
      "metadata": {
        "id": "sQz4c5KQotJP"
      }
    },
    {
      "cell_type": "code",
      "source": [
        "1+1 # 정수"
      ],
      "metadata": {
        "colab": {
          "base_uri": "https://localhost:8080/"
        },
        "id": "Ke7enpayol69",
        "outputId": "1727bb60-0efa-4b13-b7e5-99c722aa0c93"
      },
      "execution_count": null,
      "outputs": [
        {
          "output_type": "execute_result",
          "data": {
            "text/plain": [
              "2"
            ]
          },
          "metadata": {},
          "execution_count": 1
        }
      ]
    },
    {
      "cell_type": "code",
      "source": [
        "5-2 # 정수 연산 결과값은 정수로 반환"
      ],
      "metadata": {
        "colab": {
          "base_uri": "https://localhost:8080/"
        },
        "id": "Bkh6Hxx-rXaV",
        "outputId": "ea1aa53b-2a50-4221-d246-0e9e51a39f67"
      },
      "execution_count": null,
      "outputs": [
        {
          "output_type": "execute_result",
          "data": {
            "text/plain": [
              "3"
            ]
          },
          "metadata": {},
          "execution_count": 2
        }
      ]
    },
    {
      "cell_type": "code",
      "source": [
        "5 -2"
      ],
      "metadata": {
        "colab": {
          "base_uri": "https://localhost:8080/"
        },
        "id": "habazwzgrY0G",
        "outputId": "e9d9a77a-99e1-4a24-8c26-c2a8defee6bd"
      },
      "execution_count": null,
      "outputs": [
        {
          "output_type": "execute_result",
          "data": {
            "text/plain": [
              "3"
            ]
          },
          "metadata": {},
          "execution_count": 4
        }
      ]
    },
    {
      "cell_type": "code",
      "source": [
        "15*2"
      ],
      "metadata": {
        "colab": {
          "base_uri": "https://localhost:8080/"
        },
        "id": "jvAqcxGyrgyp",
        "outputId": "0ef481d5-6dff-484b-f09c-b114a3bb6b94"
      },
      "execution_count": null,
      "outputs": [
        {
          "output_type": "execute_result",
          "data": {
            "text/plain": [
              "30"
            ]
          },
          "metadata": {},
          "execution_count": 6
        }
      ]
    },
    {
      "cell_type": "code",
      "source": [
        "10/2 # 정수 / 정수 ===> 반환값은 실수형으로 반환\n",
        "# 3.0 버전은 실수로 처리\n",
        "# 2.X 버전은 정수로 처리\n"
      ],
      "metadata": {
        "colab": {
          "base_uri": "https://localhost:8080/"
        },
        "id": "_txh7J34rql5",
        "outputId": "43ce2602-4c78-4ae5-c58a-73c4f3d0124f"
      },
      "execution_count": null,
      "outputs": [
        {
          "output_type": "execute_result",
          "data": {
            "text/plain": [
              "5.0"
            ]
          },
          "metadata": {},
          "execution_count": 8
        }
      ]
    },
    {
      "cell_type": "code",
      "source": [
        "print(1+2)\n",
        "print(2.1-1.3)"
      ],
      "metadata": {
        "colab": {
          "base_uri": "https://localhost:8080/"
        },
        "id": "VkXEDp3PtL-j",
        "outputId": "5d6e75f4-c7c1-47ca-a692-bca79b1661be"
      },
      "execution_count": null,
      "outputs": [
        {
          "output_type": "stream",
          "name": "stdout",
          "text": [
            "3\n",
            "0.8\n"
          ]
        }
      ]
    },
    {
      "cell_type": "markdown",
      "source": [
        "## 연산규칙\n",
        "- (1)괄호안 계산\n",
        "- (2)지수 계산\n",
        "- (3)곱셈과 나눗셈 계산\n",
        "- (4) 덧셈과 뺏셈 계산\n",
        "- (5) 같은 순위 연산이면, 왼쪽에서 오른쪽으로\n",
        "- (6) 중복된 괄호가 있을 경우, 안쪽에서부터 처리"
      ],
      "metadata": {
        "id": "iN1urX7FtVRR"
      }
    },
    {
      "cell_type": "code",
      "source": [
        "print(2 + 3 * 4) #프린트는 습관적으로 넣어주거나 확인하는 습관"
      ],
      "metadata": {
        "colab": {
          "base_uri": "https://localhost:8080/"
        },
        "id": "2UKeDpjAt2kE",
        "outputId": "730d5869-6573-475a-a9cb-9635aa872805"
      },
      "execution_count": null,
      "outputs": [
        {
          "output_type": "stream",
          "name": "stdout",
          "text": [
            "14\n"
          ]
        }
      ]
    },
    {
      "cell_type": "code",
      "source": [
        "3/2*4-5/2"
      ],
      "metadata": {
        "colab": {
          "base_uri": "https://localhost:8080/"
        },
        "id": "geXOeJ8it_RY",
        "outputId": "5fe30f57-aa02-4519-a28c-c4c9f203db6d"
      },
      "execution_count": null,
      "outputs": [
        {
          "output_type": "execute_result",
          "data": {
            "text/plain": [
              "3.5"
            ]
          },
          "metadata": {},
          "execution_count": 14
        }
      ]
    },
    {
      "cell_type": "code",
      "source": [
        "(5*4-15) + ((5-2) * (9 -7)) #암산"
      ],
      "metadata": {
        "colab": {
          "base_uri": "https://localhost:8080/"
        },
        "id": "4MhK0eTfuQju",
        "outputId": "e4019514-ccd8-4b63-adf3-c05db2478bd5"
      },
      "execution_count": null,
      "outputs": [
        {
          "output_type": "execute_result",
          "data": {
            "text/plain": [
              "11"
            ]
          },
          "metadata": {},
          "execution_count": 15
        }
      ]
    },
    {
      "cell_type": "markdown",
      "source": [
        "## type()\n",
        "- 함수 : 특정 기능을 수행하도록 만든 매직박스\n",
        " + 특정함수를 조건만 맞춰주면 동작\n"
      ],
      "metadata": {
        "id": "PXb4O3YVuwx4"
      }
    },
    {
      "cell_type": "markdown",
      "source": [
        "함수의종류\n",
        "- 내장(bulit-in)함수 : 파이썬 설치와 함께 제공하는 기본적인 함수\n",
        " + print(), type() <---대표적인 함수\n",
        " + 종류가 몇개인가요? -> 모름\n",
        " + 5주차~8주차 Documentation : 함수를 설명해주는 문서 보는 법 익힐 것 (영어)\n",
        "\n",
        "-라이브러리에서 제공하는 함수\n",
        " + R에서는 패키지\n",
        " + 파이썬에서는 라이브러리\n",
        " + 목적이 분명.\n",
        "   - 웹사이트를 개발 : 웹사이트와 관련된 라이브러리를 별도로 설치\n",
        "   - 통계분석 : 통계분석과 관련된 라이브러리를 별도 설치\n",
        "   - 시각화 : 시각화와 관련된 라이브러리를 별도 설치\n",
        "   - 게임개발 : 게임개발과 관련된 라이브러리를 별도 설치\n",
        "   - 수치연산 주요 라이브러리 : numpy(핵심), scipy"
      ],
      "metadata": {
        "id": "2xEao0S2zqiz"
      }
    },
    {
      "cell_type": "code",
      "source": [
        "# 파이썬에서는 정수를 어떻게 표현할까?\n",
        "# 파이썬에서는 실수를 어떻게 표현할까?\n",
        "print(type(3))"
      ],
      "metadata": {
        "colab": {
          "base_uri": "https://localhost:8080/"
        },
        "id": "20LVY7-9usI2",
        "outputId": "6f01cfdf-1bc8-4c73-981a-ca135467dddb"
      },
      "execution_count": null,
      "outputs": [
        {
          "output_type": "stream",
          "name": "stdout",
          "text": [
            "<class 'int'>\n"
          ]
        }
      ]
    },
    {
      "cell_type": "code",
      "source": [
        "print(type(3.5))"
      ],
      "metadata": {
        "colab": {
          "base_uri": "https://localhost:8080/"
        },
        "id": "6fEc8GSou1nV",
        "outputId": "134e9c42-b7c4-46d5-987f-ad4615befe67"
      },
      "execution_count": null,
      "outputs": [
        {
          "output_type": "stream",
          "name": "stdout",
          "text": [
            "<class 'float'>\n"
          ]
        }
      ]
    },
    {
      "cell_type": "code",
      "source": [
        "print(type(~~~)) #에러 상황"
      ],
      "metadata": {
        "colab": {
          "base_uri": "https://localhost:8080/",
          "height": 147
        },
        "id": "KMLMjHEAzSh-",
        "outputId": "2a550640-381c-41b8-d447-fbab08d72c12"
      },
      "execution_count": null,
      "outputs": [
        {
          "output_type": "error",
          "ename": "SyntaxError",
          "evalue": "ignored",
          "traceback": [
            "\u001b[0;36m  File \u001b[0;32m\"<ipython-input-19-4204741c7bce>\"\u001b[0;36m, line \u001b[0;32m1\u001b[0m\n\u001b[0;31m    print(type(~~~))\u001b[0m\n\u001b[0m                  ^\u001b[0m\n\u001b[0;31mSyntaxError\u001b[0m\u001b[0;31m:\u001b[0m invalid syntax\n"
          ]
        }
      ]
    },
    {
      "cell_type": "markdown",
      "source": [
        "- 파이썬 객체지향 언어입니다."
      ],
      "metadata": {
        "id": "tuhIrWvS1x8I"
      }
    },
    {
      "cell_type": "markdown",
      "source": [
        "## 거듭 제곱과 나머지\n",
        "- 숫자 A를 N번 곱하는 거듭제곱(Power)\n",
        " + A는 밑, n을 지수라고 표현"
      ],
      "metadata": {
        "id": "rKK5tF4b2C8i"
      }
    },
    {
      "cell_type": "code",
      "source": [
        "2*2*2*2*2 #불편하잖아"
      ],
      "metadata": {
        "colab": {
          "base_uri": "https://localhost:8080/"
        },
        "id": "xXh5ECxR2U7b",
        "outputId": "3b406ff8-12a1-428a-ddfe-f0100683fba6"
      },
      "execution_count": null,
      "outputs": [
        {
          "output_type": "execute_result",
          "data": {
            "text/plain": [
              "32"
            ]
          },
          "metadata": {},
          "execution_count": 20
        }
      ]
    },
    {
      "cell_type": "code",
      "source": [
        "2**5 #거듭제곱"
      ],
      "metadata": {
        "colab": {
          "base_uri": "https://localhost:8080/"
        },
        "id": "q4up9iuc2adg",
        "outputId": "d4688a57-a5a2-4771-da3e-25556f538006"
      },
      "execution_count": null,
      "outputs": [
        {
          "output_type": "execute_result",
          "data": {
            "text/plain": [
              "32"
            ]
          },
          "metadata": {},
          "execution_count": 25
        }
      ]
    },
    {
      "cell_type": "markdown",
      "source": [
        "- 나머지 구하는 방법"
      ],
      "metadata": {
        "id": "UPibT3t22ohQ"
      }
    },
    {
      "cell_type": "code",
      "source": [
        "13 % 5 # 나머지"
      ],
      "metadata": {
        "colab": {
          "base_uri": "https://localhost:8080/"
        },
        "id": "-QLvjrQg2rHI",
        "outputId": "4de0f7c6-8d7a-4a3a-dc6a-200818354881"
      },
      "execution_count": null,
      "outputs": [
        {
          "output_type": "execute_result",
          "data": {
            "text/plain": [
              "3"
            ]
          },
          "metadata": {},
          "execution_count": 23
        }
      ]
    },
    {
      "cell_type": "code",
      "source": [
        "# 몫을 구하고 싶음\n",
        "13 // 5"
      ],
      "metadata": {
        "colab": {
          "base_uri": "https://localhost:8080/"
        },
        "id": "Sam-bSHL2vcS",
        "outputId": "20690ad1-745a-43db-ead3-493fc8688ab0"
      },
      "execution_count": null,
      "outputs": [
        {
          "output_type": "execute_result",
          "data": {
            "text/plain": [
              "2"
            ]
          },
          "metadata": {},
          "execution_count": 24
        }
      ]
    },
    {
      "cell_type": "markdown",
      "source": [
        "- 교재 표 3-1 (p34) 산술연산자 표 정리"
      ],
      "metadata": {
        "id": "fOQIZQ2z29l1"
      }
    },
    {
      "cell_type": "markdown",
      "source": [
        "## 과학적 표기법\n",
        "- 아주 큰 수, 작은 수를 다뤄야 하는 케이스\n",
        " + 빛은 초당 30만km\n",
        " + 단위를 m/s 표현하면, 300,000,000m/s\n",
        " + 3x10^8 로 표현해줘야하잖아 이게 과학적표기법(압축해서 표현)"
      ],
      "metadata": {
        "id": "Vp9yL1483dao"
      }
    },
    {
      "cell_type": "code",
      "source": [
        "3*10**8"
      ],
      "metadata": {
        "colab": {
          "base_uri": "https://localhost:8080/"
        },
        "id": "AqWpIKW44Llr",
        "outputId": "00684704-8bde-41fb-e556-68456ff98d40"
      },
      "execution_count": null,
      "outputs": [
        {
          "output_type": "execute_result",
          "data": {
            "text/plain": [
              "300000000"
            ]
          },
          "metadata": {},
          "execution_count": 28
        }
      ]
    },
    {
      "cell_type": "code",
      "source": [
        "3e8 # e는 뭐지 이런형태를 과학적 표기법이라고 함"
      ],
      "metadata": {
        "colab": {
          "base_uri": "https://localhost:8080/"
        },
        "id": "CvFoZ4_I4N2J",
        "outputId": "423bbd45-e812-42d8-9c8c-193bd4a295bf"
      },
      "execution_count": null,
      "outputs": [
        {
          "output_type": "execute_result",
          "data": {
            "text/plain": [
              "300000000.0"
            ]
          },
          "metadata": {},
          "execution_count": 29
        }
      ]
    },
    {
      "cell_type": "code",
      "source": [
        "3e-4"
      ],
      "metadata": {
        "colab": {
          "base_uri": "https://localhost:8080/"
        },
        "id": "upLAT8Zh4qZN",
        "outputId": "732f8537-1c48-4d16-9e8a-bb4e4e4c9ce2"
      },
      "execution_count": null,
      "outputs": [
        {
          "output_type": "execute_result",
          "data": {
            "text/plain": [
              "0.0003"
            ]
          },
          "metadata": {},
          "execution_count": 30
        }
      ]
    },
    {
      "cell_type": "code",
      "source": [
        "1e-4"
      ],
      "metadata": {
        "colab": {
          "base_uri": "https://localhost:8080/"
        },
        "id": "1rQPCtco4rjQ",
        "outputId": "82afaf56-fee3-4c57-8b5e-0c543f5f65e1"
      },
      "execution_count": null,
      "outputs": [
        {
          "output_type": "execute_result",
          "data": {
            "text/plain": [
              "0.0001"
            ]
          },
          "metadata": {},
          "execution_count": 31
        }
      ]
    },
    {
      "cell_type": "markdown",
      "source": [
        "## 진수 표현과 변환\n",
        "- 우리는 일상에서는 10진법 많이 씀\n",
        "- 60초가 1분이고, 60분이 1시간\n",
        "--> 엄밀히말하면 60진법\n",
        "- 오전12시간, 오후12시간 -> 12진법\n",
        "1년 12달, 12진법에 해당\n",
        "- 컴퓨터 프로그래밍, 숫자 0과 1로 이루어진 2진법 수행\n",
        "- 8진법 : 0~7까지의 숫자\n",
        "- 16진법 : 0~9, a,b,c,d,e,f\n"
      ],
      "metadata": {
        "id": "pX98t9KO5VY8"
      }
    },
    {
      "cell_type": "code",
      "source": [
        "17 # 10진법"
      ],
      "metadata": {
        "colab": {
          "base_uri": "https://localhost:8080/"
        },
        "id": "0BKjCr3a6KW-",
        "outputId": "a034c69b-b5a9-4da9-e699-5c7972037242"
      },
      "execution_count": null,
      "outputs": [
        {
          "output_type": "execute_result",
          "data": {
            "text/plain": [
              "17"
            ]
          },
          "metadata": {},
          "execution_count": 33
        }
      ]
    },
    {
      "cell_type": "code",
      "source": [
        "0b10001 #2진법 이런게 되나보다 정도로만 생각"
      ],
      "metadata": {
        "colab": {
          "base_uri": "https://localhost:8080/"
        },
        "id": "obn9TMxZ6NkU",
        "outputId": "410fb26d-7a55-4534-c276-b8cb3412137c"
      },
      "execution_count": null,
      "outputs": [
        {
          "output_type": "execute_result",
          "data": {
            "text/plain": [
              "17"
            ]
          },
          "metadata": {},
          "execution_count": 35
        }
      ]
    },
    {
      "cell_type": "code",
      "source": [
        "0o21 # 8진법"
      ],
      "metadata": {
        "colab": {
          "base_uri": "https://localhost:8080/"
        },
        "id": "gug7sRs66WZM",
        "outputId": "ee473213-d735-479c-f9d9-b3662567d100"
      },
      "execution_count": null,
      "outputs": [
        {
          "output_type": "execute_result",
          "data": {
            "text/plain": [
              "17"
            ]
          },
          "metadata": {},
          "execution_count": 36
        }
      ]
    },
    {
      "cell_type": "code",
      "source": [
        "0x11 # 16진법"
      ],
      "metadata": {
        "colab": {
          "base_uri": "https://localhost:8080/"
        },
        "id": "XrXfx-Xt6bYd",
        "outputId": "39e2d79d-d483-456d-857a-6880cc31e8a3"
      },
      "execution_count": null,
      "outputs": [
        {
          "output_type": "execute_result",
          "data": {
            "text/plain": [
              "17"
            ]
          },
          "metadata": {},
          "execution_count": 37
        }
      ]
    },
    {
      "cell_type": "markdown",
      "source": [
        "## 논리 연산 및 비교 연산\n",
        "- 참/거짓\n",
        "- 논리 연산을 잘 활용하는 것이 프로그래밍의 핵심\n"
      ],
      "metadata": {
        "id": "fP2uROG17HL-"
      }
    },
    {
      "cell_type": "code",
      "source": [
        "print(True)"
      ],
      "metadata": {
        "colab": {
          "base_uri": "https://localhost:8080/"
        },
        "id": "924MmyUv79W_",
        "outputId": "3b0f64cb-f985-4a36-c003-ec087eb52f84"
      },
      "execution_count": null,
      "outputs": [
        {
          "output_type": "stream",
          "name": "stdout",
          "text": [
            "True\n"
          ]
        }
      ]
    },
    {
      "cell_type": "code",
      "source": [
        "print(False)"
      ],
      "metadata": {
        "colab": {
          "base_uri": "https://localhost:8080/"
        },
        "id": "pd-mGg428DHe",
        "outputId": "671fcc6a-d262-4934-d7e7-412a9c14d591"
      },
      "execution_count": null,
      "outputs": [
        {
          "output_type": "stream",
          "name": "stdout",
          "text": [
            "False\n"
          ]
        }
      ]
    },
    {
      "cell_type": "code",
      "source": [
        "print(type(True))"
      ],
      "metadata": {
        "colab": {
          "base_uri": "https://localhost:8080/"
        },
        "id": "1bz9Q8-s8HBE",
        "outputId": "a9ee056b-608d-47a7-beab-9ce73074c991"
      },
      "execution_count": null,
      "outputs": [
        {
          "output_type": "stream",
          "name": "stdout",
          "text": [
            "<class 'bool'>\n"
          ]
        }
      ]
    },
    {
      "cell_type": "markdown",
      "source": [
        "### 논리 연산자\n",
        "- and : A and B : A와 B 모두 참일 때 참\n",
        "- or : A or B : A와 B중 하나라도 참이면 참 , 둘 다 거짓일 때 거짓\n",
        "- not : not A : A가 참일 때 거짓, A가 거짓이면 참\n",
        "\n",
        "\n"
      ],
      "metadata": {
        "id": "xNVNkoIt8Vir"
      }
    },
    {
      "cell_type": "code",
      "source": [
        "# 교집합\n",
        "# True 또는 False 결과가 나오도록 조건식을 만들어야함\n",
        "print(True and True)\n",
        "print(True and False)\n",
        "print(False and True)\n",
        "print(False and False)"
      ],
      "metadata": {
        "colab": {
          "base_uri": "https://localhost:8080/"
        },
        "id": "qM5XKvCzBReJ",
        "outputId": "51d72b8f-4230-4c0e-ea04-d5594f4fc216"
      },
      "execution_count": null,
      "outputs": [
        {
          "output_type": "stream",
          "name": "stdout",
          "text": [
            "True\n",
            "False\n",
            "False\n",
            "False\n"
          ]
        }
      ]
    },
    {
      "cell_type": "code",
      "source": [
        "# 합집합\n",
        "print(True or True)\n",
        "print(True or False)\n",
        "print(False or True)\n",
        "print(False or False)"
      ],
      "metadata": {
        "colab": {
          "base_uri": "https://localhost:8080/"
        },
        "id": "zRcJu3evBnXz",
        "outputId": "00ecb0bf-ff08-4456-91af-21630aca753f"
      },
      "execution_count": null,
      "outputs": [
        {
          "output_type": "stream",
          "name": "stdout",
          "text": [
            "True\n",
            "True\n",
            "True\n",
            "False\n"
          ]
        }
      ]
    },
    {
      "cell_type": "code",
      "source": [
        "not False"
      ],
      "metadata": {
        "colab": {
          "base_uri": "https://localhost:8080/"
        },
        "id": "Mn2EvFh7CAEn",
        "outputId": "0edcb725-56b2-44a4-9159-3932f224aa5f"
      },
      "execution_count": null,
      "outputs": [
        {
          "output_type": "execute_result",
          "data": {
            "text/plain": [
              "True"
            ]
          },
          "metadata": {},
          "execution_count": 49
        }
      ]
    },
    {
      "cell_type": "markdown",
      "source": [
        "### 비교연산자\n"
      ],
      "metadata": {
        "id": "-xlHZu_9CYvJ"
      }
    },
    {
      "cell_type": "code",
      "source": [
        "1 == 2\n",
        "# True 또는 False 결과가 나오도록 \"의도적\"으로 조건식을 만들어야함"
      ],
      "metadata": {
        "colab": {
          "base_uri": "https://localhost:8080/"
        },
        "id": "aWxzZfohCXhf",
        "outputId": "d9de201d-9f6f-4c69-a28e-a3530483bbce"
      },
      "execution_count": null,
      "outputs": [
        {
          "output_type": "execute_result",
          "data": {
            "text/plain": [
              "False"
            ]
          },
          "metadata": {},
          "execution_count": 51
        }
      ]
    },
    {
      "cell_type": "code",
      "source": [
        "1 != 2 # a와 b는 같지 않다. \"!=\""
      ],
      "metadata": {
        "colab": {
          "base_uri": "https://localhost:8080/"
        },
        "id": "9SQLczmKDDyi",
        "outputId": "ccbf0886-f8a9-4e44-df2e-56d9555bbf76"
      },
      "execution_count": null,
      "outputs": [
        {
          "output_type": "execute_result",
          "data": {
            "text/plain": [
              "True"
            ]
          },
          "metadata": {},
          "execution_count": 54
        }
      ]
    },
    {
      "cell_type": "code",
      "source": [
        "1 <=2 # a는 b보다 작거나 같다."
      ],
      "metadata": {
        "colab": {
          "base_uri": "https://localhost:8080/"
        },
        "id": "DC25bge-DPLZ",
        "outputId": "55e4d107-2f3a-45a7-8e58-f783dd79ef9f"
      },
      "execution_count": null,
      "outputs": [
        {
          "output_type": "execute_result",
          "data": {
            "text/plain": [
              "True"
            ]
          },
          "metadata": {},
          "execution_count": 55
        }
      ]
    },
    {
      "cell_type": "code",
      "source": [
        "1 < 2 # a가 b보다 작다"
      ],
      "metadata": {
        "colab": {
          "base_uri": "https://localhost:8080/"
        },
        "id": "kueoRXAoDUE6",
        "outputId": "756cac43-9c97-4876-a2e0-98dda40b425d"
      },
      "execution_count": null,
      "outputs": [
        {
          "output_type": "execute_result",
          "data": {
            "text/plain": [
              "True"
            ]
          },
          "metadata": {},
          "execution_count": 56
        }
      ]
    },
    {
      "cell_type": "code",
      "source": [
        "1 >= 2 # a가 b보다 크거나 같다"
      ],
      "metadata": {
        "colab": {
          "base_uri": "https://localhost:8080/"
        },
        "id": "8EdmPrb6DXzw",
        "outputId": "00a422b0-62d1-4b4a-b1c0-67a825359e29"
      },
      "execution_count": null,
      "outputs": [
        {
          "output_type": "execute_result",
          "data": {
            "text/plain": [
              "False"
            ]
          },
          "metadata": {},
          "execution_count": 58
        }
      ]
    },
    {
      "cell_type": "code",
      "source": [
        "1 > 2 # a가 b보다 크다"
      ],
      "metadata": {
        "colab": {
          "base_uri": "https://localhost:8080/"
        },
        "id": "tcM8c5NpDdzr",
        "outputId": "09c11e95-9327-42c9-a955-b5e664845a83"
      },
      "execution_count": null,
      "outputs": [
        {
          "output_type": "execute_result",
          "data": {
            "text/plain": [
              "False"
            ]
          },
          "metadata": {},
          "execution_count": 59
        }
      ]
    },
    {
      "cell_type": "code",
      "source": [
        "# 우리가 어떤식으로 만들건지는 하기 나름 실제 프로그래밍 할 떄는 부등호 연산자 논리연산자 이 도구를 통해\n",
        "어떤식으로 true와 false를 어떻게 해야 고민해"
      ],
      "metadata": {
        "id": "RxIIqrvPDh59"
      },
      "execution_count": null,
      "outputs": []
    },
    {
      "cell_type": "markdown",
      "source": [
        "###비교연산자+논리연산자"
      ],
      "metadata": {
        "id": "FgY0-Uh4D89o"
      }
    },
    {
      "cell_type": "code",
      "source": [
        "1 > 0 and -2 < 0 # 비교연산자(1순위) 논리연산자(2순위)"
      ],
      "metadata": {
        "colab": {
          "base_uri": "https://localhost:8080/"
        },
        "id": "jhigNLq9D-wD",
        "outputId": "a459d38b-3f18-4553-c685-f3a9cd19cfb3"
      },
      "execution_count": null,
      "outputs": [
        {
          "output_type": "execute_result",
          "data": {
            "text/plain": [
              "True"
            ]
          },
          "metadata": {},
          "execution_count": 60
        }
      ]
    },
    {
      "cell_type": "code",
      "source": [
        "# 괄호안이 먼저 연산\n",
        "((3 < 0) and (-5 > 0)) and (1 > 5)"
      ],
      "metadata": {
        "colab": {
          "base_uri": "https://localhost:8080/"
        },
        "id": "9Eamlh5aEC40",
        "outputId": "e8564da4-0eed-43bf-f72e-3355080bda29"
      },
      "execution_count": null,
      "outputs": [
        {
          "output_type": "execute_result",
          "data": {
            "text/plain": [
              "False"
            ]
          },
          "metadata": {},
          "execution_count": 63
        }
      ]
    },
    {
      "cell_type": "markdown",
      "source": [
        "# Chapter 4. 변수와 자료형\n"
      ],
      "metadata": {
        "id": "AH6InnpaooXP"
      }
    },
    {
      "cell_type": "markdown",
      "source": [
        "# 변수(p.42)"
      ],
      "metadata": {
        "id": "dN6PHfQnfHqz"
      }
    },
    {
      "cell_type": "code",
      "source": [
        "#단순 계산기 처럼 쓸 수 있지만 실제론 변수를 사용한다."
      ],
      "metadata": {
        "id": "k1fl-eIzfJ6B"
      },
      "execution_count": null,
      "outputs": []
    },
    {
      "cell_type": "markdown",
      "source": [
        "변수명 = data\n",
        "코딩은 오른쪽에 있는 값을 변수에 할당"
      ],
      "metadata": {
        "id": "3ASbu2F7fdsa"
      }
    },
    {
      "cell_type": "code",
      "source": [
        "# 변수 : Variable, 데이터\n",
        "a = 1000\n",
        "b = 1110\n",
        "print(a)"
      ],
      "metadata": {
        "colab": {
          "base_uri": "https://localhost:8080/"
        },
        "id": "Db_QGOLnfQ8O",
        "outputId": "59f58507-ed21-4ad9-e4a2-76bc0ccb8a7a"
      },
      "execution_count": null,
      "outputs": [
        {
          "output_type": "stream",
          "name": "stdout",
          "text": [
            "1000\n"
          ]
        }
      ]
    },
    {
      "cell_type": "code",
      "source": [
        "print(a) #변수를 수정했으면 항상 실행해서 새로고침해라\n",
        "print(b)"
      ],
      "metadata": {
        "colab": {
          "base_uri": "https://localhost:8080/"
        },
        "id": "hezyyUECfqN_",
        "outputId": "dcf8a069-69e6-437c-a11d-5652c41a4ea4"
      },
      "execution_count": null,
      "outputs": [
        {
          "output_type": "stream",
          "name": "stdout",
          "text": [
            "1000\n",
            "1110\n"
          ]
        }
      ]
    },
    {
      "cell_type": "markdown",
      "source": [
        "### 변수명 짓기 규칙\n",
        "- snake, camel\n",
        "프로젝트할 때 정해놓고 시작하면 좋다."
      ],
      "metadata": {
        "id": "sKsMf31jgxky"
      }
    },
    {
      "cell_type": "code",
      "source": [
        "# snake\n",
        " num_a = 100\n",
        " num_b = 110\n",
        "\n",
        " # camel\n",
        " myStudent = \"evan\"\n",
        " mySchool = \"학교이름\"\n",
        "\n",
        "# 주의해야할 것\n",
        "#3star = \"이장군\" #앞에 숫자가 오면 안됨\n"
      ],
      "metadata": {
        "colab": {
          "base_uri": "https://localhost:8080/",
          "height": 147
        },
        "id": "-08CoJAmhBQL",
        "outputId": "8c8e1ef3-fb65-436c-8935-7d39f5c9e448"
      },
      "execution_count": null,
      "outputs": [
        {
          "output_type": "error",
          "ename": "IndentationError",
          "evalue": "ignored",
          "traceback": [
            "\u001b[0;36m  File \u001b[0;32m\"<ipython-input-6-bf61fc6467fc>\"\u001b[0;36m, line \u001b[0;32m2\u001b[0m\n\u001b[0;31m    num_a = 100\u001b[0m\n\u001b[0m    ^\u001b[0m\n\u001b[0;31mIndentationError\u001b[0m\u001b[0;31m:\u001b[0m unexpected indent\n"
          ]
        }
      ]
    },
    {
      "cell_type": "code",
      "source": [
        "print(num_a) #내장함수명을 변수명으로 만들면 안됨\n",
        "# print = 100"
      ],
      "metadata": {
        "colab": {
          "base_uri": "https://localhost:8080/",
          "height": 203
        },
        "id": "_16vetJOh0bm",
        "outputId": "936e088a-c05e-4900-a739-556f73b32fc3"
      },
      "execution_count": null,
      "outputs": [
        {
          "output_type": "error",
          "ename": "NameError",
          "evalue": "ignored",
          "traceback": [
            "\u001b[0;31m---------------------------------------------------------------------------\u001b[0m",
            "\u001b[0;31mNameError\u001b[0m                                 Traceback (most recent call last)",
            "\u001b[0;32m<ipython-input-76-009e72adc1b4>\u001b[0m in \u001b[0;36m<cell line: 1>\u001b[0;34m()\u001b[0m\n\u001b[0;32m----> 1\u001b[0;31m \u001b[0mprint\u001b[0m\u001b[0;34m(\u001b[0m\u001b[0mnum_a\u001b[0m\u001b[0;34m)\u001b[0m\u001b[0;34m\u001b[0m\u001b[0;34m\u001b[0m\u001b[0m\n\u001b[0m\u001b[1;32m      2\u001b[0m \u001b[0mprint\u001b[0m \u001b[0;34m=\u001b[0m \u001b[0;36m100\u001b[0m\u001b[0;34m\u001b[0m\u001b[0;34m\u001b[0m\u001b[0m\n",
            "\u001b[0;31mNameError\u001b[0m: name 'num_a' is not defined"
          ]
        }
      ]
    },
    {
      "cell_type": "code",
      "source": [
        "num = 1    #변수명은 대소문자를 구분한다\n",
        "Num = 100\n"
      ],
      "metadata": {
        "id": "8s7uz9fPikRB"
      },
      "execution_count": null,
      "outputs": []
    },
    {
      "cell_type": "code",
      "source": [
        "print(num)\n",
        "print(Num)"
      ],
      "metadata": {
        "colab": {
          "base_uri": "https://localhost:8080/"
        },
        "id": "EjxKA3PiiuMl",
        "outputId": "4b6ea9fe-0cd6-4c63-f276-4748fab3d679"
      },
      "execution_count": null,
      "outputs": [
        {
          "output_type": "stream",
          "name": "stdout",
          "text": [
            "1\n",
            "100\n"
          ]
        }
      ]
    },
    {
      "cell_type": "code",
      "source": [
        "my student = \"evan\" #변수명 작성시, 공백(띄어쓰기) 있으면 안됨"
      ],
      "metadata": {
        "id": "QqQ8ALQ-i_gh"
      },
      "execution_count": null,
      "outputs": []
    },
    {
      "cell_type": "markdown",
      "source": [
        "### 예약어는 변수명으로 이용할 수 없음\n",
        "- print, None, True, etc (교재오면 뭐있나 보삼 p45)\n",
        "-"
      ],
      "metadata": {
        "id": "K1tbZJlilFFD"
      }
    },
    {
      "cell_type": "markdown",
      "source": [
        "### 변수의 반대어 : 상수\n",
        "- 한번 지정 후, 변하지 않는 고정 값"
      ],
      "metadata": {
        "id": "DnCHMvcAlXBS"
      }
    },
    {
      "cell_type": "code",
      "source": [
        "# 상수 예시\n",
        "pi = 3.14"
      ],
      "metadata": {
        "id": "caCF9G9hldBK"
      },
      "execution_count": null,
      "outputs": []
    },
    {
      "cell_type": "code",
      "source": [
        "# 실제 변수를 만들어보기\n",
        "num1 = input(\"숫자를 입력해주세요!!\") # 얘는 input은 숫자를 입력해도 기본값은 문자열로 반환함\n",
        "num2 = input(\"숫자를 입력해주세요!!\")\n",
        "\n",
        "print(num1, num2)"
      ],
      "metadata": {
        "colab": {
          "base_uri": "https://localhost:8080/"
        },
        "id": "Pj1RfpXalnM7",
        "outputId": "6bfa4141-71b8-4d41-f5a1-bacffbe62eb9"
      },
      "execution_count": null,
      "outputs": [
        {
          "output_type": "stream",
          "name": "stdout",
          "text": [
            "숫자를 입력해주세요!!100\n",
            "숫자를 입력해주세요!!200\n",
            "100 200\n"
          ]
        }
      ]
    },
    {
      "cell_type": "code",
      "source": [
        "print(num1 + num2)"
      ],
      "metadata": {
        "colab": {
          "base_uri": "https://localhost:8080/"
        },
        "id": "D8PtvNmxsB1t",
        "outputId": "ea8503b1-37cf-4348-9823-0c9b1d085901"
      },
      "execution_count": null,
      "outputs": [
        {
          "output_type": "stream",
          "name": "stdout",
          "text": [
            "100200\n"
          ]
        }
      ]
    },
    {
      "cell_type": "code",
      "source": [
        "print(type(num1)) #< class 'str'> 문자열\n",
        "print(type(num2)) #< class 'str'> 문자열"
      ],
      "metadata": {
        "colab": {
          "base_uri": "https://localhost:8080/"
        },
        "id": "atbWCRpFsUu_",
        "outputId": "08d72d31-d1a9-4258-88a1-01a1785a372a"
      },
      "execution_count": null,
      "outputs": [
        {
          "output_type": "stream",
          "name": "stdout",
          "text": [
            "<class 'str'>\n"
          ]
        }
      ]
    },
    {
      "cell_type": "code",
      "source": [
        "# 하고 싶은 것 : 사칙연산\n",
        "# 해결방안 : 문자열 100을 숫자 100으로 변경 하면 될 것 같음\n",
        "# 코드를 찾기 (구글링)\n",
        "\n",
        "num_a = int(num1)\n",
        "num_b = int(num2)\n",
        "print(num_a + num_b)\n",
        "\n",
        "# string_num = \"42\"\n",
        "# int_num = int(string_num)\n",
        "# print(int_num)  # output: 42\n"
      ],
      "metadata": {
        "colab": {
          "base_uri": "https://localhost:8080/"
        },
        "id": "OeWLxklZs9r8",
        "outputId": "03e250e6-7cec-4d03-a3da-0e66c2109580"
      },
      "execution_count": null,
      "outputs": [
        {
          "output_type": "stream",
          "name": "stdout",
          "text": [
            "300\n"
          ]
        }
      ]
    },
    {
      "cell_type": "code",
      "source": [
        "# 프로그래밍에서 문자열로 표현하고 싶다!\n",
        " \"a\" or '1'"
      ],
      "metadata": {
        "id": "BF6j1XqYsEDs"
      },
      "execution_count": null,
      "outputs": []
    },
    {
      "cell_type": "markdown",
      "source": [
        "## 문자열\n",
        "- \"\" 또는 '' 쓴다.\n",
        "\n"
      ],
      "metadata": {
        "id": "HNLmVWjPxYXP"
      }
    },
    {
      "cell_type": "code",
      "source": [
        "# 작은 따옴표가 좀더 좋다 굳이 이야기하면. 프로젝트를 해보면 안다.\n",
        "\n",
        "greeting = 'Hello String'\n",
        "print(greeting)"
      ],
      "metadata": {
        "colab": {
          "base_uri": "https://localhost:8080/"
        },
        "id": "7C_8eihwxXm5",
        "outputId": "3dfa30ec-2f3f-48eb-b8b6-47976fde531e"
      },
      "execution_count": 17,
      "outputs": [
        {
          "output_type": "stream",
          "name": "stdout",
          "text": [
            "Hello String\n"
          ]
        }
      ]
    },
    {
      "cell_type": "code",
      "source": [
        "string3 = 'This is a \"double\" quotation test'\n",
        "print(string3)"
      ],
      "metadata": {
        "colab": {
          "base_uri": "https://localhost:8080/"
        },
        "id": "_UZ0RUtlyFkp",
        "outputId": "b7bcab35-8885-4fa1-afbf-78c3da682dda"
      },
      "execution_count": 18,
      "outputs": [
        {
          "output_type": "stream",
          "name": "stdout",
          "text": [
            "This is a \"double\" quotation test\n"
          ]
        }
      ]
    },
    {
      "cell_type": "code",
      "source": [
        "#삼중 따옴표\n",
        "long_string1 = '''\n",
        "문장이 긴 텍스트\n",
        "여러줄 쓸 수 있음\n",
        "이렇게 ㅋ\n",
        "하핫\n",
        "'''\n",
        "#큰따옴표 3개도 가능하다.\n",
        "print(long_string1)"
      ],
      "metadata": {
        "colab": {
          "base_uri": "https://localhost:8080/"
        },
        "id": "6zUrmciDyLxT",
        "outputId": "9cbbc254-c417-414d-a0ca-9cbdb643dc51"
      },
      "execution_count": 20,
      "outputs": [
        {
          "output_type": "stream",
          "name": "stdout",
          "text": [
            "\n",
            "문장이 긴 텍스트\n",
            "여러줄 쓸 수 있음 \n",
            "이렇게 ㅋ \n",
            "하핫\n",
            "\n"
          ]
        }
      ]
    },
    {
      "cell_type": "code",
      "source": [
        "a = 'Enjoy'\n",
        "b = 'Python!'\n",
        "print(a + b)"
      ],
      "metadata": {
        "colab": {
          "base_uri": "https://localhost:8080/"
        },
        "id": "puvl5wmHzBNJ",
        "outputId": "fd97f59e-4b3b-4d00-d553-b6ad042b2d43"
      },
      "execution_count": 21,
      "outputs": [
        {
          "output_type": "stream",
          "name": "stdout",
          "text": [
            "EnjoyPython!\n"
          ]
        }
      ]
    },
    {
      "cell_type": "code",
      "source": [
        "print(a*3)"
      ],
      "metadata": {
        "colab": {
          "base_uri": "https://localhost:8080/"
        },
        "id": "Grd8vDnw4Cas",
        "outputId": "33649987-9ae4-433d-dfa7-4e9107df4062"
      },
      "execution_count": 22,
      "outputs": [
        {
          "output_type": "stream",
          "name": "stdout",
          "text": [
            "EnjoyEnjoyEnjoy\n"
          ]
        }
      ]
    },
    {
      "cell_type": "markdown",
      "source": [
        "## 리스트 (List) (p.49)\n",
        "- 가장 중요한 자료형\n",
        "- 다른 프로그래밍 언어 배열(Array)\n",
        "- 예시\n",
        " + 1반의 과목별 수학 점수\n",
        "- 다중의 데이터를 묶는다"
      ],
      "metadata": {
        "id": "ystUxWOi4INa"
      }
    },
    {
      "cell_type": "code",
      "source": [
        "# 1번 학생의 국어, 영어, 수학, 과학\n",
        "student1 = [90, 95, 85, 80]\n",
        "student1"
      ],
      "metadata": {
        "colab": {
          "base_uri": "https://localhost:8080/"
        },
        "id": "L16VMWoh5EH7",
        "outputId": "efde42dc-82f3-44f0-822d-3bb1be49d613"
      },
      "execution_count": 24,
      "outputs": [
        {
          "output_type": "execute_result",
          "data": {
            "text/plain": [
              "[90, 95, 85, 80]"
            ]
          },
          "metadata": {},
          "execution_count": 24
        }
      ]
    },
    {
      "cell_type": "code",
      "source": [
        "print(type(student1))"
      ],
      "metadata": {
        "colab": {
          "base_uri": "https://localhost:8080/"
        },
        "id": "BV1JAo1b5Ljf",
        "outputId": "1730cd0c-6253-494b-8f40-05f0c7494f30"
      },
      "execution_count": 25,
      "outputs": [
        {
          "output_type": "stream",
          "name": "stdout",
          "text": [
            "<class 'list'>\n"
          ]
        }
      ]
    },
    {
      "cell_type": "markdown",
      "source": [
        "### 인덱싱(Indexsing)\n",
        "- 리스트에서 특정 데이터를 추출"
      ],
      "metadata": {
        "id": "LEisX0jj5sF0"
      }
    },
    {
      "cell_type": "code",
      "source": [
        "student1"
      ],
      "metadata": {
        "colab": {
          "base_uri": "https://localhost:8080/"
        },
        "id": "mNSpAlXZ59zF",
        "outputId": "70cf46b9-74a0-494a-9515-2ce86fd2d97d"
      },
      "execution_count": 26,
      "outputs": [
        {
          "output_type": "execute_result",
          "data": {
            "text/plain": [
              "[90, 95, 85, 80]"
            ]
          },
          "metadata": {},
          "execution_count": 26
        }
      ]
    },
    {
      "cell_type": "code",
      "source": [
        "print(student1[0]) # 숫자 0은 리스트의 첫번째 항목 의미\n",
        "print(student1[1])\n",
        "print(student1[2])\n",
        "print(student1[3])"
      ],
      "metadata": {
        "colab": {
          "base_uri": "https://localhost:8080/"
        },
        "id": "MCPYPhAZ5zw9",
        "outputId": "44301784-69e8-44c7-d7fc-4b062c71a780"
      },
      "execution_count": 29,
      "outputs": [
        {
          "output_type": "stream",
          "name": "stdout",
          "text": [
            "90\n",
            "95\n",
            "85\n",
            "80\n"
          ]
        }
      ]
    },
    {
      "cell_type": "code",
      "source": [
        "greeting = 'Hello, Python'\n",
        "print(greeting[7]) #파이썬에서 인덱싱 원리는 거의 똑같다."
      ],
      "metadata": {
        "colab": {
          "base_uri": "https://localhost:8080/"
        },
        "id": "IN0OUlb36kOs",
        "outputId": "bff01d6c-0719-4598-dad2-fe262a4ab9b4"
      },
      "execution_count": 33,
      "outputs": [
        {
          "output_type": "stream",
          "name": "stdout",
          "text": [
            "P\n"
          ]
        }
      ]
    },
    {
      "cell_type": "markdown",
      "source": [
        "### 리스트의 값 업데이트/수정/삭제"
      ],
      "metadata": {
        "id": "cb3Dli4q8Oyd"
      }
    },
    {
      "cell_type": "code",
      "source": [
        "student1[0] = 100 # 새로운 데이터 할당, 0번째 인덱스\n",
        "student1"
      ],
      "metadata": {
        "colab": {
          "base_uri": "https://localhost:8080/"
        },
        "id": "abQdveWv8Z5_",
        "outputId": "dcdc66d6-95b2-4051-d6e2-b4d7fbc394b1"
      },
      "execution_count": 35,
      "outputs": [
        {
          "output_type": "execute_result",
          "data": {
            "text/plain": [
              "[100, 95, 85, 80]"
            ]
          },
          "metadata": {},
          "execution_count": 35
        }
      ]
    },
    {
      "cell_type": "code",
      "source": [
        "# 문자열 덧셈 연산자 + 곱셈 연산자\n",
        "# 리스트에 적용\n",
        "\n",
        "myFriends = ['고광록', '차대근', '허범도', '나지민']\n",
        "newFriends = ['Kim']\n",
        "\n",
        "myFriends2 = myFriends + newFriends\n",
        "print(myFriends2)"
      ],
      "metadata": {
        "colab": {
          "base_uri": "https://localhost:8080/"
        },
        "id": "4U_SsEdx88jn",
        "outputId": "b0a98378-b05b-4896-890b-d3588c438570"
      },
      "execution_count": 38,
      "outputs": [
        {
          "output_type": "stream",
          "name": "stdout",
          "text": [
            "['고광록', '차대근', '허범도', '나지민', 'Kim']\n"
          ]
        }
      ]
    },
    {
      "cell_type": "code",
      "source": [
        "myNumbers = [1]\n",
        "myNumbers * 3"
      ],
      "metadata": {
        "colab": {
          "base_uri": "https://localhost:8080/"
        },
        "id": "jg4N2NAG-bDq",
        "outputId": "1ef6e44a-19e3-43a3-965d-b7ea720869e6"
      },
      "execution_count": 39,
      "outputs": [
        {
          "output_type": "execute_result",
          "data": {
            "text/plain": [
              "[1, 1, 1]"
            ]
          },
          "metadata": {},
          "execution_count": 39
        }
      ]
    },
    {
      "cell_type": "markdown",
      "source": [],
      "metadata": {
        "id": "w5MaQd2Aauiq"
      }
    },
    {
      "cell_type": "code",
      "source": [
        "#허범도, 허 추출\n",
        "# result = myFriends2[2]\n",
        "# result[0]  이건 코드가 비효율적 그래서 합친다\n",
        "myFriends2[2][0]"
      ],
      "metadata": {
        "colab": {
          "base_uri": "https://localhost:8080/",
          "height": 38
        },
        "id": "-V_inrd7_Xnb",
        "outputId": "cb989993-69db-473a-c84e-f97742a62b5d"
      },
      "execution_count": 42,
      "outputs": [
        {
          "output_type": "execute_result",
          "data": {
            "text/plain": [
              "'허'"
            ],
            "application/vnd.google.colaboratory.intrinsic+json": {
              "type": "string"
            }
          },
          "metadata": {},
          "execution_count": 42
        }
      ]
    },
    {
      "cell_type": "code",
      "source": [
        "mixed = [0, 2, 3.14, 'python', True, myFriends2]\n",
        "mixed [5][4][0] # 또는 mixed[-1][-1][0]  -1은 뒤에서 셈\n",
        "# 참고로 True에서 T를 뽑을 수 없다 문자열이 아니기 때문 마찬가지로 3.14도 인덱싱이 안된다.\n"
      ],
      "metadata": {
        "colab": {
          "base_uri": "https://localhost:8080/",
          "height": 38
        },
        "id": "lBfbuRmI_K2t",
        "outputId": "37310db2-10f8-45ec-a281-d40c633e2ea2"
      },
      "execution_count": 47,
      "outputs": [
        {
          "output_type": "execute_result",
          "data": {
            "text/plain": [
              "'K'"
            ],
            "application/vnd.google.colaboratory.intrinsic+json": {
              "type": "string"
            }
          },
          "metadata": {},
          "execution_count": 47
        }
      ]
    },
    {
      "cell_type": "markdown",
      "source": [
        "### 슬라이싱\n",
        "- 문자열, 리스트 그 외 파이썬 거의 대부분 자료형 원리 동일 적용"
      ],
      "metadata": {
        "id": "upNP-9FgF8Dh"
      }
    },
    {
      "cell_type": "code",
      "source": [
        "list_data = [0, 1, 2, 3, 4, 5, 6, 7, 8, 9]\n",
        "print(list_data)\n",
        "print(list_data[0:3]) # 시작인덱스: 끝인덱스-1 가져오는범위가 이렇게가져와짐 시작인덱스는0부터 끝인덱스는1부터세면 편할지도?\n",
        "#5까지 추출하려면?\n",
        "print(list_data[0:6])\n",
        "print(list_data[:6]) # 5번줄이랑 똑같음 방식은 자유 특징을 기억하라는 것\n",
        "print(list_data[4:]) # list_data[4:10] 중간부터 끝까지 가져오고 싶으면 시작인덱스만 쓰고 비워\n",
        "print(list_data[:]) # 모든 데이터 조회 / 2번줄보다는 좀더 프로그래밍틱하죠?\n",
        "print(list_data[::2]) # 짝수만 나온는데 (0퐁당1퐁당2) 퐁당이 두개씩이라는 거\n",
        "\n",
        "#슬라이싱은 간단하게 데이터를 절단한다는 느낌 반으로 뙇 이런거?"
      ],
      "metadata": {
        "colab": {
          "base_uri": "https://localhost:8080/"
        },
        "id": "klAKCjYoGFd8",
        "outputId": "299bc04b-9729-455b-f398-4630d1c6549c"
      },
      "execution_count": 57,
      "outputs": [
        {
          "output_type": "stream",
          "name": "stdout",
          "text": [
            "[0, 1, 2, 3, 4, 5, 6, 7, 8, 9]\n",
            "[0, 1, 2]\n",
            "[0, 1, 2, 3, 4, 5]\n",
            "[0, 1, 2, 3, 4, 5]\n",
            "[4, 5, 6, 7, 8, 9]\n",
            "[0, 1, 2, 3, 4, 5, 6, 7, 8, 9]\n",
            "[0, 2, 4, 6, 8]\n"
          ]
        }
      ]
    },
    {
      "cell_type": "code",
      "source": [
        "print(list_data[:])\n",
        "print(list_data[::2])\n",
        "print(list_data[::3])"
      ],
      "metadata": {
        "colab": {
          "base_uri": "https://localhost:8080/"
        },
        "id": "l-QIHhB-I-pZ",
        "outputId": "a0365a43-1c6b-4172-e2de-39175852c3e6"
      },
      "execution_count": 59,
      "outputs": [
        {
          "output_type": "stream",
          "name": "stdout",
          "text": [
            "[0, 1, 2, 3, 4, 5, 6, 7, 8, 9]\n",
            "[0, 2, 4, 6, 8]\n",
            "[0, 3, 6, 9]\n"
          ]
        }
      ]
    },
    {
      "cell_type": "code",
      "source": [
        "greeting = 'Hello, Python'\n",
        "# Hello만 추출\n",
        "print(greeting[0:5])"
      ],
      "metadata": {
        "colab": {
          "base_uri": "https://localhost:8080/"
        },
        "id": "Ql9q7MZDHYVw",
        "outputId": "fcf5ee23-bb77-4f2c-c858-f3a185bfdad7"
      },
      "execution_count": 52,
      "outputs": [
        {
          "output_type": "stream",
          "name": "stdout",
          "text": [
            "Hello\n"
          ]
        }
      ]
    },
    {
      "cell_type": "markdown",
      "source": [
        "## 튜플(Tuple)\n",
        "- 기초 문법이 중요함(면접 때도 종종 질문 받을 수 있다)\n",
        "- 취업 할 때의 모토 : 취직과 함께 퇴사를 준비하자! ㅋ\n",
        " + 경력직으로 대기업을 가보자!\n",
        "- 면접 첫 질문 : 파이썬에 List와 Tuple 이거 차이점이 뭔가요? (분석가는 tuple을 다룰 일이 거의 없음)\n",
        "대답을 못했다고 함\n",
        " + 면접 말림!\n",
        "\n",
        " -튜플은 리스트와 유사하다"
      ],
      "metadata": {
        "id": "06SgV4UhKYlh"
      }
    },
    {
      "cell_type": "code",
      "source": [
        "tuple1 = (1, 2, 3, 4)\n",
        "print(tuple1)\n",
        "print(type(tuple1))"
      ],
      "metadata": {
        "colab": {
          "base_uri": "https://localhost:8080/"
        },
        "id": "9g3TcPT8L9AW",
        "outputId": "41ce046c-f8c5-4fe0-e27d-60ee2cb44f3a"
      },
      "execution_count": 62,
      "outputs": [
        {
          "output_type": "stream",
          "name": "stdout",
          "text": [
            "(1, 2, 3, 4)\n",
            "<class 'tuple'>\n"
          ]
        }
      ]
    },
    {
      "cell_type": "markdown",
      "source": [
        "### 유사한 것\n",
        "-인덱싱과 슬라이싱이 동일, 문자열과 동일"
      ],
      "metadata": {
        "id": "Slr3s_z-MUCV"
      }
    },
    {
      "cell_type": "code",
      "source": [
        "tuple_data = (0, 1, 2, 3, 4, 5, 6, 7, 8, 9)\n",
        "tuple_data[3]\n"
      ],
      "metadata": {
        "colab": {
          "base_uri": "https://localhost:8080/"
        },
        "id": "GamQD-HZMW7-",
        "outputId": "6cc5fbeb-e2e9-4988-c256-0782b158e896"
      },
      "execution_count": 69,
      "outputs": [
        {
          "output_type": "execute_result",
          "data": {
            "text/plain": [
              "(0, 2, 4, 6, 8)"
            ]
          },
          "metadata": {},
          "execution_count": 69
        }
      ]
    },
    {
      "cell_type": "markdown",
      "source": [
        "### 차이점 (튜플 vs 리스트)\n",
        "-리스트는 수정, 삭제가 잘 됨\n",
        "\n",
        "-튜플은 수정, 삭제가 안 됨\n"
      ],
      "metadata": {
        "id": "wAvHkXXhNIQS"
      }
    },
    {
      "cell_type": "code",
      "source": [
        "l_data =[0, 1, 2, 3] #숫자 3 대신, 30으로 바꿔봄\n",
        "t_data =(0, 1, 2, 3) #숫자 3 대신, 30으로 바꿔보니 에러\n",
        "\n",
        "# l_data[3] = 30 얘는 됨\n",
        "# t_data[3] = 30 #item assignment  아이템 할당이 안된다는 뜻\n",
        "\n",
        "# del l_data[3] 얘는 됨\n",
        "# l_data\n",
        "\n",
        "# del t_data[3] #item deletion 삭제가 안된다는 뜻 (아이템은 괄호안에 숫자)\n",
        "# t_data"
      ],
      "metadata": {
        "colab": {
          "base_uri": "https://localhost:8080/",
          "height": 239
        },
        "id": "OZkFvp7uNNV8",
        "outputId": "f1405996-2e34-42e6-e049-fc36f639e18b"
      },
      "execution_count": 73,
      "outputs": [
        {
          "output_type": "error",
          "ename": "TypeError",
          "evalue": "ignored",
          "traceback": [
            "\u001b[0;31m---------------------------------------------------------------------------\u001b[0m",
            "\u001b[0;31mTypeError\u001b[0m                                 Traceback (most recent call last)",
            "\u001b[0;32m<ipython-input-73-58e69d4a2b64>\u001b[0m in \u001b[0;36m<cell line: 10>\u001b[0;34m()\u001b[0m\n\u001b[1;32m      8\u001b[0m \u001b[0;31m# l_data\u001b[0m\u001b[0;34m\u001b[0m\u001b[0;34m\u001b[0m\u001b[0m\n\u001b[1;32m      9\u001b[0m \u001b[0;34m\u001b[0m\u001b[0m\n\u001b[0;32m---> 10\u001b[0;31m \u001b[0;32mdel\u001b[0m \u001b[0mt_data\u001b[0m\u001b[0;34m[\u001b[0m\u001b[0;36m3\u001b[0m\u001b[0;34m]\u001b[0m\u001b[0;34m\u001b[0m\u001b[0;34m\u001b[0m\u001b[0m\n\u001b[0m\u001b[1;32m     11\u001b[0m \u001b[0mt_data\u001b[0m\u001b[0;34m\u001b[0m\u001b[0;34m\u001b[0m\u001b[0m\n",
            "\u001b[0;31mTypeError\u001b[0m: 'tuple' object doesn't support item deletion"
          ]
        }
      ]
    }
  ]
}