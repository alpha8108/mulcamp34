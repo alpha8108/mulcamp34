{
  "cells": [
    {
      "cell_type": "markdown",
      "metadata": {
        "id": "view-in-github",
        "colab_type": "text"
      },
      "source": [
        "<a href=\"https://colab.research.google.com/github/alpha8108/mulcamp34/blob/main/pandas_240104_Copy1.ipynb\" target=\"_parent\"><img src=\"https://colab.research.google.com/assets/colab-badge.svg\" alt=\"Open In Colab\"/></a>"
      ]
    },
    {
      "cell_type": "code",
      "execution_count": null,
      "id": "68066ea8-f9e9-47e7-9221-bb5b9ee002c3",
      "metadata": {
        "collapsed": true,
        "jupyter": {
          "outputs_hidden": true
        },
        "id": "68066ea8-f9e9-47e7-9221-bb5b9ee002c3",
        "outputId": "d313027a-4592-4b51-fb62-9771d9ff5103"
      },
      "outputs": [
        {
          "name": "stdout",
          "output_type": "stream",
          "text": [
            "Requirement already satisfied: pandas in c:\\users\\user\\appdata\\local\\programs\\python\\python312\\lib\\site-packages (2.1.4)\n",
            "Requirement already satisfied: numpy<2,>=1.26.0 in c:\\users\\user\\appdata\\local\\programs\\python\\python312\\lib\\site-packages (from pandas) (1.26.3)\n",
            "Requirement already satisfied: python-dateutil>=2.8.2 in c:\\users\\user\\appdata\\local\\programs\\python\\python312\\lib\\site-packages (from pandas) (2.8.2)\n",
            "Requirement already satisfied: pytz>=2020.1 in c:\\users\\user\\appdata\\local\\programs\\python\\python312\\lib\\site-packages (from pandas) (2023.3.post1)\n",
            "Requirement already satisfied: tzdata>=2022.1 in c:\\users\\user\\appdata\\local\\programs\\python\\python312\\lib\\site-packages (from pandas) (2023.4)\n",
            "Requirement already satisfied: six>=1.5 in c:\\users\\user\\appdata\\local\\programs\\python\\python312\\lib\\site-packages (from python-dateutil>=2.8.2->pandas) (1.16.0)\n"
          ]
        },
        {
          "name": "stderr",
          "output_type": "stream",
          "text": [
            "\n",
            "[notice] A new release of pip is available: 23.2.1 -> 23.3.2\n",
            "[notice] To update, run: python.exe -m pip install --upgrade pip\n"
          ]
        }
      ],
      "source": [
        "!pip install pandas"
      ]
    },
    {
      "cell_type": "code",
      "execution_count": null,
      "id": "6102f985-246c-49da-aad3-0999bb4383f2",
      "metadata": {
        "id": "6102f985-246c-49da-aad3-0999bb4383f2",
        "outputId": "d80233e8-5cd8-4069-d3be-14868f8ffbc2"
      },
      "outputs": [
        {
          "data": {
            "text/plain": [
              "'2.1.4'"
            ]
          },
          "execution_count": 6,
          "metadata": {},
          "output_type": "execute_result"
        }
      ],
      "source": [
        "import pandas as pd\n",
        "pd.__version__"
      ]
    },
    {
      "cell_type": "code",
      "execution_count": null,
      "id": "20b749a5-6839-4a71-942d-c216dbe4134f",
      "metadata": {
        "id": "20b749a5-6839-4a71-942d-c216dbe4134f"
      },
      "outputs": [],
      "source": [
        "!pip install seaborn"
      ]
    },
    {
      "cell_type": "markdown",
      "id": "75597e1c-213a-4551-8353-7e5c50beadde",
      "metadata": {
        "id": "75597e1c-213a-4551-8353-7e5c50beadde"
      },
      "source": [
        "p.237\n",
        "## pandas의 데이터 구조\n",
        "- Series 데이터 구조, 1차원 데이터 : 컬럼의 개수가 1개인 데이터\n",
        "- DateFrame 데이터 구조, 컬럼 개수가 여러개인 데이터"
      ]
    },
    {
      "cell_type": "code",
      "execution_count": null,
      "id": "ce9ac2df-202a-4549-a4cb-028a8b64af61",
      "metadata": {
        "id": "ce9ac2df-202a-4549-a4cb-028a8b64af61",
        "outputId": "8717c626-2c3c-4852-a222-62ed19933eb0"
      },
      "outputs": [
        {
          "data": {
            "text/plain": [
              "0    10\n",
              "1    20\n",
              "2    30\n",
              "3    40\n",
              "4    50\n",
              "dtype: int64"
            ]
          },
          "execution_count": 8,
          "metadata": {},
          "output_type": "execute_result"
        }
      ],
      "source": [
        "s1 = pd.Series([10, 20, 30, 40, 50])\n",
        "s1"
      ]
    },
    {
      "cell_type": "code",
      "execution_count": null,
      "id": "354a7e89-6e4e-4cd4-b198-7e59c63ff040",
      "metadata": {
        "id": "354a7e89-6e4e-4cd4-b198-7e59c63ff040",
        "outputId": "ff6b74cd-3a71-4718-d5dd-f9fed71cb319"
      },
      "outputs": [
        {
          "data": {
            "text/plain": [
              "RangeIndex(start=0, stop=5, step=1)"
            ]
          },
          "execution_count": 9,
          "metadata": {},
          "output_type": "execute_result"
        }
      ],
      "source": [
        "s1.index"
      ]
    },
    {
      "cell_type": "code",
      "execution_count": null,
      "id": "98fc1772-298b-471f-b927-45f84158e66e",
      "metadata": {
        "id": "98fc1772-298b-471f-b927-45f84158e66e",
        "outputId": "40522f0d-65f0-4361-e9e7-d98797ecfd16"
      },
      "outputs": [
        {
          "data": {
            "text/plain": [
              "array([10, 20, 30, 40, 50], dtype=int64)"
            ]
          },
          "execution_count": 10,
          "metadata": {},
          "output_type": "execute_result"
        }
      ],
      "source": [
        "s1.values"
      ]
    },
    {
      "cell_type": "markdown",
      "id": "3a29c652-ee58-45bd-987e-5d77d3a1bb2d",
      "metadata": {
        "id": "3a29c652-ee58-45bd-987e-5d77d3a1bb2d"
      },
      "source": [
        "위에 벨류 저거 numpy배열에서 나왔잖아 numpy를 복습하쟈 ㅎ (기본을 탄탄히)"
      ]
    },
    {
      "cell_type": "code",
      "execution_count": null,
      "id": "be758493-7080-423f-916b-1bea5747e07c",
      "metadata": {
        "id": "be758493-7080-423f-916b-1bea5747e07c",
        "outputId": "cea55c99-3e7a-4a7e-da30-2ef8f292d6e5"
      },
      "outputs": [
        {
          "data": {
            "text/plain": [
              "0    a\n",
              "1    b\n",
              "2    c\n",
              "3    1\n",
              "4    2\n",
              "5    3\n",
              "dtype: object"
            ]
          },
          "execution_count": 11,
          "metadata": {},
          "output_type": "execute_result"
        }
      ],
      "source": [
        "s1 = pd.Series(['a', 'b', 'c', 1, 2, 3])\n",
        "s1"
      ]
    },
    {
      "cell_type": "markdown",
      "id": "55030efc-d489-4a3c-95ed-56801ec1e405",
      "metadata": {
        "id": "55030efc-d489-4a3c-95ed-56801ec1e405"
      },
      "source": [
        "문자와 숫자가 같이있다고해서 에러가나는 건 아님. object가뭐냐\n",
        "문자로 처리하더라 이거임 숫자고 그냥 문자로 처리하는 것 일반적으로\n",
        "엄밀히말하면 문자는 아님 object라는 타입이 있는데 편하게 생각하면 그렇다."
      ]
    },
    {
      "cell_type": "code",
      "execution_count": null,
      "id": "d8416654-f8ca-4f3c-a8bf-5d7dbad5d6f3",
      "metadata": {
        "id": "d8416654-f8ca-4f3c-a8bf-5d7dbad5d6f3",
        "outputId": "2ea4b3cd-0524-4271-959e-0157b7ce15ff"
      },
      "outputs": [
        {
          "data": {
            "text/plain": [
              "0     NaN\n",
              "1    10.0\n",
              "2    30.0\n",
              "dtype: float64"
            ]
          },
          "execution_count": 13,
          "metadata": {},
          "output_type": "execute_result"
        }
      ],
      "source": [
        "import numpy as np\n",
        "\n",
        "s3 = pd.Series([np.nan, 10, 30]) # nan= 결측치(값이 비어있따), missing values\n",
        "s3"
      ]
    },
    {
      "cell_type": "code",
      "execution_count": null,
      "id": "ad1cf892-b7c2-4212-9479-60e493f664b8",
      "metadata": {
        "id": "ad1cf892-b7c2-4212-9479-60e493f664b8",
        "outputId": "d5f42df7-7154-423a-e3e5-4aec4d0ef82f"
      },
      "outputs": [
        {
          "data": {
            "text/plain": [
              "2018-10-07    200\n",
              "2018-10-08    195\n",
              "dtype: int64"
            ]
          },
          "execution_count": 15,
          "metadata": {},
          "output_type": "execute_result"
        }
      ],
      "source": [
        "index_date = ['2018-10-07', '2018-10-08'] #인덱스 지정\n",
        "s4 = pd.Series([200, 195], index = index_date)\n",
        "s4\n",
        "\n",
        "# index 설정의 기본 원칙은 중복이 되면 안된다. 코드 상으로는 중복은 허용하더라."
      ]
    },
    {
      "cell_type": "code",
      "execution_count": null,
      "id": "c0740f12-d218-48cc-9d47-1c7e17814939",
      "metadata": {
        "id": "c0740f12-d218-48cc-9d47-1c7e17814939",
        "outputId": "a025cbb3-ce67-4d9b-d698-63785ddd0ac5"
      },
      "outputs": [
        {
          "data": {
            "text/plain": [
              "국어    100\n",
              "영어     95\n",
              "dtype: int64"
            ]
          },
          "execution_count": 16,
          "metadata": {},
          "output_type": "execute_result"
        }
      ],
      "source": [
        "data_dict = {\n",
        "    '국어' : 100,\n",
        "    '영어' : 95\n",
        "}\n",
        "\n",
        "s5 = pd.Series(data_dict)\n",
        "s5 #데이터 생성한거임 불러오는 것은 아직 하지 않았다."
      ]
    },
    {
      "cell_type": "markdown",
      "id": "6dc562f2-4044-4714-b2e9-2f4e31c819ea",
      "metadata": {
        "id": "6dc562f2-4044-4714-b2e9-2f4e31c819ea"
      },
      "source": [
        "p.242\n",
        "## 날짜 데이터\n"
      ]
    },
    {
      "cell_type": "code",
      "execution_count": null,
      "id": "6c5461b9-a58e-4dc0-bc61-a8f9a36359e2",
      "metadata": {
        "id": "6c5461b9-a58e-4dc0-bc61-a8f9a36359e2",
        "outputId": "a8e39dfe-bf79-4172-c128-37d9039fa710"
      },
      "outputs": [
        {
          "data": {
            "text/plain": [
              "DatetimeIndex(['2024-01-01', '2024-01-02', '2024-01-03', '2024-01-04',\n",
              "               '2024-01-05', '2024-01-06', '2024-01-07'],\n",
              "              dtype='datetime64[ns]', freq='D')"
            ]
          },
          "execution_count": 17,
          "metadata": {},
          "output_type": "execute_result"
        }
      ],
      "source": [
        "pd.date_range(start='2024/01/01', end='2024.01.07') #p.242 (예제 참조)"
      ]
    },
    {
      "cell_type": "code",
      "execution_count": null,
      "id": "4e0e7627-3a74-406d-8177-e14562dbf5c6",
      "metadata": {
        "id": "4e0e7627-3a74-406d-8177-e14562dbf5c6",
        "outputId": "0dc3a875-e3cd-4625-a7cf-12e0b28dae47"
      },
      "outputs": [
        {
          "data": {
            "text/plain": [
              "DatetimeIndex(['2024-01-01', '2024-01-02', '2024-01-03', '2024-01-04',\n",
              "               '2024-01-05', '2024-01-06', '2024-01-07'],\n",
              "              dtype='datetime64[ns]', freq='D')"
            ]
          },
          "execution_count": 18,
          "metadata": {},
          "output_type": "execute_result"
        }
      ],
      "source": [
        "pd.date_range(start='2024/01/01', periods = 7) #end 쓰기도 귀찮아"
      ]
    },
    {
      "cell_type": "markdown",
      "id": "561087e7-6812-40ce-8679-5a9ebb4211c7",
      "metadata": {
        "id": "561087e7-6812-40ce-8679-5a9ebb4211c7"
      },
      "source": [
        "판다스는 메서드수가 기하급수적으로 늘어남. 변수도 마찬가지. 내가 만약에\n",
        "가까운 개념들이 궁금하다 싶으신 분들은\n",
        "pandas.date_range들어가서 메서드 설명 보라. https://pandas.pydata.org/docs/reference/api/pandas.date_range.html\n",
        "판다스는 메서드 보는거 능력 키워야함 특히\n",
        "각각에 해당되는 것들이 반복문써서 지지고 볶고하는게\n",
        "사실 이미 메서드에 녹여져있는 케이스도 많다.\n",
        "파라미터(매개변수) 이런것도 잘 읽어서 공부해서\n",
        "이거 이용해서 문제해결하려고 코드 익히는게 큰 도움이 됨."
      ]
    },
    {
      "cell_type": "code",
      "execution_count": null,
      "id": "a2f5d4b5-c0bf-4005-aea3-a2d373b048c5",
      "metadata": {
        "id": "a2f5d4b5-c0bf-4005-aea3-a2d373b048c5",
        "outputId": "8a01a777-fab3-44c1-ae37-308afed75f7e"
      },
      "outputs": [
        {
          "data": {
            "text/plain": [
              "DatetimeIndex(['2024-01-01', '2024-01-03', '2024-01-05', '2024-01-07'], dtype='datetime64[ns]', freq='2D')"
            ]
          },
          "execution_count": 19,
          "metadata": {},
          "output_type": "execute_result"
        }
      ],
      "source": [
        "pd.date_range(start='2024/01/01', periods = 4, freq = '2D') #날짜 텀 지정"
      ]
    },
    {
      "cell_type": "markdown",
      "id": "da8b6f68-a28c-44c0-b788-eea664c7f735",
      "metadata": {
        "id": "da8b6f68-a28c-44c0-b788-eea664c7f735"
      },
      "source": [
        "#시간대도 지정 가능 #교재보면 비슷한 예제인데 매개변수에대한 의미\n",
        "#그리고 옵션을 어떻게 할 것인지 freq 이것만 알아도 외우려고하지말고\n",
        "#어딘가에 참조할만한 링크만 걸어놔\n",
        "\n",
        "pd.date_range(start='2024-01-01 08:00', periods = 4, freq = 'H')"
      ]
    },
    {
      "cell_type": "markdown",
      "id": "9fbc3fc3-399c-4932-8ce0-ab1cae26c986",
      "metadata": {
        "id": "9fbc3fc3-399c-4932-8ce0-ab1cae26c986"
      },
      "source": [
        "## DateFrame을 활용한 데이터 생성"
      ]
    },
    {
      "cell_type": "code",
      "execution_count": null,
      "id": "80371855-96e6-4cbd-8c6b-5095663cf73c",
      "metadata": {
        "id": "80371855-96e6-4cbd-8c6b-5095663cf73c",
        "outputId": "ec712283-4716-4158-dfee-aeeb4008f43d"
      },
      "outputs": [
        {
          "data": {
            "text/plain": [
              "'0.13.1'"
            ]
          },
          "execution_count": 23,
          "metadata": {},
          "output_type": "execute_result"
        }
      ],
      "source": [
        "import seaborn as sns # 시각화 라이브러리 (통계 시각화)\n",
        "\n",
        "sns.__version__"
      ]
    },
    {
      "cell_type": "code",
      "execution_count": null,
      "id": "f24bd4df-7faf-4bd8-89a0-4920a6af8492",
      "metadata": {
        "id": "f24bd4df-7faf-4bd8-89a0-4920a6af8492",
        "outputId": "d0c8c2b6-403e-49bb-d4de-fea1f8eb8593"
      },
      "outputs": [
        {
          "data": {
            "text/plain": [
              "['anagrams',\n",
              " 'anscombe',\n",
              " 'attention',\n",
              " 'brain_networks',\n",
              " 'car_crashes',\n",
              " 'diamonds',\n",
              " 'dots',\n",
              " 'dowjones',\n",
              " 'exercise',\n",
              " 'flights',\n",
              " 'fmri',\n",
              " 'geyser',\n",
              " 'glue',\n",
              " 'healthexp',\n",
              " 'iris',\n",
              " 'mpg',\n",
              " 'penguins',\n",
              " 'planets',\n",
              " 'seaice',\n",
              " 'taxis',\n",
              " 'tips',\n",
              " 'titanic']"
            ]
          },
          "execution_count": 24,
          "metadata": {},
          "output_type": "execute_result"
        }
      ],
      "source": [
        "sns.get_dataset_names() #데이터 셋이라 생각행"
      ]
    },
    {
      "cell_type": "code",
      "execution_count": null,
      "id": "9222bc4d-59a9-4a69-8ea6-bb352617cfe7",
      "metadata": {
        "id": "9222bc4d-59a9-4a69-8ea6-bb352617cfe7",
        "outputId": "9e4344a5-556b-4167-98fb-0451a51905d7"
      },
      "outputs": [
        {
          "data": {
            "text/html": [
              "<div>\n",
              "<style scoped>\n",
              "    .dataframe tbody tr th:only-of-type {\n",
              "        vertical-align: middle;\n",
              "    }\n",
              "\n",
              "    .dataframe tbody tr th {\n",
              "        vertical-align: top;\n",
              "    }\n",
              "\n",
              "    .dataframe thead th {\n",
              "        text-align: right;\n",
              "    }\n",
              "</style>\n",
              "<table border=\"1\" class=\"dataframe\">\n",
              "  <thead>\n",
              "    <tr style=\"text-align: right;\">\n",
              "      <th></th>\n",
              "      <th>sepal_length</th>\n",
              "      <th>sepal_width</th>\n",
              "      <th>petal_length</th>\n",
              "      <th>petal_width</th>\n",
              "      <th>species</th>\n",
              "    </tr>\n",
              "  </thead>\n",
              "  <tbody>\n",
              "    <tr>\n",
              "      <th>0</th>\n",
              "      <td>5.1</td>\n",
              "      <td>3.5</td>\n",
              "      <td>1.4</td>\n",
              "      <td>0.2</td>\n",
              "      <td>setosa</td>\n",
              "    </tr>\n",
              "    <tr>\n",
              "      <th>1</th>\n",
              "      <td>4.9</td>\n",
              "      <td>3.0</td>\n",
              "      <td>1.4</td>\n",
              "      <td>0.2</td>\n",
              "      <td>setosa</td>\n",
              "    </tr>\n",
              "    <tr>\n",
              "      <th>2</th>\n",
              "      <td>4.7</td>\n",
              "      <td>3.2</td>\n",
              "      <td>1.3</td>\n",
              "      <td>0.2</td>\n",
              "      <td>setosa</td>\n",
              "    </tr>\n",
              "    <tr>\n",
              "      <th>3</th>\n",
              "      <td>4.6</td>\n",
              "      <td>3.1</td>\n",
              "      <td>1.5</td>\n",
              "      <td>0.2</td>\n",
              "      <td>setosa</td>\n",
              "    </tr>\n",
              "    <tr>\n",
              "      <th>4</th>\n",
              "      <td>5.0</td>\n",
              "      <td>3.6</td>\n",
              "      <td>1.4</td>\n",
              "      <td>0.2</td>\n",
              "      <td>setosa</td>\n",
              "    </tr>\n",
              "    <tr>\n",
              "      <th>...</th>\n",
              "      <td>...</td>\n",
              "      <td>...</td>\n",
              "      <td>...</td>\n",
              "      <td>...</td>\n",
              "      <td>...</td>\n",
              "    </tr>\n",
              "    <tr>\n",
              "      <th>145</th>\n",
              "      <td>6.7</td>\n",
              "      <td>3.0</td>\n",
              "      <td>5.2</td>\n",
              "      <td>2.3</td>\n",
              "      <td>virginica</td>\n",
              "    </tr>\n",
              "    <tr>\n",
              "      <th>146</th>\n",
              "      <td>6.3</td>\n",
              "      <td>2.5</td>\n",
              "      <td>5.0</td>\n",
              "      <td>1.9</td>\n",
              "      <td>virginica</td>\n",
              "    </tr>\n",
              "    <tr>\n",
              "      <th>147</th>\n",
              "      <td>6.5</td>\n",
              "      <td>3.0</td>\n",
              "      <td>5.2</td>\n",
              "      <td>2.0</td>\n",
              "      <td>virginica</td>\n",
              "    </tr>\n",
              "    <tr>\n",
              "      <th>148</th>\n",
              "      <td>6.2</td>\n",
              "      <td>3.4</td>\n",
              "      <td>5.4</td>\n",
              "      <td>2.3</td>\n",
              "      <td>virginica</td>\n",
              "    </tr>\n",
              "    <tr>\n",
              "      <th>149</th>\n",
              "      <td>5.9</td>\n",
              "      <td>3.0</td>\n",
              "      <td>5.1</td>\n",
              "      <td>1.8</td>\n",
              "      <td>virginica</td>\n",
              "    </tr>\n",
              "  </tbody>\n",
              "</table>\n",
              "<p>150 rows × 5 columns</p>\n",
              "</div>"
            ],
            "text/plain": [
              "     sepal_length  sepal_width  petal_length  petal_width    species\n",
              "0             5.1          3.5           1.4          0.2     setosa\n",
              "1             4.9          3.0           1.4          0.2     setosa\n",
              "2             4.7          3.2           1.3          0.2     setosa\n",
              "3             4.6          3.1           1.5          0.2     setosa\n",
              "4             5.0          3.6           1.4          0.2     setosa\n",
              "..            ...          ...           ...          ...        ...\n",
              "145           6.7          3.0           5.2          2.3  virginica\n",
              "146           6.3          2.5           5.0          1.9  virginica\n",
              "147           6.5          3.0           5.2          2.0  virginica\n",
              "148           6.2          3.4           5.4          2.3  virginica\n",
              "149           5.9          3.0           5.1          1.8  virginica\n",
              "\n",
              "[150 rows x 5 columns]"
            ]
          },
          "execution_count": 26,
          "metadata": {},
          "output_type": "execute_result"
        }
      ],
      "source": [
        "#데이터 프레임 불러올껀디 잘봐 #판다스 샘플데이터는 이렇게 불러오면 된다.\n",
        "iris = sns.load_dataset('iris')\n",
        "iris"
      ]
    },
    {
      "cell_type": "code",
      "execution_count": null,
      "id": "b4af47d2-5716-4e55-85e8-6c5c0141a1da",
      "metadata": {
        "id": "b4af47d2-5716-4e55-85e8-6c5c0141a1da",
        "outputId": "ac2442ab-cb99-4cf3-c87c-7e44e97f23c1"
      },
      "outputs": [
        {
          "data": {
            "text/plain": [
              "{'연도': [2015, 2016, 2016, 2017, 2017],\n",
              " '지사': ['한국', '한국', '미국', '한국', '미국'],\n",
              " '고객 수': [200, 250, 450, 300, 500]}"
            ]
          },
          "execution_count": 27,
          "metadata": {},
          "output_type": "execute_result"
        }
      ],
      "source": [
        "# p247 여기는 참고만\n",
        "# p249 와강튼 딕셔너리 스타일을 좋아함 (그래도 다른거 타이핑 해보고 넘어가셈)\n",
        "# 입문 시 괄호 자동완성은 일단 비추 실무에서부터 자동완성 추천\n",
        "\n",
        "table_data = {\n",
        "    '연도' : [2015, 2016, 2016, 2017, 2017], #키값이 컬럼으로, 리스트가 각각의 데이터값이된것\n",
        "    '지사' : ['한국', '한국', '미국', '한국', '미국'],\n",
        "    '고객 수' : [200, 250, 450, 300, 500]\n",
        "}\n",
        "\n",
        "table_data"
      ]
    },
    {
      "cell_type": "code",
      "execution_count": null,
      "id": "aabb88bf-de3a-4b52-92df-de75fc59ee04",
      "metadata": {
        "id": "aabb88bf-de3a-4b52-92df-de75fc59ee04",
        "outputId": "c7ac290c-499b-4709-862c-a320bd6f3b56"
      },
      "outputs": [
        {
          "data": {
            "text/html": [
              "<div>\n",
              "<style scoped>\n",
              "    .dataframe tbody tr th:only-of-type {\n",
              "        vertical-align: middle;\n",
              "    }\n",
              "\n",
              "    .dataframe tbody tr th {\n",
              "        vertical-align: top;\n",
              "    }\n",
              "\n",
              "    .dataframe thead th {\n",
              "        text-align: right;\n",
              "    }\n",
              "</style>\n",
              "<table border=\"1\" class=\"dataframe\">\n",
              "  <thead>\n",
              "    <tr style=\"text-align: right;\">\n",
              "      <th></th>\n",
              "      <th>연도</th>\n",
              "      <th>지사</th>\n",
              "      <th>고객 수</th>\n",
              "    </tr>\n",
              "  </thead>\n",
              "  <tbody>\n",
              "    <tr>\n",
              "      <th>0</th>\n",
              "      <td>2015</td>\n",
              "      <td>한국</td>\n",
              "      <td>200</td>\n",
              "    </tr>\n",
              "    <tr>\n",
              "      <th>1</th>\n",
              "      <td>2016</td>\n",
              "      <td>한국</td>\n",
              "      <td>250</td>\n",
              "    </tr>\n",
              "    <tr>\n",
              "      <th>2</th>\n",
              "      <td>2016</td>\n",
              "      <td>미국</td>\n",
              "      <td>450</td>\n",
              "    </tr>\n",
              "    <tr>\n",
              "      <th>3</th>\n",
              "      <td>2017</td>\n",
              "      <td>한국</td>\n",
              "      <td>300</td>\n",
              "    </tr>\n",
              "    <tr>\n",
              "      <th>4</th>\n",
              "      <td>2017</td>\n",
              "      <td>미국</td>\n",
              "      <td>500</td>\n",
              "    </tr>\n",
              "  </tbody>\n",
              "</table>\n",
              "</div>"
            ],
            "text/plain": [
              "     연도  지사  고객 수\n",
              "0  2015  한국   200\n",
              "1  2016  한국   250\n",
              "2  2016  미국   450\n",
              "3  2017  한국   300\n",
              "4  2017  미국   500"
            ]
          },
          "execution_count": 28,
          "metadata": {},
          "output_type": "execute_result"
        }
      ],
      "source": [
        "pd.DataFrame(table_data) # 강사가 선호하는 방법 / 딕셔너리형태"
      ]
    },
    {
      "cell_type": "code",
      "execution_count": null,
      "id": "5ebcc4b3-df12-46bc-95d3-34671880b62b",
      "metadata": {
        "collapsed": true,
        "jupyter": {
          "outputs_hidden": true
        },
        "id": "5ebcc4b3-df12-46bc-95d3-34671880b62b",
        "outputId": "9e9bd870-00af-40e3-d4fb-017262e6207b"
      },
      "outputs": [
        {
          "data": {
            "text/html": [
              "<div>\n",
              "<style scoped>\n",
              "    .dataframe tbody tr th:only-of-type {\n",
              "        vertical-align: middle;\n",
              "    }\n",
              "\n",
              "    .dataframe tbody tr th {\n",
              "        vertical-align: top;\n",
              "    }\n",
              "\n",
              "    .dataframe thead th {\n",
              "        text-align: right;\n",
              "    }\n",
              "</style>\n",
              "<table border=\"1\" class=\"dataframe\">\n",
              "  <thead>\n",
              "    <tr style=\"text-align: right;\">\n",
              "      <th></th>\n",
              "      <th>연도</th>\n",
              "      <th>지사</th>\n",
              "      <th>고객 수</th>\n",
              "    </tr>\n",
              "  </thead>\n",
              "  <tbody>\n",
              "    <tr>\n",
              "      <th>0</th>\n",
              "      <td>2015</td>\n",
              "      <td>한국</td>\n",
              "      <td>200</td>\n",
              "    </tr>\n",
              "    <tr>\n",
              "      <th>1</th>\n",
              "      <td>2016</td>\n",
              "      <td>한국</td>\n",
              "      <td>250</td>\n",
              "    </tr>\n",
              "    <tr>\n",
              "      <th>2</th>\n",
              "      <td>2016</td>\n",
              "      <td>미국</td>\n",
              "      <td>450</td>\n",
              "    </tr>\n",
              "    <tr>\n",
              "      <th>3</th>\n",
              "      <td>2017</td>\n",
              "      <td>한국</td>\n",
              "      <td>300</td>\n",
              "    </tr>\n",
              "    <tr>\n",
              "      <th>4</th>\n",
              "      <td>2017</td>\n",
              "      <td>미국</td>\n",
              "      <td>500</td>\n",
              "    </tr>\n",
              "  </tbody>\n",
              "</table>\n",
              "</div>"
            ],
            "text/plain": [
              "     연도  지사  고객 수\n",
              "0  2015  한국   200\n",
              "1  2016  한국   250\n",
              "2  2016  미국   450\n",
              "3  2017  한국   300\n",
              "4  2017  미국   500"
            ]
          },
          "execution_count": 29,
          "metadata": {},
          "output_type": "execute_result"
        }
      ],
      "source": [
        "data = pd.DataFrame(table_data) #데이터로 저장\n",
        "data"
      ]
    },
    {
      "cell_type": "code",
      "execution_count": null,
      "id": "e722da84-bbdd-46a9-9c1e-ca49f891fdbf",
      "metadata": {
        "id": "e722da84-bbdd-46a9-9c1e-ca49f891fdbf",
        "outputId": "b755a687-8032-4426-dae9-4ea6fc9c9248"
      },
      "outputs": [
        {
          "data": {
            "text/plain": [
              "RangeIndex(start=0, stop=5, step=1)"
            ]
          },
          "execution_count": 30,
          "metadata": {},
          "output_type": "execute_result"
        }
      ],
      "source": [
        "data.index"
      ]
    },
    {
      "cell_type": "code",
      "execution_count": null,
      "id": "c05a5cf0-c84b-4892-96c4-b70e0f564b82",
      "metadata": {
        "id": "c05a5cf0-c84b-4892-96c4-b70e0f564b82",
        "outputId": "e66bffbc-5c14-45d8-d6e3-c049044d4f95"
      },
      "outputs": [
        {
          "data": {
            "text/plain": [
              "array([[2015, '한국', 200],\n",
              "       [2016, '한국', 250],\n",
              "       [2016, '미국', 450],\n",
              "       [2017, '한국', 300],\n",
              "       [2017, '미국', 500]], dtype=object)"
            ]
          },
          "execution_count": 33,
          "metadata": {},
          "output_type": "execute_result"
        }
      ],
      "source": [
        "data.values #몇차원인지 헷갈리면 .shape붙여라 얘는 2차원"
      ]
    },
    {
      "cell_type": "markdown",
      "id": "24423143-eb38-4706-89c3-9607b7904541",
      "metadata": {
        "id": "24423143-eb38-4706-89c3-9607b7904541"
      },
      "source": [
        "실무에서는\n",
        "- 데이터 가공 시, numpy 메서드와 pandas 메서드 조합을 해서 처리하는 경우 많음\n",
        "  + vectorization 라고하는데 / 파이썬 기초문법 (for-loop같은거)대신\n",
        "  + 속도가 매우 빠름 / vectorization이 궁금하다 그럼gpt한테 빨리 물어봐. 키워드알게되면\n",
        "  + 이런거 알게 될때마다 블로그같은거에 기록해놓으삼 회사가면 좋아함 걔네도 잘 못해 ㅋ"
      ]
    },
    {
      "cell_type": "code",
      "execution_count": null,
      "id": "a1ef21f2-cd57-4c4c-9695-8beacedd98cc",
      "metadata": {
        "id": "a1ef21f2-cd57-4c4c-9695-8beacedd98cc",
        "outputId": "a8db405a-0f12-499c-b9f3-96bedf82f65f"
      },
      "outputs": [
        {
          "data": {
            "text/plain": [
              "Index(['연도', '지사', '고객 수'], dtype='object')"
            ]
          },
          "execution_count": 35,
          "metadata": {},
          "output_type": "execute_result"
        }
      ],
      "source": [
        "data.columns"
      ]
    },
    {
      "cell_type": "code",
      "execution_count": null,
      "id": "1e5a4763-7912-4cad-9434-2e13b0857389",
      "metadata": {
        "id": "1e5a4763-7912-4cad-9434-2e13b0857389",
        "outputId": "94fccb3d-994e-401e-f318-eb6d5f3a03e7"
      },
      "outputs": [
        {
          "data": {
            "text/html": [
              "<div>\n",
              "<style scoped>\n",
              "    .dataframe tbody tr th:only-of-type {\n",
              "        vertical-align: middle;\n",
              "    }\n",
              "\n",
              "    .dataframe tbody tr th {\n",
              "        vertical-align: top;\n",
              "    }\n",
              "\n",
              "    .dataframe thead th {\n",
              "        text-align: right;\n",
              "    }\n",
              "</style>\n",
              "<table border=\"1\" class=\"dataframe\">\n",
              "  <thead>\n",
              "    <tr style=\"text-align: right;\">\n",
              "      <th></th>\n",
              "      <th>survived</th>\n",
              "      <th>pclass</th>\n",
              "      <th>sex</th>\n",
              "      <th>age</th>\n",
              "      <th>sibsp</th>\n",
              "      <th>parch</th>\n",
              "      <th>fare</th>\n",
              "      <th>embarked</th>\n",
              "      <th>class</th>\n",
              "      <th>who</th>\n",
              "      <th>adult_male</th>\n",
              "      <th>deck</th>\n",
              "      <th>embark_town</th>\n",
              "      <th>alive</th>\n",
              "      <th>alone</th>\n",
              "    </tr>\n",
              "  </thead>\n",
              "  <tbody>\n",
              "    <tr>\n",
              "      <th>0</th>\n",
              "      <td>0</td>\n",
              "      <td>3</td>\n",
              "      <td>male</td>\n",
              "      <td>22.0</td>\n",
              "      <td>1</td>\n",
              "      <td>0</td>\n",
              "      <td>7.2500</td>\n",
              "      <td>S</td>\n",
              "      <td>Third</td>\n",
              "      <td>man</td>\n",
              "      <td>True</td>\n",
              "      <td>NaN</td>\n",
              "      <td>Southampton</td>\n",
              "      <td>no</td>\n",
              "      <td>False</td>\n",
              "    </tr>\n",
              "    <tr>\n",
              "      <th>1</th>\n",
              "      <td>1</td>\n",
              "      <td>1</td>\n",
              "      <td>female</td>\n",
              "      <td>38.0</td>\n",
              "      <td>1</td>\n",
              "      <td>0</td>\n",
              "      <td>71.2833</td>\n",
              "      <td>C</td>\n",
              "      <td>First</td>\n",
              "      <td>woman</td>\n",
              "      <td>False</td>\n",
              "      <td>C</td>\n",
              "      <td>Cherbourg</td>\n",
              "      <td>yes</td>\n",
              "      <td>False</td>\n",
              "    </tr>\n",
              "    <tr>\n",
              "      <th>2</th>\n",
              "      <td>1</td>\n",
              "      <td>3</td>\n",
              "      <td>female</td>\n",
              "      <td>26.0</td>\n",
              "      <td>0</td>\n",
              "      <td>0</td>\n",
              "      <td>7.9250</td>\n",
              "      <td>S</td>\n",
              "      <td>Third</td>\n",
              "      <td>woman</td>\n",
              "      <td>False</td>\n",
              "      <td>NaN</td>\n",
              "      <td>Southampton</td>\n",
              "      <td>yes</td>\n",
              "      <td>True</td>\n",
              "    </tr>\n",
              "    <tr>\n",
              "      <th>3</th>\n",
              "      <td>1</td>\n",
              "      <td>1</td>\n",
              "      <td>female</td>\n",
              "      <td>35.0</td>\n",
              "      <td>1</td>\n",
              "      <td>0</td>\n",
              "      <td>53.1000</td>\n",
              "      <td>S</td>\n",
              "      <td>First</td>\n",
              "      <td>woman</td>\n",
              "      <td>False</td>\n",
              "      <td>C</td>\n",
              "      <td>Southampton</td>\n",
              "      <td>yes</td>\n",
              "      <td>False</td>\n",
              "    </tr>\n",
              "    <tr>\n",
              "      <th>4</th>\n",
              "      <td>0</td>\n",
              "      <td>3</td>\n",
              "      <td>male</td>\n",
              "      <td>35.0</td>\n",
              "      <td>0</td>\n",
              "      <td>0</td>\n",
              "      <td>8.0500</td>\n",
              "      <td>S</td>\n",
              "      <td>Third</td>\n",
              "      <td>man</td>\n",
              "      <td>True</td>\n",
              "      <td>NaN</td>\n",
              "      <td>Southampton</td>\n",
              "      <td>no</td>\n",
              "      <td>True</td>\n",
              "    </tr>\n",
              "    <tr>\n",
              "      <th>...</th>\n",
              "      <td>...</td>\n",
              "      <td>...</td>\n",
              "      <td>...</td>\n",
              "      <td>...</td>\n",
              "      <td>...</td>\n",
              "      <td>...</td>\n",
              "      <td>...</td>\n",
              "      <td>...</td>\n",
              "      <td>...</td>\n",
              "      <td>...</td>\n",
              "      <td>...</td>\n",
              "      <td>...</td>\n",
              "      <td>...</td>\n",
              "      <td>...</td>\n",
              "      <td>...</td>\n",
              "    </tr>\n",
              "    <tr>\n",
              "      <th>886</th>\n",
              "      <td>0</td>\n",
              "      <td>2</td>\n",
              "      <td>male</td>\n",
              "      <td>27.0</td>\n",
              "      <td>0</td>\n",
              "      <td>0</td>\n",
              "      <td>13.0000</td>\n",
              "      <td>S</td>\n",
              "      <td>Second</td>\n",
              "      <td>man</td>\n",
              "      <td>True</td>\n",
              "      <td>NaN</td>\n",
              "      <td>Southampton</td>\n",
              "      <td>no</td>\n",
              "      <td>True</td>\n",
              "    </tr>\n",
              "    <tr>\n",
              "      <th>887</th>\n",
              "      <td>1</td>\n",
              "      <td>1</td>\n",
              "      <td>female</td>\n",
              "      <td>19.0</td>\n",
              "      <td>0</td>\n",
              "      <td>0</td>\n",
              "      <td>30.0000</td>\n",
              "      <td>S</td>\n",
              "      <td>First</td>\n",
              "      <td>woman</td>\n",
              "      <td>False</td>\n",
              "      <td>B</td>\n",
              "      <td>Southampton</td>\n",
              "      <td>yes</td>\n",
              "      <td>True</td>\n",
              "    </tr>\n",
              "    <tr>\n",
              "      <th>888</th>\n",
              "      <td>0</td>\n",
              "      <td>3</td>\n",
              "      <td>female</td>\n",
              "      <td>NaN</td>\n",
              "      <td>1</td>\n",
              "      <td>2</td>\n",
              "      <td>23.4500</td>\n",
              "      <td>S</td>\n",
              "      <td>Third</td>\n",
              "      <td>woman</td>\n",
              "      <td>False</td>\n",
              "      <td>NaN</td>\n",
              "      <td>Southampton</td>\n",
              "      <td>no</td>\n",
              "      <td>False</td>\n",
              "    </tr>\n",
              "    <tr>\n",
              "      <th>889</th>\n",
              "      <td>1</td>\n",
              "      <td>1</td>\n",
              "      <td>male</td>\n",
              "      <td>26.0</td>\n",
              "      <td>0</td>\n",
              "      <td>0</td>\n",
              "      <td>30.0000</td>\n",
              "      <td>C</td>\n",
              "      <td>First</td>\n",
              "      <td>man</td>\n",
              "      <td>True</td>\n",
              "      <td>C</td>\n",
              "      <td>Cherbourg</td>\n",
              "      <td>yes</td>\n",
              "      <td>True</td>\n",
              "    </tr>\n",
              "    <tr>\n",
              "      <th>890</th>\n",
              "      <td>0</td>\n",
              "      <td>3</td>\n",
              "      <td>male</td>\n",
              "      <td>32.0</td>\n",
              "      <td>0</td>\n",
              "      <td>0</td>\n",
              "      <td>7.7500</td>\n",
              "      <td>Q</td>\n",
              "      <td>Third</td>\n",
              "      <td>man</td>\n",
              "      <td>True</td>\n",
              "      <td>NaN</td>\n",
              "      <td>Queenstown</td>\n",
              "      <td>no</td>\n",
              "      <td>True</td>\n",
              "    </tr>\n",
              "  </tbody>\n",
              "</table>\n",
              "<p>891 rows × 15 columns</p>\n",
              "</div>"
            ],
            "text/plain": [
              "     survived  pclass     sex   age  sibsp  parch     fare embarked   class  \\\n",
              "0           0       3    male  22.0      1      0   7.2500        S   Third   \n",
              "1           1       1  female  38.0      1      0  71.2833        C   First   \n",
              "2           1       3  female  26.0      0      0   7.9250        S   Third   \n",
              "3           1       1  female  35.0      1      0  53.1000        S   First   \n",
              "4           0       3    male  35.0      0      0   8.0500        S   Third   \n",
              "..        ...     ...     ...   ...    ...    ...      ...      ...     ...   \n",
              "886         0       2    male  27.0      0      0  13.0000        S  Second   \n",
              "887         1       1  female  19.0      0      0  30.0000        S   First   \n",
              "888         0       3  female   NaN      1      2  23.4500        S   Third   \n",
              "889         1       1    male  26.0      0      0  30.0000        C   First   \n",
              "890         0       3    male  32.0      0      0   7.7500        Q   Third   \n",
              "\n",
              "       who  adult_male deck  embark_town alive  alone  \n",
              "0      man        True  NaN  Southampton    no  False  \n",
              "1    woman       False    C    Cherbourg   yes  False  \n",
              "2    woman       False  NaN  Southampton   yes   True  \n",
              "3    woman       False    C  Southampton   yes  False  \n",
              "4      man        True  NaN  Southampton    no   True  \n",
              "..     ...         ...  ...          ...   ...    ...  \n",
              "886    man        True  NaN  Southampton    no   True  \n",
              "887  woman       False    B  Southampton   yes   True  \n",
              "888  woman       False  NaN  Southampton    no  False  \n",
              "889    man        True    C    Cherbourg   yes   True  \n",
              "890    man        True  NaN   Queenstown    no   True  \n",
              "\n",
              "[891 rows x 15 columns]"
            ]
          },
          "execution_count": 37,
          "metadata": {},
          "output_type": "execute_result"
        }
      ],
      "source": [
        "titanic = sns.load_dataset('titanic') # 4교시 셋팅\n",
        "titanic"
      ]
    },
    {
      "cell_type": "markdown",
      "id": "5369989a-4554-4d0e-b8cd-8d8e95313c44",
      "metadata": {
        "id": "5369989a-4554-4d0e-b8cd-8d8e95313c44"
      },
      "source": [
        "## 데이터 연산"
      ]
    },
    {
      "cell_type": "code",
      "execution_count": null,
      "id": "5c41c28a-624c-4fff-afc8-1287bc06ec32",
      "metadata": {
        "id": "5c41c28a-624c-4fff-afc8-1287bc06ec32",
        "outputId": "734052c0-73b2-49c3-f079-5f549dd3ac94"
      },
      "outputs": [
        {
          "name": "stdout",
          "output_type": "stream",
          "text": [
            "Requirement already satisfied: seaborn in c:\\users\\user\\desktop\\projectds\\venv\\lib\\site-packages (0.13.1)\n",
            "Requirement already satisfied: numpy!=1.24.0,>=1.20 in c:\\users\\user\\desktop\\projectds\\venv\\lib\\site-packages (from seaborn) (1.26.2)\n",
            "Requirement already satisfied: pandas>=1.2 in c:\\users\\user\\desktop\\projectds\\venv\\lib\\site-packages (from seaborn) (2.1.4)\n",
            "Requirement already satisfied: matplotlib!=3.6.1,>=3.4 in c:\\users\\user\\desktop\\projectds\\venv\\lib\\site-packages (from seaborn) (3.8.2)\n",
            "Requirement already satisfied: contourpy>=1.0.1 in c:\\users\\user\\desktop\\projectds\\venv\\lib\\site-packages (from matplotlib!=3.6.1,>=3.4->seaborn) (1.2.0)\n",
            "Requirement already satisfied: cycler>=0.10 in c:\\users\\user\\desktop\\projectds\\venv\\lib\\site-packages (from matplotlib!=3.6.1,>=3.4->seaborn) (0.12.1)\n",
            "Requirement already satisfied: fonttools>=4.22.0 in c:\\users\\user\\desktop\\projectds\\venv\\lib\\site-packages (from matplotlib!=3.6.1,>=3.4->seaborn) (4.47.0)\n",
            "Requirement already satisfied: kiwisolver>=1.3.1 in c:\\users\\user\\desktop\\projectds\\venv\\lib\\site-packages (from matplotlib!=3.6.1,>=3.4->seaborn) (1.4.5)\n",
            "Requirement already satisfied: packaging>=20.0 in c:\\users\\user\\desktop\\projectds\\venv\\lib\\site-packages (from matplotlib!=3.6.1,>=3.4->seaborn) (23.2)\n",
            "Requirement already satisfied: pillow>=8 in c:\\users\\user\\desktop\\projectds\\venv\\lib\\site-packages (from matplotlib!=3.6.1,>=3.4->seaborn) (10.2.0)\n",
            "Requirement already satisfied: pyparsing>=2.3.1 in c:\\users\\user\\desktop\\projectds\\venv\\lib\\site-packages (from matplotlib!=3.6.1,>=3.4->seaborn) (3.1.1)\n",
            "Requirement already satisfied: python-dateutil>=2.7 in c:\\users\\user\\desktop\\projectds\\venv\\lib\\site-packages (from matplotlib!=3.6.1,>=3.4->seaborn) (2.8.2)\n",
            "Requirement already satisfied: pytz>=2020.1 in c:\\users\\user\\desktop\\projectds\\venv\\lib\\site-packages (from pandas>=1.2->seaborn) (2023.3.post1)\n",
            "Requirement already satisfied: tzdata>=2022.1 in c:\\users\\user\\desktop\\projectds\\venv\\lib\\site-packages (from pandas>=1.2->seaborn) (2023.4)\n",
            "Requirement already satisfied: six>=1.5 in c:\\users\\user\\desktop\\projectds\\venv\\lib\\site-packages (from python-dateutil>=2.7->matplotlib!=3.6.1,>=3.4->seaborn) (1.16.0)\n"
          ]
        },
        {
          "name": "stderr",
          "output_type": "stream",
          "text": [
            "\n",
            "[notice] A new release of pip is available: 23.3.1 -> 23.3.2\n",
            "[notice] To update, run: python.exe -m pip install --upgrade pip\n"
          ]
        }
      ],
      "source": [
        "!pip install seaborn"
      ]
    },
    {
      "cell_type": "code",
      "execution_count": null,
      "id": "f4d7a6f6-7aa4-4864-8d7c-d8f85161e3bf",
      "metadata": {
        "id": "f4d7a6f6-7aa4-4864-8d7c-d8f85161e3bf",
        "outputId": "20477dca-6572-4e81-d7ac-0db31b93c27f"
      },
      "outputs": [
        {
          "data": {
            "text/plain": [
              "0    11.0\n",
              "1    22.0\n",
              "2    33.0\n",
              "3    44.0\n",
              "4     NaN\n",
              "dtype: float64"
            ]
          },
          "execution_count": 6,
          "metadata": {},
          "output_type": "execute_result"
        }
      ],
      "source": [
        "#넘파이와 유사하다는걸 느낄 것이다.\n",
        "# No module named 'seaborn' --> 라이브러리 설치 안됐다는 뜻\n",
        "\n",
        "import pandas as pd\n",
        "import seaborn as sns\n",
        "import numpy as np\n",
        "\n",
        "\n",
        "s1 = pd.Series([1, 2, 3, 4])\n",
        "s2 = pd.Series([10, 20, 30, 40, 50])\n",
        "s1 + s2"
      ]
    },
    {
      "cell_type": "code",
      "execution_count": null,
      "id": "df1921cd-7e80-4b3d-aad8-367706b747b5",
      "metadata": {
        "id": "df1921cd-7e80-4b3d-aad8-367706b747b5",
        "outputId": "894aacae-1483-41c8-90a6-03ac7375ed68"
      },
      "outputs": [
        {
          "data": {
            "text/plain": [
              "0    10.0\n",
              "1    10.0\n",
              "2    10.0\n",
              "3    10.0\n",
              "4     NaN\n",
              "dtype: float64"
            ]
          },
          "execution_count": 7,
          "metadata": {},
          "output_type": "execute_result"
        }
      ],
      "source": [
        "s2 / s1"
      ]
    },
    {
      "cell_type": "code",
      "execution_count": null,
      "id": "8c1ccaa9-8297-4e88-a4d7-e6a86f0eb640",
      "metadata": {
        "id": "8c1ccaa9-8297-4e88-a4d7-e6a86f0eb640",
        "outputId": "1620849c-b63f-4200-a5ab-a0675c9827bf"
      },
      "outputs": [
        {
          "data": {
            "text/plain": [
              "0     10.0\n",
              "1     40.0\n",
              "2     90.0\n",
              "3    160.0\n",
              "4      NaN\n",
              "dtype: float64"
            ]
          },
          "execution_count": 8,
          "metadata": {},
          "output_type": "execute_result"
        }
      ],
      "source": [
        "s1 * s2"
      ]
    },
    {
      "cell_type": "code",
      "execution_count": null,
      "id": "6e3d2465-8b09-467b-af93-c4f24f2dd8ee",
      "metadata": {
        "id": "6e3d2465-8b09-467b-af93-c4f24f2dd8ee",
        "outputId": "b8c97331-ee79-4530-9203-aaded5075cdb"
      },
      "outputs": [
        {
          "data": {
            "text/plain": [
              "0    11.0\n",
              "1    22.0\n",
              "2    33.0\n",
              "3    44.0\n",
              "4     NaN\n",
              "dtype: float64"
            ]
          },
          "execution_count": 9,
          "metadata": {},
          "output_type": "execute_result"
        }
      ],
      "source": [
        "# 리스트와 Numpy의 배열과 다르게, 서로 크기가 달라도 연산할 수 있음\n",
        "\n",
        "s1 = pd.Series([1, 2, 3, 4])\n",
        "s2 = pd.Series([10, 20, 30, 40, 50])\n",
        "s1 + s2  #NaN = 결측치"
      ]
    },
    {
      "cell_type": "code",
      "execution_count": null,
      "id": "3fa41bb8-72af-40ce-bb9a-5b89694c35d7",
      "metadata": {
        "id": "3fa41bb8-72af-40ce-bb9a-5b89694c35d7",
        "outputId": "19919422-f741-4302-c665-c8178c3ab517"
      },
      "outputs": [
        {
          "data": {
            "text/html": [
              "<div>\n",
              "<style scoped>\n",
              "    .dataframe tbody tr th:only-of-type {\n",
              "        vertical-align: middle;\n",
              "    }\n",
              "\n",
              "    .dataframe tbody tr th {\n",
              "        vertical-align: top;\n",
              "    }\n",
              "\n",
              "    .dataframe thead th {\n",
              "        text-align: right;\n",
              "    }\n",
              "</style>\n",
              "<table border=\"1\" class=\"dataframe\">\n",
              "  <thead>\n",
              "    <tr style=\"text-align: right;\">\n",
              "      <th></th>\n",
              "      <th>A</th>\n",
              "      <th>B</th>\n",
              "      <th>C</th>\n",
              "    </tr>\n",
              "  </thead>\n",
              "  <tbody>\n",
              "    <tr>\n",
              "      <th>0</th>\n",
              "      <td>1</td>\n",
              "      <td>10</td>\n",
              "      <td>100</td>\n",
              "    </tr>\n",
              "    <tr>\n",
              "      <th>1</th>\n",
              "      <td>2</td>\n",
              "      <td>20</td>\n",
              "      <td>200</td>\n",
              "    </tr>\n",
              "    <tr>\n",
              "      <th>2</th>\n",
              "      <td>3</td>\n",
              "      <td>30</td>\n",
              "      <td>300</td>\n",
              "    </tr>\n",
              "    <tr>\n",
              "      <th>3</th>\n",
              "      <td>4</td>\n",
              "      <td>40</td>\n",
              "      <td>400</td>\n",
              "    </tr>\n",
              "    <tr>\n",
              "      <th>4</th>\n",
              "      <td>5</td>\n",
              "      <td>50</td>\n",
              "      <td>500</td>\n",
              "    </tr>\n",
              "  </tbody>\n",
              "</table>\n",
              "</div>"
            ],
            "text/plain": [
              "   A   B    C\n",
              "0  1  10  100\n",
              "1  2  20  200\n",
              "2  3  30  300\n",
              "3  4  40  400\n",
              "4  5  50  500"
            ]
          },
          "execution_count": 10,
          "metadata": {},
          "output_type": "execute_result"
        }
      ],
      "source": [
        "table_data1 = {'A': [1, 2, 3, 4, 5],\n",
        "              'B': [10, 20, 30, 40, 50],\n",
        "              'C': [100, 200, 300, 400, 500]}\n",
        "df1 = pd.DataFrame(table_data1)\n",
        "df1 #슬랙복붙"
      ]
    },
    {
      "cell_type": "code",
      "execution_count": null,
      "id": "0b8612b4-6a23-48bb-9c98-630bd43fc1db",
      "metadata": {
        "id": "0b8612b4-6a23-48bb-9c98-630bd43fc1db",
        "outputId": "e93d2f8f-36a9-492d-e486-c88f5e7aa145"
      },
      "outputs": [
        {
          "data": {
            "text/html": [
              "<div>\n",
              "<style scoped>\n",
              "    .dataframe tbody tr th:only-of-type {\n",
              "        vertical-align: middle;\n",
              "    }\n",
              "\n",
              "    .dataframe tbody tr th {\n",
              "        vertical-align: top;\n",
              "    }\n",
              "\n",
              "    .dataframe thead th {\n",
              "        text-align: right;\n",
              "    }\n",
              "</style>\n",
              "<table border=\"1\" class=\"dataframe\">\n",
              "  <thead>\n",
              "    <tr style=\"text-align: right;\">\n",
              "      <th></th>\n",
              "      <th>A</th>\n",
              "      <th>B</th>\n",
              "      <th>C</th>\n",
              "    </tr>\n",
              "  </thead>\n",
              "  <tbody>\n",
              "    <tr>\n",
              "      <th>0</th>\n",
              "      <td>6</td>\n",
              "      <td>60</td>\n",
              "      <td>600</td>\n",
              "    </tr>\n",
              "    <tr>\n",
              "      <th>1</th>\n",
              "      <td>7</td>\n",
              "      <td>70</td>\n",
              "      <td>700</td>\n",
              "    </tr>\n",
              "    <tr>\n",
              "      <th>2</th>\n",
              "      <td>8</td>\n",
              "      <td>80</td>\n",
              "      <td>800</td>\n",
              "    </tr>\n",
              "  </tbody>\n",
              "</table>\n",
              "</div>"
            ],
            "text/plain": [
              "   A   B    C\n",
              "0  6  60  600\n",
              "1  7  70  700\n",
              "2  8  80  800"
            ]
          },
          "execution_count": 11,
          "metadata": {},
          "output_type": "execute_result"
        }
      ],
      "source": [
        "table_data2 = {'A': [6, 7, 8],\n",
        "              'B': [60, 70, 80],\n",
        "              'C': [600, 700, 800]}\n",
        "df2 = pd.DataFrame(table_data2)\n",
        "df2 #슬랙복붙  #행의크기는 다르지만 열의 크기가 같으니 연산할 수 있다."
      ]
    },
    {
      "cell_type": "code",
      "execution_count": null,
      "id": "41a1f45d-a158-4ba7-a3f8-8d2c0f8a1b5f",
      "metadata": {
        "id": "41a1f45d-a158-4ba7-a3f8-8d2c0f8a1b5f",
        "outputId": "80678526-f54d-4c66-b5f4-063bd9449964"
      },
      "outputs": [
        {
          "data": {
            "text/html": [
              "<div>\n",
              "<style scoped>\n",
              "    .dataframe tbody tr th:only-of-type {\n",
              "        vertical-align: middle;\n",
              "    }\n",
              "\n",
              "    .dataframe tbody tr th {\n",
              "        vertical-align: top;\n",
              "    }\n",
              "\n",
              "    .dataframe thead th {\n",
              "        text-align: right;\n",
              "    }\n",
              "</style>\n",
              "<table border=\"1\" class=\"dataframe\">\n",
              "  <thead>\n",
              "    <tr style=\"text-align: right;\">\n",
              "      <th></th>\n",
              "      <th>A</th>\n",
              "      <th>B</th>\n",
              "      <th>C</th>\n",
              "    </tr>\n",
              "  </thead>\n",
              "  <tbody>\n",
              "    <tr>\n",
              "      <th>0</th>\n",
              "      <td>7.0</td>\n",
              "      <td>70.0</td>\n",
              "      <td>700.0</td>\n",
              "    </tr>\n",
              "    <tr>\n",
              "      <th>1</th>\n",
              "      <td>9.0</td>\n",
              "      <td>90.0</td>\n",
              "      <td>900.0</td>\n",
              "    </tr>\n",
              "    <tr>\n",
              "      <th>2</th>\n",
              "      <td>11.0</td>\n",
              "      <td>110.0</td>\n",
              "      <td>1100.0</td>\n",
              "    </tr>\n",
              "    <tr>\n",
              "      <th>3</th>\n",
              "      <td>NaN</td>\n",
              "      <td>NaN</td>\n",
              "      <td>NaN</td>\n",
              "    </tr>\n",
              "    <tr>\n",
              "      <th>4</th>\n",
              "      <td>NaN</td>\n",
              "      <td>NaN</td>\n",
              "      <td>NaN</td>\n",
              "    </tr>\n",
              "  </tbody>\n",
              "</table>\n",
              "</div>"
            ],
            "text/plain": [
              "      A      B       C\n",
              "0   7.0   70.0   700.0\n",
              "1   9.0   90.0   900.0\n",
              "2  11.0  110.0  1100.0\n",
              "3   NaN    NaN     NaN\n",
              "4   NaN    NaN     NaN"
            ]
          },
          "execution_count": 12,
          "metadata": {},
          "output_type": "execute_result"
        }
      ],
      "source": [
        "df1 + df2 # 안맞는 애들은 NaN이 나온다. 결측치로 빠지게 됨 연산이 안됐으니까."
      ]
    },
    {
      "cell_type": "code",
      "execution_count": null,
      "id": "7da75bc5-e8f3-4bde-8775-650ce25eed8c",
      "metadata": {
        "id": "7da75bc5-e8f3-4bde-8775-650ce25eed8c",
        "outputId": "0cc229f5-366e-44b0-a999-02205d07d0ba"
      },
      "outputs": [
        {
          "data": {
            "text/html": [
              "<div>\n",
              "<style scoped>\n",
              "    .dataframe tbody tr th:only-of-type {\n",
              "        vertical-align: middle;\n",
              "    }\n",
              "\n",
              "    .dataframe tbody tr th {\n",
              "        vertical-align: top;\n",
              "    }\n",
              "\n",
              "    .dataframe thead th {\n",
              "        text-align: right;\n",
              "    }\n",
              "</style>\n",
              "<table border=\"1\" class=\"dataframe\">\n",
              "  <thead>\n",
              "    <tr style=\"text-align: right;\">\n",
              "      <th></th>\n",
              "      <th>A</th>\n",
              "      <th>B</th>\n",
              "      <th>C</th>\n",
              "    </tr>\n",
              "  </thead>\n",
              "  <tbody>\n",
              "    <tr>\n",
              "      <th>0</th>\n",
              "      <td>6.0</td>\n",
              "      <td>600.0</td>\n",
              "      <td>60000.0</td>\n",
              "    </tr>\n",
              "    <tr>\n",
              "      <th>1</th>\n",
              "      <td>14.0</td>\n",
              "      <td>1400.0</td>\n",
              "      <td>140000.0</td>\n",
              "    </tr>\n",
              "    <tr>\n",
              "      <th>2</th>\n",
              "      <td>24.0</td>\n",
              "      <td>2400.0</td>\n",
              "      <td>240000.0</td>\n",
              "    </tr>\n",
              "    <tr>\n",
              "      <th>3</th>\n",
              "      <td>NaN</td>\n",
              "      <td>NaN</td>\n",
              "      <td>NaN</td>\n",
              "    </tr>\n",
              "    <tr>\n",
              "      <th>4</th>\n",
              "      <td>NaN</td>\n",
              "      <td>NaN</td>\n",
              "      <td>NaN</td>\n",
              "    </tr>\n",
              "  </tbody>\n",
              "</table>\n",
              "</div>"
            ],
            "text/plain": [
              "      A       B         C\n",
              "0   6.0   600.0   60000.0\n",
              "1  14.0  1400.0  140000.0\n",
              "2  24.0  2400.0  240000.0\n",
              "3   NaN     NaN       NaN\n",
              "4   NaN     NaN       NaN"
            ]
          },
          "execution_count": 13,
          "metadata": {},
          "output_type": "execute_result"
        }
      ],
      "source": [
        "#사칙연산 되는 지 보자\n",
        "df1 * df2"
      ]
    },
    {
      "cell_type": "code",
      "execution_count": null,
      "id": "42f04385-67ba-462f-ae2d-5f36c008aaca",
      "metadata": {
        "id": "42f04385-67ba-462f-ae2d-5f36c008aaca",
        "outputId": "2d0efaf9-a7b3-4478-8d7e-feb767fd99f1"
      },
      "outputs": [
        {
          "data": {
            "text/html": [
              "<div>\n",
              "<style scoped>\n",
              "    .dataframe tbody tr th:only-of-type {\n",
              "        vertical-align: middle;\n",
              "    }\n",
              "\n",
              "    .dataframe tbody tr th {\n",
              "        vertical-align: top;\n",
              "    }\n",
              "\n",
              "    .dataframe thead th {\n",
              "        text-align: right;\n",
              "    }\n",
              "</style>\n",
              "<table border=\"1\" class=\"dataframe\">\n",
              "  <thead>\n",
              "    <tr style=\"text-align: right;\">\n",
              "      <th></th>\n",
              "      <th>A</th>\n",
              "      <th>B</th>\n",
              "      <th>C</th>\n",
              "    </tr>\n",
              "  </thead>\n",
              "  <tbody>\n",
              "    <tr>\n",
              "      <th>0</th>\n",
              "      <td>0.166667</td>\n",
              "      <td>0.166667</td>\n",
              "      <td>0.166667</td>\n",
              "    </tr>\n",
              "    <tr>\n",
              "      <th>1</th>\n",
              "      <td>0.285714</td>\n",
              "      <td>0.285714</td>\n",
              "      <td>0.285714</td>\n",
              "    </tr>\n",
              "    <tr>\n",
              "      <th>2</th>\n",
              "      <td>0.375000</td>\n",
              "      <td>0.375000</td>\n",
              "      <td>0.375000</td>\n",
              "    </tr>\n",
              "    <tr>\n",
              "      <th>3</th>\n",
              "      <td>NaN</td>\n",
              "      <td>NaN</td>\n",
              "      <td>NaN</td>\n",
              "    </tr>\n",
              "    <tr>\n",
              "      <th>4</th>\n",
              "      <td>NaN</td>\n",
              "      <td>NaN</td>\n",
              "      <td>NaN</td>\n",
              "    </tr>\n",
              "  </tbody>\n",
              "</table>\n",
              "</div>"
            ],
            "text/plain": [
              "          A         B         C\n",
              "0  0.166667  0.166667  0.166667\n",
              "1  0.285714  0.285714  0.285714\n",
              "2  0.375000  0.375000  0.375000\n",
              "3       NaN       NaN       NaN\n",
              "4       NaN       NaN       NaN"
            ]
          },
          "execution_count": 14,
          "metadata": {},
          "output_type": "execute_result"
        }
      ],
      "source": [
        "df1 /df2 # 잘되는구나"
      ]
    },
    {
      "cell_type": "code",
      "execution_count": null,
      "id": "00a94882-05c9-41f0-ae00-bd98329d8564",
      "metadata": {
        "id": "00a94882-05c9-41f0-ae00-bd98329d8564",
        "outputId": "843dd36c-c27f-40e4-b0c8-abcf94502b4a"
      },
      "outputs": [
        {
          "data": {
            "text/html": [
              "<div>\n",
              "<style scoped>\n",
              "    .dataframe tbody tr th:only-of-type {\n",
              "        vertical-align: middle;\n",
              "    }\n",
              "\n",
              "    .dataframe tbody tr th {\n",
              "        vertical-align: top;\n",
              "    }\n",
              "\n",
              "    .dataframe thead th {\n",
              "        text-align: right;\n",
              "    }\n",
              "</style>\n",
              "<table border=\"1\" class=\"dataframe\">\n",
              "  <thead>\n",
              "    <tr style=\"text-align: right;\">\n",
              "      <th></th>\n",
              "      <th>봄</th>\n",
              "      <th>여름</th>\n",
              "      <th>가을</th>\n",
              "      <th>겨울</th>\n",
              "    </tr>\n",
              "  </thead>\n",
              "  <tbody>\n",
              "    <tr>\n",
              "      <th>2012</th>\n",
              "      <td>256.5</td>\n",
              "      <td>770.6</td>\n",
              "      <td>363.5</td>\n",
              "      <td>139.3</td>\n",
              "    </tr>\n",
              "    <tr>\n",
              "      <th>2013</th>\n",
              "      <td>264.3</td>\n",
              "      <td>567.5</td>\n",
              "      <td>231.2</td>\n",
              "      <td>59.9</td>\n",
              "    </tr>\n",
              "    <tr>\n",
              "      <th>2014</th>\n",
              "      <td>215.9</td>\n",
              "      <td>599.8</td>\n",
              "      <td>293.1</td>\n",
              "      <td>76.9</td>\n",
              "    </tr>\n",
              "    <tr>\n",
              "      <th>2015</th>\n",
              "      <td>223.2</td>\n",
              "      <td>387.1</td>\n",
              "      <td>247.7</td>\n",
              "      <td>109.1</td>\n",
              "    </tr>\n",
              "    <tr>\n",
              "      <th>2016</th>\n",
              "      <td>312.8</td>\n",
              "      <td>446.2</td>\n",
              "      <td>381.6</td>\n",
              "      <td>108.1</td>\n",
              "    </tr>\n",
              "  </tbody>\n",
              "</table>\n",
              "</div>"
            ],
            "text/plain": [
              "          봄     여름     가을     겨울\n",
              "2012  256.5  770.6  363.5  139.3\n",
              "2013  264.3  567.5  231.2   59.9\n",
              "2014  215.9  599.8  293.1   76.9\n",
              "2015  223.2  387.1  247.7  109.1\n",
              "2016  312.8  446.2  381.6  108.1"
            ]
          },
          "execution_count": 15,
          "metadata": {},
          "output_type": "execute_result"
        }
      ],
      "source": [
        "table_data3 = {'봄':  [256.5, 264.3, 215.9, 223.2, 312.8],\n",
        "              '여름': [770.6, 567.5, 599.8, 387.1, 446.2],\n",
        "              '가을': [363.5, 231.2, 293.1, 247.7, 381.6],\n",
        "              '겨울': [139.3, 59.9, 76.9, 109.1, 108.1]}\n",
        "columns_list = ['봄', '여름', '가을', '겨울']\n",
        "index_list = ['2012', '2013', '2014', '2015', '2016']\n",
        "\n",
        "df3 = pd.DataFrame(table_data3, columns = columns_list, index = index_list) #이 줄은 복붙하면 안된다.\n",
        "df3 #복붙할 때 주의 할점 바로 윗줄복붙x 매개명수가 생각이 안난다. 또 구글링 하게된다. 생산성 하락. 흐름을 이해하면서 타이핑\n",
        "# 컬럼명 바꾸고 싶으면 columns 를 원하는 이름으로 바꿔주면 된다.\n",
        "#그리고 여기서 컬럼리스트 굳이 안써도 상관은 없다고 하나 그건 위(table)에 이미 키값이 정리가 되어있기 떄문이다.\n",
        "# 만약 그냥 인덱스 번호가 뜰 수 있잖아 그럼 컬럼명을 변경해주는게 좋겠지?"
      ]
    },
    {
      "cell_type": "code",
      "execution_count": null,
      "id": "ed95179f-197a-4fb5-8093-4f270ab071ce",
      "metadata": {
        "id": "ed95179f-197a-4fb5-8093-4f270ab071ce",
        "outputId": "cb09cca9-c184-4d0e-d8ff-a2c9d77488e7"
      },
      "outputs": [
        {
          "data": {
            "text/plain": [
              "봄     254.54\n",
              "여름    554.24\n",
              "가을    303.42\n",
              "겨울     98.66\n",
              "dtype: float64"
            ]
          },
          "execution_count": 16,
          "metadata": {},
          "output_type": "execute_result"
        }
      ],
      "source": [
        "#평균이랑 표준편차를 구해보자\n",
        "\n",
        "df3.mean() #칼럼별로 들어가게 됨 각 칼럼에 대한 평균값"
      ]
    },
    {
      "cell_type": "code",
      "execution_count": null,
      "id": "68042c30-f273-4f9b-883a-f8601ea6cf07",
      "metadata": {
        "id": "68042c30-f273-4f9b-883a-f8601ea6cf07",
        "outputId": "566e6ab9-b171-47f9-e2d7-6cde43965a4c"
      },
      "outputs": [
        {
          "data": {
            "text/plain": [
              "봄     312.8\n",
              "여름    770.6\n",
              "가을    381.6\n",
              "겨울    139.3\n",
              "dtype: float64"
            ]
          },
          "execution_count": 17,
          "metadata": {},
          "output_type": "execute_result"
        }
      ],
      "source": [
        "df3.max() # 각 컬럼의 최댓값이 나왔땅"
      ]
    },
    {
      "cell_type": "code",
      "execution_count": null,
      "id": "8150c8c8-53ee-4caa-b6e6-ddf00b411497",
      "metadata": {
        "id": "8150c8c8-53ee-4caa-b6e6-ddf00b411497",
        "outputId": "18c7eb99-894d-4ee8-b8e0-337109905156"
      },
      "outputs": [
        {
          "data": {
            "text/plain": [
              "봄     215.9\n",
              "여름    387.1\n",
              "가을    231.2\n",
              "겨울     59.9\n",
              "dtype: float64"
            ]
          },
          "execution_count": 18,
          "metadata": {},
          "output_type": "execute_result"
        }
      ],
      "source": [
        "df3.min() #최소값"
      ]
    },
    {
      "cell_type": "code",
      "execution_count": null,
      "id": "3822bb26-a40e-4325-b059-98924ba2fef8",
      "metadata": {
        "id": "3822bb26-a40e-4325-b059-98924ba2fef8",
        "outputId": "192e8ad9-c3af-4ef3-89a7-f97060df6af3"
      },
      "outputs": [
        {
          "data": {
            "text/plain": [
              "봄      38.628267\n",
              "여름    148.888895\n",
              "가을     67.358496\n",
              "겨울     30.925523\n",
              "dtype: float64"
            ]
          },
          "execution_count": 19,
          "metadata": {},
          "output_type": "execute_result"
        }
      ],
      "source": [
        "df3.std() # 표준편차 # 엑셀 생각해봐라 판다스가 더 편하다."
      ]
    },
    {
      "cell_type": "code",
      "execution_count": null,
      "id": "1d6e5b82-fa5a-4806-ad32-3e1b0214b4c2",
      "metadata": {
        "id": "1d6e5b82-fa5a-4806-ad32-3e1b0214b4c2",
        "outputId": "b5a7f305-ede2-431e-8785-d708a3202f89"
      },
      "outputs": [
        {
          "data": {
            "text/plain": [
              "2012    382.475\n",
              "2013    280.725\n",
              "2014    296.425\n",
              "2015    241.775\n",
              "2016    312.175\n",
              "dtype: float64"
            ]
          },
          "execution_count": 24,
          "metadata": {},
          "output_type": "execute_result"
        }
      ],
      "source": [
        "df3.mean(axis=1) #p256 # 자 이게 어떤 의미인가. --> 행의 평균값. axis 이건 행단위로 직계연산을 한다는 뜻"
      ]
    },
    {
      "cell_type": "code",
      "execution_count": null,
      "id": "efd65db9-6091-4486-8200-53d10ced016e",
      "metadata": {
        "id": "efd65db9-6091-4486-8200-53d10ced016e",
        "outputId": "ab6df054-82d0-4a32-f522-d3cced4ffc7b"
      },
      "outputs": [
        {
          "data": {
            "text/html": [
              "<div>\n",
              "<style scoped>\n",
              "    .dataframe tbody tr th:only-of-type {\n",
              "        vertical-align: middle;\n",
              "    }\n",
              "\n",
              "    .dataframe tbody tr th {\n",
              "        vertical-align: top;\n",
              "    }\n",
              "\n",
              "    .dataframe thead th {\n",
              "        text-align: right;\n",
              "    }\n",
              "</style>\n",
              "<table border=\"1\" class=\"dataframe\">\n",
              "  <thead>\n",
              "    <tr style=\"text-align: right;\">\n",
              "      <th></th>\n",
              "      <th>봄</th>\n",
              "      <th>여름</th>\n",
              "      <th>가을</th>\n",
              "      <th>겨울</th>\n",
              "    </tr>\n",
              "  </thead>\n",
              "  <tbody>\n",
              "    <tr>\n",
              "      <th>2012</th>\n",
              "      <td>256.5</td>\n",
              "      <td>770.6</td>\n",
              "      <td>363.5</td>\n",
              "      <td>139.3</td>\n",
              "    </tr>\n",
              "    <tr>\n",
              "      <th>2013</th>\n",
              "      <td>264.3</td>\n",
              "      <td>567.5</td>\n",
              "      <td>231.2</td>\n",
              "      <td>59.9</td>\n",
              "    </tr>\n",
              "    <tr>\n",
              "      <th>2014</th>\n",
              "      <td>215.9</td>\n",
              "      <td>599.8</td>\n",
              "      <td>293.1</td>\n",
              "      <td>76.9</td>\n",
              "    </tr>\n",
              "    <tr>\n",
              "      <th>2015</th>\n",
              "      <td>223.2</td>\n",
              "      <td>387.1</td>\n",
              "      <td>247.7</td>\n",
              "      <td>109.1</td>\n",
              "    </tr>\n",
              "    <tr>\n",
              "      <th>2016</th>\n",
              "      <td>312.8</td>\n",
              "      <td>446.2</td>\n",
              "      <td>381.6</td>\n",
              "      <td>108.1</td>\n",
              "    </tr>\n",
              "  </tbody>\n",
              "</table>\n",
              "</div>"
            ],
            "text/plain": [
              "          봄     여름     가을     겨울\n",
              "2012  256.5  770.6  363.5  139.3\n",
              "2013  264.3  567.5  231.2   59.9\n",
              "2014  215.9  599.8  293.1   76.9\n",
              "2015  223.2  387.1  247.7  109.1\n",
              "2016  312.8  446.2  381.6  108.1"
            ]
          },
          "execution_count": 21,
          "metadata": {},
          "output_type": "execute_result"
        }
      ],
      "source": [
        "df3 #이거 보면서 위에 저게 뭔지 생각해봐."
      ]
    },
    {
      "cell_type": "code",
      "execution_count": null,
      "id": "7c55e56d-a88a-4de7-a4e1-6cd56dddccfb",
      "metadata": {
        "id": "7c55e56d-a88a-4de7-a4e1-6cd56dddccfb",
        "outputId": "f378942e-bbe1-45fc-b628-e846cbf0d400"
      },
      "outputs": [
        {
          "data": {
            "text/plain": [
              "2012    770.6\n",
              "2013    567.5\n",
              "2014    599.8\n",
              "2015    387.1\n",
              "2016    446.2\n",
              "dtype: float64"
            ]
          },
          "execution_count": 22,
          "metadata": {},
          "output_type": "execute_result"
        }
      ],
      "source": [
        "df3.max(axis=1) #이해 되는가? #이거 강수량데이터라 여름만 나온거 ㅋ 최대값"
      ]
    },
    {
      "cell_type": "code",
      "execution_count": null,
      "id": "1997c73c-1eea-41a6-a6b9-c659b9523c40",
      "metadata": {
        "id": "1997c73c-1eea-41a6-a6b9-c659b9523c40",
        "outputId": "afb16b27-2e5f-49fd-c661-2236b6225443"
      },
      "outputs": [
        {
          "data": {
            "text/plain": [
              "2012    274.472128\n",
              "2013    211.128782\n",
              "2014    221.150739\n",
              "2015    114.166760\n",
              "2016    146.548658\n",
              "dtype: float64"
            ]
          },
          "execution_count": 25,
          "metadata": {},
          "output_type": "execute_result"
        }
      ],
      "source": [
        "df3.std(axis=1) # 행단위로 표준편차를 구했다는 것 #상상하는 능력을 키우는게 핵심."
      ]
    },
    {
      "cell_type": "markdown",
      "id": "c82b5475-10d5-4faf-a471-d63981b6aabb",
      "metadata": {
        "id": "c82b5475-10d5-4faf-a471-d63981b6aabb"
      },
      "source": [
        "  밑은 평균 위는 표준편차 .   2012년예를들면\n",
        "  평균 382부터 편차가 앞뒤로 274정도 와리가리 했다는 것이다.\n",
        "  2025년은 그럼 241부터 앞뒤로 114정도씩 와리가리 했다는 것이다."
      ]
    },
    {
      "cell_type": "code",
      "execution_count": null,
      "id": "7782383f-5856-4395-bc84-0d3d5b702028",
      "metadata": {
        "id": "7782383f-5856-4395-bc84-0d3d5b702028",
        "outputId": "a76f04b3-3e47-4591-ca2d-b60df8550fce"
      },
      "outputs": [
        {
          "data": {
            "text/plain": [
              "2012    382.475\n",
              "2013    280.725\n",
              "2014    296.425\n",
              "2015    241.775\n",
              "2016    312.175\n",
              "dtype: float64"
            ]
          },
          "execution_count": 26,
          "metadata": {},
          "output_type": "execute_result"
        }
      ],
      "source": [
        "df3.mean(axis=1) #해석하는 능력을 키우는게 분석! 데이터를 가지고 상상해 분포가 대충 어떤 그림일것이다."
      ]
    },
    {
      "cell_type": "code",
      "execution_count": null,
      "id": "ec9647e1-53c9-401a-b696-575b306c17b6",
      "metadata": {
        "id": "ec9647e1-53c9-401a-b696-575b306c17b6",
        "outputId": "4e1b20ea-fe13-4ad0-82fd-dd9d4cf5dfe7"
      },
      "outputs": [
        {
          "data": {
            "text/html": [
              "<div>\n",
              "<style scoped>\n",
              "    .dataframe tbody tr th:only-of-type {\n",
              "        vertical-align: middle;\n",
              "    }\n",
              "\n",
              "    .dataframe tbody tr th {\n",
              "        vertical-align: top;\n",
              "    }\n",
              "\n",
              "    .dataframe thead th {\n",
              "        text-align: right;\n",
              "    }\n",
              "</style>\n",
              "<table border=\"1\" class=\"dataframe\">\n",
              "  <thead>\n",
              "    <tr style=\"text-align: right;\">\n",
              "      <th></th>\n",
              "      <th>봄</th>\n",
              "      <th>여름</th>\n",
              "      <th>가을</th>\n",
              "      <th>겨울</th>\n",
              "    </tr>\n",
              "  </thead>\n",
              "  <tbody>\n",
              "    <tr>\n",
              "      <th>count</th>\n",
              "      <td>5.000000</td>\n",
              "      <td>5.000000</td>\n",
              "      <td>5.000000</td>\n",
              "      <td>5.000000</td>\n",
              "    </tr>\n",
              "    <tr>\n",
              "      <th>mean</th>\n",
              "      <td>254.540000</td>\n",
              "      <td>554.240000</td>\n",
              "      <td>303.420000</td>\n",
              "      <td>98.660000</td>\n",
              "    </tr>\n",
              "    <tr>\n",
              "      <th>std</th>\n",
              "      <td>38.628267</td>\n",
              "      <td>148.888895</td>\n",
              "      <td>67.358496</td>\n",
              "      <td>30.925523</td>\n",
              "    </tr>\n",
              "    <tr>\n",
              "      <th>min</th>\n",
              "      <td>215.900000</td>\n",
              "      <td>387.100000</td>\n",
              "      <td>231.200000</td>\n",
              "      <td>59.900000</td>\n",
              "    </tr>\n",
              "    <tr>\n",
              "      <th>25%</th>\n",
              "      <td>223.200000</td>\n",
              "      <td>446.200000</td>\n",
              "      <td>247.700000</td>\n",
              "      <td>76.900000</td>\n",
              "    </tr>\n",
              "    <tr>\n",
              "      <th>50%</th>\n",
              "      <td>256.500000</td>\n",
              "      <td>567.500000</td>\n",
              "      <td>293.100000</td>\n",
              "      <td>108.100000</td>\n",
              "    </tr>\n",
              "    <tr>\n",
              "      <th>75%</th>\n",
              "      <td>264.300000</td>\n",
              "      <td>599.800000</td>\n",
              "      <td>363.500000</td>\n",
              "      <td>109.100000</td>\n",
              "    </tr>\n",
              "    <tr>\n",
              "      <th>max</th>\n",
              "      <td>312.800000</td>\n",
              "      <td>770.600000</td>\n",
              "      <td>381.600000</td>\n",
              "      <td>139.300000</td>\n",
              "    </tr>\n",
              "  </tbody>\n",
              "</table>\n",
              "</div>"
            ],
            "text/plain": [
              "                봄          여름          가을          겨울\n",
              "count    5.000000    5.000000    5.000000    5.000000\n",
              "mean   254.540000  554.240000  303.420000   98.660000\n",
              "std     38.628267  148.888895   67.358496   30.925523\n",
              "min    215.900000  387.100000  231.200000   59.900000\n",
              "25%    223.200000  446.200000  247.700000   76.900000\n",
              "50%    256.500000  567.500000  293.100000  108.100000\n",
              "75%    264.300000  599.800000  363.500000  109.100000\n",
              "max    312.800000  770.600000  381.600000  139.300000"
            ]
          },
          "execution_count": 27,
          "metadata": {},
          "output_type": "execute_result"
        }
      ],
      "source": [
        "df3.describe() # 사실 위의 메서드를 하나하나 보는게 아니라 이렇게 보고 상상해 데이터분포를."
      ]
    },
    {
      "cell_type": "code",
      "execution_count": null,
      "id": "826e94e5-a0cc-4423-b345-2c1c2f5fef50",
      "metadata": {
        "id": "826e94e5-a0cc-4423-b345-2c1c2f5fef50",
        "outputId": "6534a0ea-1247-49c5-81be-2d2b9fc31e33"
      },
      "outputs": [
        {
          "data": {
            "text/html": [
              "<div>\n",
              "<style scoped>\n",
              "    .dataframe tbody tr th:only-of-type {\n",
              "        vertical-align: middle;\n",
              "    }\n",
              "\n",
              "    .dataframe tbody tr th {\n",
              "        vertical-align: top;\n",
              "    }\n",
              "\n",
              "    .dataframe thead th {\n",
              "        text-align: right;\n",
              "    }\n",
              "</style>\n",
              "<table border=\"1\" class=\"dataframe\">\n",
              "  <thead>\n",
              "    <tr style=\"text-align: right;\">\n",
              "      <th></th>\n",
              "      <th>경부선 KTX</th>\n",
              "      <th>호남선 KTX</th>\n",
              "      <th>경전선 KTX</th>\n",
              "      <th>전라선 KTX</th>\n",
              "      <th>동해선 KTX</th>\n",
              "    </tr>\n",
              "  </thead>\n",
              "  <tbody>\n",
              "    <tr>\n",
              "      <th>2011</th>\n",
              "      <td>39060</td>\n",
              "      <td>7313</td>\n",
              "      <td>3627</td>\n",
              "      <td>309</td>\n",
              "      <td>NaN</td>\n",
              "    </tr>\n",
              "    <tr>\n",
              "      <th>2012</th>\n",
              "      <td>39896</td>\n",
              "      <td>6967</td>\n",
              "      <td>4168</td>\n",
              "      <td>1771</td>\n",
              "      <td>NaN</td>\n",
              "    </tr>\n",
              "    <tr>\n",
              "      <th>2013</th>\n",
              "      <td>42005</td>\n",
              "      <td>6873</td>\n",
              "      <td>4088</td>\n",
              "      <td>1954</td>\n",
              "      <td>NaN</td>\n",
              "    </tr>\n",
              "    <tr>\n",
              "      <th>2014</th>\n",
              "      <td>43621</td>\n",
              "      <td>6626</td>\n",
              "      <td>4424</td>\n",
              "      <td>2244</td>\n",
              "      <td>NaN</td>\n",
              "    </tr>\n",
              "    <tr>\n",
              "      <th>2015</th>\n",
              "      <td>41702</td>\n",
              "      <td>8675</td>\n",
              "      <td>4606</td>\n",
              "      <td>3146</td>\n",
              "      <td>2395.0</td>\n",
              "    </tr>\n",
              "    <tr>\n",
              "      <th>2016</th>\n",
              "      <td>41266</td>\n",
              "      <td>10622</td>\n",
              "      <td>4984</td>\n",
              "      <td>3945</td>\n",
              "      <td>3786.0</td>\n",
              "    </tr>\n",
              "    <tr>\n",
              "      <th>2017</th>\n",
              "      <td>32427</td>\n",
              "      <td>9228</td>\n",
              "      <td>5570</td>\n",
              "      <td>5766</td>\n",
              "      <td>6667.0</td>\n",
              "    </tr>\n",
              "  </tbody>\n",
              "</table>\n",
              "</div>"
            ],
            "text/plain": [
              "      경부선 KTX  호남선 KTX  경전선 KTX  전라선 KTX  동해선 KTX\n",
              "2011    39060     7313     3627      309      NaN\n",
              "2012    39896     6967     4168     1771      NaN\n",
              "2013    42005     6873     4088     1954      NaN\n",
              "2014    43621     6626     4424     2244      NaN\n",
              "2015    41702     8675     4606     3146   2395.0\n",
              "2016    41266    10622     4984     3945   3786.0\n",
              "2017    32427     9228     5570     5766   6667.0"
            ]
          },
          "execution_count": 28,
          "metadata": {},
          "output_type": "execute_result"
        }
      ],
      "source": [
        "import pandas as pd\n",
        "import numpy as np\n",
        "\n",
        "KTX_data = {'경부선 KTX': [39060, 39896, 42005, 43621, 41702, 41266, 32427],\n",
        "            '호남선 KTX': [7313, 6967, 6873, 6626, 8675, 10622, 9228],\n",
        "            '경전선 KTX': [3627, 4168, 4088, 4424, 4606, 4984, 5570],\n",
        "            '전라선 KTX': [309, 1771, 1954, 2244, 3146, 3945, 5766],\n",
        "            '동해선 KTX': [np.nan,np.nan, np.nan, np.nan, 2395, 3786, 6667]}\n",
        "index_list = ['2011', '2012', '2013', '2014', '2015', '2016', '2017']\n",
        "\n",
        "df_KTX = pd.DataFrame(KTX_data, index = index_list)\n",
        "df_KTX"
      ]
    },
    {
      "cell_type": "code",
      "execution_count": null,
      "id": "f3763acd-93e2-4bb4-a569-bf7bd38d8208",
      "metadata": {
        "id": "f3763acd-93e2-4bb4-a569-bf7bd38d8208",
        "outputId": "0adcb264-6f79-4281-eb7c-16f602ce48fe"
      },
      "outputs": [
        {
          "data": {
            "text/html": [
              "<div>\n",
              "<style scoped>\n",
              "    .dataframe tbody tr th:only-of-type {\n",
              "        vertical-align: middle;\n",
              "    }\n",
              "\n",
              "    .dataframe tbody tr th {\n",
              "        vertical-align: top;\n",
              "    }\n",
              "\n",
              "    .dataframe thead th {\n",
              "        text-align: right;\n",
              "    }\n",
              "</style>\n",
              "<table border=\"1\" class=\"dataframe\">\n",
              "  <thead>\n",
              "    <tr style=\"text-align: right;\">\n",
              "      <th></th>\n",
              "      <th>경부선 KTX</th>\n",
              "      <th>호남선 KTX</th>\n",
              "      <th>경전선 KTX</th>\n",
              "      <th>전라선 KTX</th>\n",
              "      <th>동해선 KTX</th>\n",
              "    </tr>\n",
              "  </thead>\n",
              "  <tbody>\n",
              "    <tr>\n",
              "      <th>2011</th>\n",
              "      <td>39060</td>\n",
              "      <td>7313</td>\n",
              "      <td>3627</td>\n",
              "      <td>309</td>\n",
              "      <td>NaN</td>\n",
              "    </tr>\n",
              "    <tr>\n",
              "      <th>2012</th>\n",
              "      <td>39896</td>\n",
              "      <td>6967</td>\n",
              "      <td>4168</td>\n",
              "      <td>1771</td>\n",
              "      <td>NaN</td>\n",
              "    </tr>\n",
              "    <tr>\n",
              "      <th>2013</th>\n",
              "      <td>42005</td>\n",
              "      <td>6873</td>\n",
              "      <td>4088</td>\n",
              "      <td>1954</td>\n",
              "      <td>NaN</td>\n",
              "    </tr>\n",
              "    <tr>\n",
              "      <th>2014</th>\n",
              "      <td>43621</td>\n",
              "      <td>6626</td>\n",
              "      <td>4424</td>\n",
              "      <td>2244</td>\n",
              "      <td>NaN</td>\n",
              "    </tr>\n",
              "    <tr>\n",
              "      <th>2015</th>\n",
              "      <td>41702</td>\n",
              "      <td>8675</td>\n",
              "      <td>4606</td>\n",
              "      <td>3146</td>\n",
              "      <td>2395.0</td>\n",
              "    </tr>\n",
              "  </tbody>\n",
              "</table>\n",
              "</div>"
            ],
            "text/plain": [
              "      경부선 KTX  호남선 KTX  경전선 KTX  전라선 KTX  동해선 KTX\n",
              "2011    39060     7313     3627      309      NaN\n",
              "2012    39896     6967     4168     1771      NaN\n",
              "2013    42005     6873     4088     1954      NaN\n",
              "2014    43621     6626     4424     2244      NaN\n",
              "2015    41702     8675     4606     3146   2395.0"
            ]
          },
          "execution_count": 29,
          "metadata": {},
          "output_type": "execute_result"
        }
      ],
      "source": [
        "#p.259 https://pandas.pydata.org/docs/reference/api/pandas.DataFrame.html\n",
        "#왼쪽에 해당되는 메서드들이 존재하는데\n",
        "#찾아서 쓰라. 오늘은 head 써봄\n",
        "#여기 보면서 문장보고 샘플코드 보면서\n",
        "#장고수업 보기 전까지 훈련을 해라.\n",
        "df_KTX.head() #상단5개 출력이 되는디."
      ]
    },
    {
      "cell_type": "code",
      "execution_count": null,
      "id": "2ba0cca9-d822-405a-8c74-bf8e814413ce",
      "metadata": {
        "id": "2ba0cca9-d822-405a-8c74-bf8e814413ce",
        "outputId": "e73e1d18-2a9b-4d82-9e43-ba756b3c32f1"
      },
      "outputs": [
        {
          "data": {
            "text/html": [
              "<div>\n",
              "<style scoped>\n",
              "    .dataframe tbody tr th:only-of-type {\n",
              "        vertical-align: middle;\n",
              "    }\n",
              "\n",
              "    .dataframe tbody tr th {\n",
              "        vertical-align: top;\n",
              "    }\n",
              "\n",
              "    .dataframe thead th {\n",
              "        text-align: right;\n",
              "    }\n",
              "</style>\n",
              "<table border=\"1\" class=\"dataframe\">\n",
              "  <thead>\n",
              "    <tr style=\"text-align: right;\">\n",
              "      <th></th>\n",
              "      <th>경부선 KTX</th>\n",
              "      <th>호남선 KTX</th>\n",
              "      <th>경전선 KTX</th>\n",
              "      <th>전라선 KTX</th>\n",
              "      <th>동해선 KTX</th>\n",
              "    </tr>\n",
              "  </thead>\n",
              "  <tbody>\n",
              "    <tr>\n",
              "      <th>2011</th>\n",
              "      <td>39060</td>\n",
              "      <td>7313</td>\n",
              "      <td>3627</td>\n",
              "      <td>309</td>\n",
              "      <td>NaN</td>\n",
              "    </tr>\n",
              "    <tr>\n",
              "      <th>2012</th>\n",
              "      <td>39896</td>\n",
              "      <td>6967</td>\n",
              "      <td>4168</td>\n",
              "      <td>1771</td>\n",
              "      <td>NaN</td>\n",
              "    </tr>\n",
              "    <tr>\n",
              "      <th>2013</th>\n",
              "      <td>42005</td>\n",
              "      <td>6873</td>\n",
              "      <td>4088</td>\n",
              "      <td>1954</td>\n",
              "      <td>NaN</td>\n",
              "    </tr>\n",
              "  </tbody>\n",
              "</table>\n",
              "</div>"
            ],
            "text/plain": [
              "      경부선 KTX  호남선 KTX  경전선 KTX  전라선 KTX  동해선 KTX\n",
              "2011    39060     7313     3627      309      NaN\n",
              "2012    39896     6967     4168     1771      NaN\n",
              "2013    42005     6873     4088     1954      NaN"
            ]
          },
          "execution_count": 33,
          "metadata": {},
          "output_type": "execute_result"
        }
      ],
      "source": [
        "df_KTX.head(3) # 처음부터 3개반환"
      ]
    },
    {
      "cell_type": "code",
      "execution_count": null,
      "id": "aef3e348-a5b7-400d-afc2-389c97849a25",
      "metadata": {
        "id": "aef3e348-a5b7-400d-afc2-389c97849a25",
        "outputId": "4db08126-47fb-400a-ae53-c3c11202f5d5"
      },
      "outputs": [
        {
          "data": {
            "text/html": [
              "<div>\n",
              "<style scoped>\n",
              "    .dataframe tbody tr th:only-of-type {\n",
              "        vertical-align: middle;\n",
              "    }\n",
              "\n",
              "    .dataframe tbody tr th {\n",
              "        vertical-align: top;\n",
              "    }\n",
              "\n",
              "    .dataframe thead th {\n",
              "        text-align: right;\n",
              "    }\n",
              "</style>\n",
              "<table border=\"1\" class=\"dataframe\">\n",
              "  <thead>\n",
              "    <tr style=\"text-align: right;\">\n",
              "      <th></th>\n",
              "      <th>경부선 KTX</th>\n",
              "      <th>호남선 KTX</th>\n",
              "      <th>경전선 KTX</th>\n",
              "      <th>전라선 KTX</th>\n",
              "      <th>동해선 KTX</th>\n",
              "    </tr>\n",
              "  </thead>\n",
              "  <tbody>\n",
              "    <tr>\n",
              "      <th>2015</th>\n",
              "      <td>41702</td>\n",
              "      <td>8675</td>\n",
              "      <td>4606</td>\n",
              "      <td>3146</td>\n",
              "      <td>2395.0</td>\n",
              "    </tr>\n",
              "    <tr>\n",
              "      <th>2016</th>\n",
              "      <td>41266</td>\n",
              "      <td>10622</td>\n",
              "      <td>4984</td>\n",
              "      <td>3945</td>\n",
              "      <td>3786.0</td>\n",
              "    </tr>\n",
              "    <tr>\n",
              "      <th>2017</th>\n",
              "      <td>32427</td>\n",
              "      <td>9228</td>\n",
              "      <td>5570</td>\n",
              "      <td>5766</td>\n",
              "      <td>6667.0</td>\n",
              "    </tr>\n",
              "  </tbody>\n",
              "</table>\n",
              "</div>"
            ],
            "text/plain": [
              "      경부선 KTX  호남선 KTX  경전선 KTX  전라선 KTX  동해선 KTX\n",
              "2015    41702     8675     4606     3146   2395.0\n",
              "2016    41266    10622     4984     3945   3786.0\n",
              "2017    32427     9228     5570     5766   6667.0"
            ]
          },
          "execution_count": 32,
          "metadata": {},
          "output_type": "execute_result"
        }
      ],
      "source": [
        "df_KTX.tail(3) #끝에서부터 3개반환한다는 뜻\n"
      ]
    },
    {
      "cell_type": "markdown",
      "id": "2610c984-bb32-4681-abc2-34e3e25e5376",
      "metadata": {
        "id": "2610c984-bb32-4681-abc2-34e3e25e5376"
      },
      "source": [
        "## 행 선택(=행 추출)\n",
        "- slicing과 동일한 문법으로 추출 가능"
      ]
    },
    {
      "cell_type": "code",
      "execution_count": null,
      "id": "9d92661a-d16e-492d-8e60-30efb5c05b2c",
      "metadata": {
        "id": "9d92661a-d16e-492d-8e60-30efb5c05b2c",
        "outputId": "4276f32f-d518-4596-db08-cb0c43f10a85"
      },
      "outputs": [
        {
          "data": {
            "text/html": [
              "<div>\n",
              "<style scoped>\n",
              "    .dataframe tbody tr th:only-of-type {\n",
              "        vertical-align: middle;\n",
              "    }\n",
              "\n",
              "    .dataframe tbody tr th {\n",
              "        vertical-align: top;\n",
              "    }\n",
              "\n",
              "    .dataframe thead th {\n",
              "        text-align: right;\n",
              "    }\n",
              "</style>\n",
              "<table border=\"1\" class=\"dataframe\">\n",
              "  <thead>\n",
              "    <tr style=\"text-align: right;\">\n",
              "      <th></th>\n",
              "      <th>경부선 KTX</th>\n",
              "      <th>호남선 KTX</th>\n",
              "      <th>경전선 KTX</th>\n",
              "      <th>전라선 KTX</th>\n",
              "      <th>동해선 KTX</th>\n",
              "    </tr>\n",
              "  </thead>\n",
              "  <tbody>\n",
              "    <tr>\n",
              "      <th>2011</th>\n",
              "      <td>39060</td>\n",
              "      <td>7313</td>\n",
              "      <td>3627</td>\n",
              "      <td>309</td>\n",
              "      <td>NaN</td>\n",
              "    </tr>\n",
              "    <tr>\n",
              "      <th>2012</th>\n",
              "      <td>39896</td>\n",
              "      <td>6967</td>\n",
              "      <td>4168</td>\n",
              "      <td>1771</td>\n",
              "      <td>NaN</td>\n",
              "    </tr>\n",
              "  </tbody>\n",
              "</table>\n",
              "</div>"
            ],
            "text/plain": [
              "      경부선 KTX  호남선 KTX  경전선 KTX  전라선 KTX  동해선 KTX\n",
              "2011    39060     7313     3627      309      NaN\n",
              "2012    39896     6967     4168     1771      NaN"
            ]
          },
          "execution_count": 34,
          "metadata": {},
          "output_type": "execute_result"
        }
      ],
      "source": [
        "df_KTX[0:2]"
      ]
    },
    {
      "cell_type": "code",
      "execution_count": null,
      "id": "448be784-1177-4dc7-9462-542de960592f",
      "metadata": {
        "id": "448be784-1177-4dc7-9462-542de960592f",
        "outputId": "47bcdb16-cbd6-46e2-a6e1-47f0579ed6a0"
      },
      "outputs": [
        {
          "data": {
            "text/html": [
              "<div>\n",
              "<style scoped>\n",
              "    .dataframe tbody tr th:only-of-type {\n",
              "        vertical-align: middle;\n",
              "    }\n",
              "\n",
              "    .dataframe tbody tr th {\n",
              "        vertical-align: top;\n",
              "    }\n",
              "\n",
              "    .dataframe thead th {\n",
              "        text-align: right;\n",
              "    }\n",
              "</style>\n",
              "<table border=\"1\" class=\"dataframe\">\n",
              "  <thead>\n",
              "    <tr style=\"text-align: right;\">\n",
              "      <th></th>\n",
              "      <th>경부선 KTX</th>\n",
              "      <th>호남선 KTX</th>\n",
              "      <th>경전선 KTX</th>\n",
              "      <th>전라선 KTX</th>\n",
              "      <th>동해선 KTX</th>\n",
              "    </tr>\n",
              "  </thead>\n",
              "  <tbody>\n",
              "    <tr>\n",
              "      <th>2013</th>\n",
              "      <td>42005</td>\n",
              "      <td>6873</td>\n",
              "      <td>4088</td>\n",
              "      <td>1954</td>\n",
              "      <td>NaN</td>\n",
              "    </tr>\n",
              "    <tr>\n",
              "      <th>2014</th>\n",
              "      <td>43621</td>\n",
              "      <td>6626</td>\n",
              "      <td>4424</td>\n",
              "      <td>2244</td>\n",
              "      <td>NaN</td>\n",
              "    </tr>\n",
              "    <tr>\n",
              "      <th>2015</th>\n",
              "      <td>41702</td>\n",
              "      <td>8675</td>\n",
              "      <td>4606</td>\n",
              "      <td>3146</td>\n",
              "      <td>2395.0</td>\n",
              "    </tr>\n",
              "  </tbody>\n",
              "</table>\n",
              "</div>"
            ],
            "text/plain": [
              "      경부선 KTX  호남선 KTX  경전선 KTX  전라선 KTX  동해선 KTX\n",
              "2013    42005     6873     4088     1954      NaN\n",
              "2014    43621     6626     4424     2244      NaN\n",
              "2015    41702     8675     4606     3146   2395.0"
            ]
          },
          "execution_count": 35,
          "metadata": {},
          "output_type": "execute_result"
        }
      ],
      "source": [
        "df_KTX[2:5]"
      ]
    },
    {
      "cell_type": "markdown",
      "id": "74c39093-239f-4fe2-92e1-46c9543e8120",
      "metadata": {
        "id": "74c39093-239f-4fe2-92e1-46c9543e8120"
      },
      "source": [
        "## loc vs iloc를 활용한 열 추출, 행 추출\n",
        "- 두가지의 차이 기억하기\n",
        "- 한가지만 기억하고자 한다면, loc만 기억하자. (오늘의 블로그 주제)\n",
        "- 코드작성할 때 가급적이면 loc로 하자 iloc말고"
      ]
    },
    {
      "cell_type": "code",
      "execution_count": null,
      "id": "2fecd0d3-4c0a-4888-9614-640bec41960f",
      "metadata": {
        "collapsed": true,
        "jupyter": {
          "outputs_hidden": true
        },
        "id": "2fecd0d3-4c0a-4888-9614-640bec41960f",
        "outputId": "fa149269-7811-4011-8dfa-7344d069adcc"
      },
      "outputs": [
        {
          "data": {
            "text/html": [
              "<div>\n",
              "<style scoped>\n",
              "    .dataframe tbody tr th:only-of-type {\n",
              "        vertical-align: middle;\n",
              "    }\n",
              "\n",
              "    .dataframe tbody tr th {\n",
              "        vertical-align: top;\n",
              "    }\n",
              "\n",
              "    .dataframe thead th {\n",
              "        text-align: right;\n",
              "    }\n",
              "</style>\n",
              "<table border=\"1\" class=\"dataframe\">\n",
              "  <thead>\n",
              "    <tr style=\"text-align: right;\">\n",
              "      <th></th>\n",
              "      <th>경부선 KTX</th>\n",
              "      <th>호남선 KTX</th>\n",
              "      <th>경전선 KTX</th>\n",
              "      <th>전라선 KTX</th>\n",
              "      <th>동해선 KTX</th>\n",
              "    </tr>\n",
              "  </thead>\n",
              "  <tbody>\n",
              "    <tr>\n",
              "      <th>2013</th>\n",
              "      <td>42005</td>\n",
              "      <td>6873</td>\n",
              "      <td>4088</td>\n",
              "      <td>1954</td>\n",
              "      <td>NaN</td>\n",
              "    </tr>\n",
              "    <tr>\n",
              "      <th>2014</th>\n",
              "      <td>43621</td>\n",
              "      <td>6626</td>\n",
              "      <td>4424</td>\n",
              "      <td>2244</td>\n",
              "      <td>NaN</td>\n",
              "    </tr>\n",
              "    <tr>\n",
              "      <th>2015</th>\n",
              "      <td>41702</td>\n",
              "      <td>8675</td>\n",
              "      <td>4606</td>\n",
              "      <td>3146</td>\n",
              "      <td>2395.0</td>\n",
              "    </tr>\n",
              "    <tr>\n",
              "      <th>2016</th>\n",
              "      <td>41266</td>\n",
              "      <td>10622</td>\n",
              "      <td>4984</td>\n",
              "      <td>3945</td>\n",
              "      <td>3786.0</td>\n",
              "    </tr>\n",
              "  </tbody>\n",
              "</table>\n",
              "</div>"
            ],
            "text/plain": [
              "      경부선 KTX  호남선 KTX  경전선 KTX  전라선 KTX  동해선 KTX\n",
              "2013    42005     6873     4088     1954      NaN\n",
              "2014    43621     6626     4424     2244      NaN\n",
              "2015    41702     8675     4606     3146   2395.0\n",
              "2016    41266    10622     4984     3945   3786.0"
            ]
          },
          "execution_count": 36,
          "metadata": {},
          "output_type": "execute_result"
        }
      ],
      "source": [
        "#df_KTX.loc[행, 열] #이게 기준\n",
        "#df_KTX.loc['2013':'2016'] #좋은 문법은 아니다."
      ]
    },
    {
      "cell_type": "code",
      "execution_count": null,
      "id": "ecdc19eb-aec8-46ef-91c5-69af620378cb",
      "metadata": {
        "id": "ecdc19eb-aec8-46ef-91c5-69af620378cb",
        "outputId": "1e6c2ee4-1e51-476c-d1de-f676e5071fbf"
      },
      "outputs": [
        {
          "data": {
            "text/plain": [
              "2013    42005\n",
              "2014    43621\n",
              "2015    41702\n",
              "2016    41266\n",
              "Name: 경부선 KTX, dtype: int64"
            ]
          },
          "execution_count": 37,
          "metadata": {},
          "output_type": "execute_result"
        }
      ],
      "source": [
        "df_KTX.loc['2013':'2016', '경부선 KTX'] #이 코드를 기억하면 웬만한 행추출 쌉가능 다른 코드들은 지저분"
      ]
    },
    {
      "cell_type": "code",
      "execution_count": null,
      "id": "1e137014-b6c0-4902-b1eb-b651cda902f7",
      "metadata": {
        "id": "1e137014-b6c0-4902-b1eb-b651cda902f7"
      },
      "outputs": [],
      "source": [
        "#P.264는 그냥 통으로 삭제시켜 너무 지저분해"
      ]
    },
    {
      "cell_type": "code",
      "execution_count": null,
      "id": "4ac3cb32-0df4-453a-a466-1af7676361cc",
      "metadata": {
        "id": "4ac3cb32-0df4-453a-a466-1af7676361cc",
        "outputId": "f649d47b-cc26-4f7d-d920-f270860d7755"
      },
      "outputs": [
        {
          "data": {
            "text/html": [
              "<div>\n",
              "<style scoped>\n",
              "    .dataframe tbody tr th:only-of-type {\n",
              "        vertical-align: middle;\n",
              "    }\n",
              "\n",
              "    .dataframe tbody tr th {\n",
              "        vertical-align: top;\n",
              "    }\n",
              "\n",
              "    .dataframe thead th {\n",
              "        text-align: right;\n",
              "    }\n",
              "</style>\n",
              "<table border=\"1\" class=\"dataframe\">\n",
              "  <thead>\n",
              "    <tr style=\"text-align: right;\">\n",
              "      <th></th>\n",
              "      <th>경부선 KTX</th>\n",
              "      <th>호남선 KTX</th>\n",
              "    </tr>\n",
              "  </thead>\n",
              "  <tbody>\n",
              "    <tr>\n",
              "      <th>2013</th>\n",
              "      <td>42005</td>\n",
              "      <td>6873</td>\n",
              "    </tr>\n",
              "    <tr>\n",
              "      <th>2014</th>\n",
              "      <td>43621</td>\n",
              "      <td>6626</td>\n",
              "    </tr>\n",
              "    <tr>\n",
              "      <th>2015</th>\n",
              "      <td>41702</td>\n",
              "      <td>8675</td>\n",
              "    </tr>\n",
              "    <tr>\n",
              "      <th>2016</th>\n",
              "      <td>41266</td>\n",
              "      <td>10622</td>\n",
              "    </tr>\n",
              "  </tbody>\n",
              "</table>\n",
              "</div>"
            ],
            "text/plain": [
              "      경부선 KTX  호남선 KTX\n",
              "2013    42005     6873\n",
              "2014    43621     6626\n",
              "2015    41702     8675\n",
              "2016    41266    10622"
            ]
          },
          "execution_count": 40,
          "metadata": {},
          "output_type": "execute_result"
        }
      ],
      "source": [
        "df_KTX.loc['2013':'2016', ['경부선 KTX','호남선 KTX']]"
      ]
    },
    {
      "cell_type": "code",
      "execution_count": null,
      "id": "11488e11-02c8-496a-9b88-854a22a695b0",
      "metadata": {
        "id": "11488e11-02c8-496a-9b88-854a22a695b0",
        "outputId": "5fd986c6-12dc-4f57-808e-54aa0678e149"
      },
      "outputs": [
        {
          "data": {
            "text/html": [
              "<div>\n",
              "<style scoped>\n",
              "    .dataframe tbody tr th:only-of-type {\n",
              "        vertical-align: middle;\n",
              "    }\n",
              "\n",
              "    .dataframe tbody tr th {\n",
              "        vertical-align: top;\n",
              "    }\n",
              "\n",
              "    .dataframe thead th {\n",
              "        text-align: right;\n",
              "    }\n",
              "</style>\n",
              "<table border=\"1\" class=\"dataframe\">\n",
              "  <thead>\n",
              "    <tr style=\"text-align: right;\">\n",
              "      <th></th>\n",
              "      <th>호남선 KTX</th>\n",
              "    </tr>\n",
              "  </thead>\n",
              "  <tbody>\n",
              "    <tr>\n",
              "      <th>2013</th>\n",
              "      <td>6873</td>\n",
              "    </tr>\n",
              "    <tr>\n",
              "      <th>2014</th>\n",
              "      <td>6626</td>\n",
              "    </tr>\n",
              "    <tr>\n",
              "      <th>2015</th>\n",
              "      <td>8675</td>\n",
              "    </tr>\n",
              "    <tr>\n",
              "      <th>2016</th>\n",
              "      <td>10622</td>\n",
              "    </tr>\n",
              "  </tbody>\n",
              "</table>\n",
              "</div>"
            ],
            "text/plain": [
              "      호남선 KTX\n",
              "2013     6873\n",
              "2014     6626\n",
              "2015     8675\n",
              "2016    10622"
            ]
          },
          "execution_count": 41,
          "metadata": {},
          "output_type": "execute_result"
        }
      ],
      "source": [
        "df_KTX.loc['2013':'2016', ['호남선 KTX']] #나오긴함"
      ]
    },
    {
      "cell_type": "code",
      "execution_count": null,
      "id": "cf5c605b-bdeb-4f14-a2a4-a3c00ca81f95",
      "metadata": {
        "id": "cf5c605b-bdeb-4f14-a2a4-a3c00ca81f95",
        "outputId": "44556beb-9464-4cfe-8c0f-6f3671ef9461"
      },
      "outputs": [
        {
          "data": {
            "text/plain": [
              "0      False\n",
              "1      False\n",
              "2      False\n",
              "3      False\n",
              "4      False\n",
              "       ...  \n",
              "145    False\n",
              "146    False\n",
              "147    False\n",
              "148    False\n",
              "149    False\n",
              "Name: sepal_length, Length: 150, dtype: bool"
            ]
          },
          "execution_count": 45,
          "metadata": {},
          "output_type": "execute_result"
        }
      ],
      "source": [
        "iris['sepal_length'] >=7"
      ]
    },
    {
      "cell_type": "code",
      "execution_count": null,
      "id": "8d036649-1700-4bdf-9caf-f67960255806",
      "metadata": {
        "id": "8d036649-1700-4bdf-9caf-f67960255806",
        "outputId": "e15f1e39-924d-480b-b8a9-0db47c895879"
      },
      "outputs": [
        {
          "data": {
            "text/html": [
              "<div>\n",
              "<style scoped>\n",
              "    .dataframe tbody tr th:only-of-type {\n",
              "        vertical-align: middle;\n",
              "    }\n",
              "\n",
              "    .dataframe tbody tr th {\n",
              "        vertical-align: top;\n",
              "    }\n",
              "\n",
              "    .dataframe thead th {\n",
              "        text-align: right;\n",
              "    }\n",
              "</style>\n",
              "<table border=\"1\" class=\"dataframe\">\n",
              "  <thead>\n",
              "    <tr style=\"text-align: right;\">\n",
              "      <th></th>\n",
              "      <th>sepal_length</th>\n",
              "      <th>sepal_width</th>\n",
              "      <th>petal_length</th>\n",
              "      <th>petal_width</th>\n",
              "      <th>species</th>\n",
              "    </tr>\n",
              "  </thead>\n",
              "  <tbody>\n",
              "    <tr>\n",
              "      <th>50</th>\n",
              "      <td>7.0</td>\n",
              "      <td>3.2</td>\n",
              "      <td>4.7</td>\n",
              "      <td>1.4</td>\n",
              "      <td>versicolor</td>\n",
              "    </tr>\n",
              "    <tr>\n",
              "      <th>102</th>\n",
              "      <td>7.1</td>\n",
              "      <td>3.0</td>\n",
              "      <td>5.9</td>\n",
              "      <td>2.1</td>\n",
              "      <td>virginica</td>\n",
              "    </tr>\n",
              "    <tr>\n",
              "      <th>105</th>\n",
              "      <td>7.6</td>\n",
              "      <td>3.0</td>\n",
              "      <td>6.6</td>\n",
              "      <td>2.1</td>\n",
              "      <td>virginica</td>\n",
              "    </tr>\n",
              "    <tr>\n",
              "      <th>107</th>\n",
              "      <td>7.3</td>\n",
              "      <td>2.9</td>\n",
              "      <td>6.3</td>\n",
              "      <td>1.8</td>\n",
              "      <td>virginica</td>\n",
              "    </tr>\n",
              "    <tr>\n",
              "      <th>109</th>\n",
              "      <td>7.2</td>\n",
              "      <td>3.6</td>\n",
              "      <td>6.1</td>\n",
              "      <td>2.5</td>\n",
              "      <td>virginica</td>\n",
              "    </tr>\n",
              "    <tr>\n",
              "      <th>117</th>\n",
              "      <td>7.7</td>\n",
              "      <td>3.8</td>\n",
              "      <td>6.7</td>\n",
              "      <td>2.2</td>\n",
              "      <td>virginica</td>\n",
              "    </tr>\n",
              "    <tr>\n",
              "      <th>118</th>\n",
              "      <td>7.7</td>\n",
              "      <td>2.6</td>\n",
              "      <td>6.9</td>\n",
              "      <td>2.3</td>\n",
              "      <td>virginica</td>\n",
              "    </tr>\n",
              "    <tr>\n",
              "      <th>122</th>\n",
              "      <td>7.7</td>\n",
              "      <td>2.8</td>\n",
              "      <td>6.7</td>\n",
              "      <td>2.0</td>\n",
              "      <td>virginica</td>\n",
              "    </tr>\n",
              "    <tr>\n",
              "      <th>125</th>\n",
              "      <td>7.2</td>\n",
              "      <td>3.2</td>\n",
              "      <td>6.0</td>\n",
              "      <td>1.8</td>\n",
              "      <td>virginica</td>\n",
              "    </tr>\n",
              "    <tr>\n",
              "      <th>129</th>\n",
              "      <td>7.2</td>\n",
              "      <td>3.0</td>\n",
              "      <td>5.8</td>\n",
              "      <td>1.6</td>\n",
              "      <td>virginica</td>\n",
              "    </tr>\n",
              "    <tr>\n",
              "      <th>130</th>\n",
              "      <td>7.4</td>\n",
              "      <td>2.8</td>\n",
              "      <td>6.1</td>\n",
              "      <td>1.9</td>\n",
              "      <td>virginica</td>\n",
              "    </tr>\n",
              "    <tr>\n",
              "      <th>131</th>\n",
              "      <td>7.9</td>\n",
              "      <td>3.8</td>\n",
              "      <td>6.4</td>\n",
              "      <td>2.0</td>\n",
              "      <td>virginica</td>\n",
              "    </tr>\n",
              "    <tr>\n",
              "      <th>135</th>\n",
              "      <td>7.7</td>\n",
              "      <td>3.0</td>\n",
              "      <td>6.1</td>\n",
              "      <td>2.3</td>\n",
              "      <td>virginica</td>\n",
              "    </tr>\n",
              "  </tbody>\n",
              "</table>\n",
              "</div>"
            ],
            "text/plain": [
              "     sepal_length  sepal_width  petal_length  petal_width     species\n",
              "50            7.0          3.2           4.7          1.4  versicolor\n",
              "102           7.1          3.0           5.9          2.1   virginica\n",
              "105           7.6          3.0           6.6          2.1   virginica\n",
              "107           7.3          2.9           6.3          1.8   virginica\n",
              "109           7.2          3.6           6.1          2.5   virginica\n",
              "117           7.7          3.8           6.7          2.2   virginica\n",
              "118           7.7          2.6           6.9          2.3   virginica\n",
              "122           7.7          2.8           6.7          2.0   virginica\n",
              "125           7.2          3.2           6.0          1.8   virginica\n",
              "129           7.2          3.0           5.8          1.6   virginica\n",
              "130           7.4          2.8           6.1          1.9   virginica\n",
              "131           7.9          3.8           6.4          2.0   virginica\n",
              "135           7.7          3.0           6.1          2.3   virginica"
            ]
          },
          "execution_count": 44,
          "metadata": {},
          "output_type": "execute_result"
        }
      ],
      "source": [
        "# df_KTX.loc[행조건식, [컬럼명]]  이걸 디폴트로 외우면 된다.\n",
        "\n",
        "iris = sns.load_dataset('iris')\n",
        "\n",
        "# sepal_length의 길이가 5cm 이상인 것만 조회\n",
        "iris.loc[iris['sepal_length'] >=7 , :] #[:, :] 모든데이터 가져온단 뜻 자 그럼\n",
        "# 그럼 행조건식 넣은게 True/False 나올거잖음 iris['sepal_length'] >=7 이거 --> 트루값만 가져온거지 그럼?\n",
        "# 그니까 조건식은 True/False 나오게 적는게 포인트라는 것 상기"
      ]
    },
    {
      "cell_type": "code",
      "execution_count": null,
      "id": "06d4a9c8-9d5f-48bc-8769-f4c5966fdb41",
      "metadata": {
        "collapsed": true,
        "jupyter": {
          "outputs_hidden": true
        },
        "id": "06d4a9c8-9d5f-48bc-8769-f4c5966fdb41",
        "outputId": "71b68dd8-2234-4c64-cfa9-3e86b4927d81"
      },
      "outputs": [
        {
          "ename": "KeyError",
          "evalue": "'virginica'",
          "output_type": "error",
          "traceback": [
            "\u001b[1;31m---------------------------------------------------------------------------\u001b[0m",
            "\u001b[1;31mKeyError\u001b[0m                                  Traceback (most recent call last)",
            "File \u001b[1;32m~\\Desktop\\projectDS\\venv\\Lib\\site-packages\\pandas\\core\\indexes\\base.py:3791\u001b[0m, in \u001b[0;36mIndex.get_loc\u001b[1;34m(self, key)\u001b[0m\n\u001b[0;32m   3790\u001b[0m \u001b[38;5;28;01mtry\u001b[39;00m:\n\u001b[1;32m-> 3791\u001b[0m     \u001b[38;5;28;01mreturn\u001b[39;00m \u001b[38;5;28;43mself\u001b[39;49m\u001b[38;5;241;43m.\u001b[39;49m\u001b[43m_engine\u001b[49m\u001b[38;5;241;43m.\u001b[39;49m\u001b[43mget_loc\u001b[49m\u001b[43m(\u001b[49m\u001b[43mcasted_key\u001b[49m\u001b[43m)\u001b[49m\n\u001b[0;32m   3792\u001b[0m \u001b[38;5;28;01mexcept\u001b[39;00m \u001b[38;5;167;01mKeyError\u001b[39;00m \u001b[38;5;28;01mas\u001b[39;00m err:\n",
            "File \u001b[1;32mindex.pyx:152\u001b[0m, in \u001b[0;36mpandas._libs.index.IndexEngine.get_loc\u001b[1;34m()\u001b[0m\n",
            "File \u001b[1;32mindex.pyx:181\u001b[0m, in \u001b[0;36mpandas._libs.index.IndexEngine.get_loc\u001b[1;34m()\u001b[0m\n",
            "File \u001b[1;32mpandas\\_libs\\hashtable_class_helper.pxi:7080\u001b[0m, in \u001b[0;36mpandas._libs.hashtable.PyObjectHashTable.get_item\u001b[1;34m()\u001b[0m\n",
            "File \u001b[1;32mpandas\\_libs\\hashtable_class_helper.pxi:7088\u001b[0m, in \u001b[0;36mpandas._libs.hashtable.PyObjectHashTable.get_item\u001b[1;34m()\u001b[0m\n",
            "\u001b[1;31mKeyError\u001b[0m: 'virginica'",
            "\nThe above exception was the direct cause of the following exception:\n",
            "\u001b[1;31mKeyError\u001b[0m                                  Traceback (most recent call last)",
            "Cell \u001b[1;32mIn[48], line 2\u001b[0m\n\u001b[0;32m      1\u001b[0m \u001b[38;5;66;03m# species가 virginica인 것만 조회\u001b[39;00m\n\u001b[1;32m----> 2\u001b[0m iris\u001b[38;5;241m.\u001b[39mloc[\u001b[43miris\u001b[49m\u001b[43m[\u001b[49m\u001b[38;5;124;43m'\u001b[39;49m\u001b[38;5;124;43mvirginica\u001b[39;49m\u001b[38;5;124;43m'\u001b[39;49m\u001b[43m]\u001b[49m,[\u001b[38;5;124m'\u001b[39m\u001b[38;5;124mspecies\u001b[39m\u001b[38;5;124m'\u001b[39m]]\n\u001b[0;32m      4\u001b[0m \u001b[38;5;66;03m# df_KTX.loc[행조건식, [컬럼명]]  이걸 디폴트로 외우면 된다. \u001b[39;00m\n",
            "File \u001b[1;32m~\\Desktop\\projectDS\\venv\\Lib\\site-packages\\pandas\\core\\frame.py:3893\u001b[0m, in \u001b[0;36mDataFrame.__getitem__\u001b[1;34m(self, key)\u001b[0m\n\u001b[0;32m   3891\u001b[0m \u001b[38;5;28;01mif\u001b[39;00m \u001b[38;5;28mself\u001b[39m\u001b[38;5;241m.\u001b[39mcolumns\u001b[38;5;241m.\u001b[39mnlevels \u001b[38;5;241m>\u001b[39m \u001b[38;5;241m1\u001b[39m:\n\u001b[0;32m   3892\u001b[0m     \u001b[38;5;28;01mreturn\u001b[39;00m \u001b[38;5;28mself\u001b[39m\u001b[38;5;241m.\u001b[39m_getitem_multilevel(key)\n\u001b[1;32m-> 3893\u001b[0m indexer \u001b[38;5;241m=\u001b[39m \u001b[38;5;28;43mself\u001b[39;49m\u001b[38;5;241;43m.\u001b[39;49m\u001b[43mcolumns\u001b[49m\u001b[38;5;241;43m.\u001b[39;49m\u001b[43mget_loc\u001b[49m\u001b[43m(\u001b[49m\u001b[43mkey\u001b[49m\u001b[43m)\u001b[49m\n\u001b[0;32m   3894\u001b[0m \u001b[38;5;28;01mif\u001b[39;00m is_integer(indexer):\n\u001b[0;32m   3895\u001b[0m     indexer \u001b[38;5;241m=\u001b[39m [indexer]\n",
            "File \u001b[1;32m~\\Desktop\\projectDS\\venv\\Lib\\site-packages\\pandas\\core\\indexes\\base.py:3798\u001b[0m, in \u001b[0;36mIndex.get_loc\u001b[1;34m(self, key)\u001b[0m\n\u001b[0;32m   3793\u001b[0m     \u001b[38;5;28;01mif\u001b[39;00m \u001b[38;5;28misinstance\u001b[39m(casted_key, \u001b[38;5;28mslice\u001b[39m) \u001b[38;5;129;01mor\u001b[39;00m (\n\u001b[0;32m   3794\u001b[0m         \u001b[38;5;28misinstance\u001b[39m(casted_key, abc\u001b[38;5;241m.\u001b[39mIterable)\n\u001b[0;32m   3795\u001b[0m         \u001b[38;5;129;01mand\u001b[39;00m \u001b[38;5;28many\u001b[39m(\u001b[38;5;28misinstance\u001b[39m(x, \u001b[38;5;28mslice\u001b[39m) \u001b[38;5;28;01mfor\u001b[39;00m x \u001b[38;5;129;01min\u001b[39;00m casted_key)\n\u001b[0;32m   3796\u001b[0m     ):\n\u001b[0;32m   3797\u001b[0m         \u001b[38;5;28;01mraise\u001b[39;00m InvalidIndexError(key)\n\u001b[1;32m-> 3798\u001b[0m     \u001b[38;5;28;01mraise\u001b[39;00m \u001b[38;5;167;01mKeyError\u001b[39;00m(key) \u001b[38;5;28;01mfrom\u001b[39;00m \u001b[38;5;21;01merr\u001b[39;00m\n\u001b[0;32m   3799\u001b[0m \u001b[38;5;28;01mexcept\u001b[39;00m \u001b[38;5;167;01mTypeError\u001b[39;00m:\n\u001b[0;32m   3800\u001b[0m     \u001b[38;5;66;03m# If we have a listlike key, _check_indexing_error will raise\u001b[39;00m\n\u001b[0;32m   3801\u001b[0m     \u001b[38;5;66;03m#  InvalidIndexError. Otherwise we fall through and re-raise\u001b[39;00m\n\u001b[0;32m   3802\u001b[0m     \u001b[38;5;66;03m#  the TypeError.\u001b[39;00m\n\u001b[0;32m   3803\u001b[0m     \u001b[38;5;28mself\u001b[39m\u001b[38;5;241m.\u001b[39m_check_indexing_error(key)\n",
            "\u001b[1;31mKeyError\u001b[0m: 'virginica'"
          ]
        }
      ],
      "source": [
        "# species가 virginica인 것만 조회\n",
        "iris.loc[iris['virginica'],['species']] # 걍 모르겠어욥 ㅎ....\n",
        "#--> iris.loc[iris['컬럼명'] == 'virginica',:]] (피드백)\n",
        "\n",
        "#case 1\n",
        "# iris.loc[iris['species'] == 'virginica', :] 행조건만 맞추면 된다! True/False나오게 ! 문자끼리 할 때는 == 두개!\n",
        "그리고\n",
        "\n",
        "\n",
        "\n",
        "# df_KTX.loc[행조건식, [컬럼명]]  이걸 디폴트로 외우면 된다."
      ]
    },
    {
      "cell_type": "code",
      "execution_count": null,
      "id": "ddeeb795-35ce-42cb-af52-cfb4a38fa806",
      "metadata": {
        "id": "ddeeb795-35ce-42cb-af52-cfb4a38fa806",
        "outputId": "73a0a7a4-4884-42b7-c5a5-1151c69d8d79"
      },
      "outputs": [
        {
          "data": {
            "text/html": [
              "<div>\n",
              "<style scoped>\n",
              "    .dataframe tbody tr th:only-of-type {\n",
              "        vertical-align: middle;\n",
              "    }\n",
              "\n",
              "    .dataframe tbody tr th {\n",
              "        vertical-align: top;\n",
              "    }\n",
              "\n",
              "    .dataframe thead th {\n",
              "        text-align: right;\n",
              "    }\n",
              "</style>\n",
              "<table border=\"1\" class=\"dataframe\">\n",
              "  <thead>\n",
              "    <tr style=\"text-align: right;\">\n",
              "      <th></th>\n",
              "      <th>survived</th>\n",
              "      <th>pclass</th>\n",
              "      <th>sex</th>\n",
              "      <th>age</th>\n",
              "      <th>sibsp</th>\n",
              "      <th>parch</th>\n",
              "      <th>fare</th>\n",
              "      <th>embarked</th>\n",
              "      <th>class</th>\n",
              "      <th>who</th>\n",
              "      <th>adult_male</th>\n",
              "      <th>deck</th>\n",
              "      <th>embark_town</th>\n",
              "      <th>alive</th>\n",
              "      <th>alone</th>\n",
              "    </tr>\n",
              "  </thead>\n",
              "  <tbody>\n",
              "    <tr>\n",
              "      <th>0</th>\n",
              "      <td>0</td>\n",
              "      <td>3</td>\n",
              "      <td>male</td>\n",
              "      <td>22.0</td>\n",
              "      <td>1</td>\n",
              "      <td>0</td>\n",
              "      <td>7.2500</td>\n",
              "      <td>S</td>\n",
              "      <td>Third</td>\n",
              "      <td>man</td>\n",
              "      <td>True</td>\n",
              "      <td>NaN</td>\n",
              "      <td>Southampton</td>\n",
              "      <td>no</td>\n",
              "      <td>False</td>\n",
              "    </tr>\n",
              "    <tr>\n",
              "      <th>1</th>\n",
              "      <td>1</td>\n",
              "      <td>1</td>\n",
              "      <td>female</td>\n",
              "      <td>38.0</td>\n",
              "      <td>1</td>\n",
              "      <td>0</td>\n",
              "      <td>71.2833</td>\n",
              "      <td>C</td>\n",
              "      <td>First</td>\n",
              "      <td>woman</td>\n",
              "      <td>False</td>\n",
              "      <td>C</td>\n",
              "      <td>Cherbourg</td>\n",
              "      <td>yes</td>\n",
              "      <td>False</td>\n",
              "    </tr>\n",
              "    <tr>\n",
              "      <th>2</th>\n",
              "      <td>1</td>\n",
              "      <td>3</td>\n",
              "      <td>female</td>\n",
              "      <td>26.0</td>\n",
              "      <td>0</td>\n",
              "      <td>0</td>\n",
              "      <td>7.9250</td>\n",
              "      <td>S</td>\n",
              "      <td>Third</td>\n",
              "      <td>woman</td>\n",
              "      <td>False</td>\n",
              "      <td>NaN</td>\n",
              "      <td>Southampton</td>\n",
              "      <td>yes</td>\n",
              "      <td>True</td>\n",
              "    </tr>\n",
              "    <tr>\n",
              "      <th>3</th>\n",
              "      <td>1</td>\n",
              "      <td>1</td>\n",
              "      <td>female</td>\n",
              "      <td>35.0</td>\n",
              "      <td>1</td>\n",
              "      <td>0</td>\n",
              "      <td>53.1000</td>\n",
              "      <td>S</td>\n",
              "      <td>First</td>\n",
              "      <td>woman</td>\n",
              "      <td>False</td>\n",
              "      <td>C</td>\n",
              "      <td>Southampton</td>\n",
              "      <td>yes</td>\n",
              "      <td>False</td>\n",
              "    </tr>\n",
              "    <tr>\n",
              "      <th>4</th>\n",
              "      <td>0</td>\n",
              "      <td>3</td>\n",
              "      <td>male</td>\n",
              "      <td>35.0</td>\n",
              "      <td>0</td>\n",
              "      <td>0</td>\n",
              "      <td>8.0500</td>\n",
              "      <td>S</td>\n",
              "      <td>Third</td>\n",
              "      <td>man</td>\n",
              "      <td>True</td>\n",
              "      <td>NaN</td>\n",
              "      <td>Southampton</td>\n",
              "      <td>no</td>\n",
              "      <td>True</td>\n",
              "    </tr>\n",
              "  </tbody>\n",
              "</table>\n",
              "</div>"
            ],
            "text/plain": [
              "   survived  pclass     sex   age  sibsp  parch     fare embarked  class  \\\n",
              "0         0       3    male  22.0      1      0   7.2500        S  Third   \n",
              "1         1       1  female  38.0      1      0  71.2833        C  First   \n",
              "2         1       3  female  26.0      0      0   7.9250        S  Third   \n",
              "3         1       1  female  35.0      1      0  53.1000        S  First   \n",
              "4         0       3    male  35.0      0      0   8.0500        S  Third   \n",
              "\n",
              "     who  adult_male deck  embark_town alive  alone  \n",
              "0    man        True  NaN  Southampton    no  False  \n",
              "1  woman       False    C    Cherbourg   yes  False  \n",
              "2  woman       False  NaN  Southampton   yes   True  \n",
              "3  woman       False    C  Southampton   yes  False  \n",
              "4    man        True  NaN  Southampton    no   True  "
            ]
          },
          "execution_count": 50,
          "metadata": {},
          "output_type": "execute_result"
        }
      ],
      "source": [
        "#문제2\n",
        "titanic = sns.load_dataset('titanic')\n",
        "titanic.head()"
      ]
    },
    {
      "cell_type": "code",
      "execution_count": null,
      "id": "b36fa4bb-6a80-4ed8-a203-078b62b72f37",
      "metadata": {
        "id": "b36fa4bb-6a80-4ed8-a203-078b62b72f37",
        "outputId": "cb51ad35-ec7c-4304-f832-d04ae9605cf7"
      },
      "outputs": [
        {
          "data": {
            "text/html": [
              "<div>\n",
              "<style scoped>\n",
              "    .dataframe tbody tr th:only-of-type {\n",
              "        vertical-align: middle;\n",
              "    }\n",
              "\n",
              "    .dataframe tbody tr th {\n",
              "        vertical-align: top;\n",
              "    }\n",
              "\n",
              "    .dataframe thead th {\n",
              "        text-align: right;\n",
              "    }\n",
              "</style>\n",
              "<table border=\"1\" class=\"dataframe\">\n",
              "  <thead>\n",
              "    <tr style=\"text-align: right;\">\n",
              "      <th></th>\n",
              "      <th>survived</th>\n",
              "      <th>pclass</th>\n",
              "      <th>sex</th>\n",
              "      <th>age</th>\n",
              "      <th>sibsp</th>\n",
              "      <th>parch</th>\n",
              "      <th>fare</th>\n",
              "      <th>embarked</th>\n",
              "      <th>class</th>\n",
              "      <th>who</th>\n",
              "      <th>adult_male</th>\n",
              "      <th>deck</th>\n",
              "      <th>embark_town</th>\n",
              "      <th>alive</th>\n",
              "      <th>alone</th>\n",
              "    </tr>\n",
              "  </thead>\n",
              "  <tbody>\n",
              "    <tr>\n",
              "      <th>0</th>\n",
              "      <td>0</td>\n",
              "      <td>3</td>\n",
              "      <td>male</td>\n",
              "      <td>22.0</td>\n",
              "      <td>1</td>\n",
              "      <td>0</td>\n",
              "      <td>7.2500</td>\n",
              "      <td>S</td>\n",
              "      <td>Third</td>\n",
              "      <td>man</td>\n",
              "      <td>True</td>\n",
              "      <td>NaN</td>\n",
              "      <td>Southampton</td>\n",
              "      <td>no</td>\n",
              "      <td>False</td>\n",
              "    </tr>\n",
              "    <tr>\n",
              "      <th>2</th>\n",
              "      <td>1</td>\n",
              "      <td>3</td>\n",
              "      <td>female</td>\n",
              "      <td>26.0</td>\n",
              "      <td>0</td>\n",
              "      <td>0</td>\n",
              "      <td>7.9250</td>\n",
              "      <td>S</td>\n",
              "      <td>Third</td>\n",
              "      <td>woman</td>\n",
              "      <td>False</td>\n",
              "      <td>NaN</td>\n",
              "      <td>Southampton</td>\n",
              "      <td>yes</td>\n",
              "      <td>True</td>\n",
              "    </tr>\n",
              "    <tr>\n",
              "      <th>3</th>\n",
              "      <td>1</td>\n",
              "      <td>1</td>\n",
              "      <td>female</td>\n",
              "      <td>35.0</td>\n",
              "      <td>1</td>\n",
              "      <td>0</td>\n",
              "      <td>53.1000</td>\n",
              "      <td>S</td>\n",
              "      <td>First</td>\n",
              "      <td>woman</td>\n",
              "      <td>False</td>\n",
              "      <td>C</td>\n",
              "      <td>Southampton</td>\n",
              "      <td>yes</td>\n",
              "      <td>False</td>\n",
              "    </tr>\n",
              "    <tr>\n",
              "      <th>4</th>\n",
              "      <td>0</td>\n",
              "      <td>3</td>\n",
              "      <td>male</td>\n",
              "      <td>35.0</td>\n",
              "      <td>0</td>\n",
              "      <td>0</td>\n",
              "      <td>8.0500</td>\n",
              "      <td>S</td>\n",
              "      <td>Third</td>\n",
              "      <td>man</td>\n",
              "      <td>True</td>\n",
              "      <td>NaN</td>\n",
              "      <td>Southampton</td>\n",
              "      <td>no</td>\n",
              "      <td>True</td>\n",
              "    </tr>\n",
              "    <tr>\n",
              "      <th>6</th>\n",
              "      <td>0</td>\n",
              "      <td>1</td>\n",
              "      <td>male</td>\n",
              "      <td>54.0</td>\n",
              "      <td>0</td>\n",
              "      <td>0</td>\n",
              "      <td>51.8625</td>\n",
              "      <td>S</td>\n",
              "      <td>First</td>\n",
              "      <td>man</td>\n",
              "      <td>True</td>\n",
              "      <td>E</td>\n",
              "      <td>Southampton</td>\n",
              "      <td>no</td>\n",
              "      <td>True</td>\n",
              "    </tr>\n",
              "    <tr>\n",
              "      <th>...</th>\n",
              "      <td>...</td>\n",
              "      <td>...</td>\n",
              "      <td>...</td>\n",
              "      <td>...</td>\n",
              "      <td>...</td>\n",
              "      <td>...</td>\n",
              "      <td>...</td>\n",
              "      <td>...</td>\n",
              "      <td>...</td>\n",
              "      <td>...</td>\n",
              "      <td>...</td>\n",
              "      <td>...</td>\n",
              "      <td>...</td>\n",
              "      <td>...</td>\n",
              "      <td>...</td>\n",
              "    </tr>\n",
              "    <tr>\n",
              "      <th>883</th>\n",
              "      <td>0</td>\n",
              "      <td>2</td>\n",
              "      <td>male</td>\n",
              "      <td>28.0</td>\n",
              "      <td>0</td>\n",
              "      <td>0</td>\n",
              "      <td>10.5000</td>\n",
              "      <td>S</td>\n",
              "      <td>Second</td>\n",
              "      <td>man</td>\n",
              "      <td>True</td>\n",
              "      <td>NaN</td>\n",
              "      <td>Southampton</td>\n",
              "      <td>no</td>\n",
              "      <td>True</td>\n",
              "    </tr>\n",
              "    <tr>\n",
              "      <th>884</th>\n",
              "      <td>0</td>\n",
              "      <td>3</td>\n",
              "      <td>male</td>\n",
              "      <td>25.0</td>\n",
              "      <td>0</td>\n",
              "      <td>0</td>\n",
              "      <td>7.0500</td>\n",
              "      <td>S</td>\n",
              "      <td>Third</td>\n",
              "      <td>man</td>\n",
              "      <td>True</td>\n",
              "      <td>NaN</td>\n",
              "      <td>Southampton</td>\n",
              "      <td>no</td>\n",
              "      <td>True</td>\n",
              "    </tr>\n",
              "    <tr>\n",
              "      <th>886</th>\n",
              "      <td>0</td>\n",
              "      <td>2</td>\n",
              "      <td>male</td>\n",
              "      <td>27.0</td>\n",
              "      <td>0</td>\n",
              "      <td>0</td>\n",
              "      <td>13.0000</td>\n",
              "      <td>S</td>\n",
              "      <td>Second</td>\n",
              "      <td>man</td>\n",
              "      <td>True</td>\n",
              "      <td>NaN</td>\n",
              "      <td>Southampton</td>\n",
              "      <td>no</td>\n",
              "      <td>True</td>\n",
              "    </tr>\n",
              "    <tr>\n",
              "      <th>887</th>\n",
              "      <td>1</td>\n",
              "      <td>1</td>\n",
              "      <td>female</td>\n",
              "      <td>19.0</td>\n",
              "      <td>0</td>\n",
              "      <td>0</td>\n",
              "      <td>30.0000</td>\n",
              "      <td>S</td>\n",
              "      <td>First</td>\n",
              "      <td>woman</td>\n",
              "      <td>False</td>\n",
              "      <td>B</td>\n",
              "      <td>Southampton</td>\n",
              "      <td>yes</td>\n",
              "      <td>True</td>\n",
              "    </tr>\n",
              "    <tr>\n",
              "      <th>888</th>\n",
              "      <td>0</td>\n",
              "      <td>3</td>\n",
              "      <td>female</td>\n",
              "      <td>NaN</td>\n",
              "      <td>1</td>\n",
              "      <td>2</td>\n",
              "      <td>23.4500</td>\n",
              "      <td>S</td>\n",
              "      <td>Third</td>\n",
              "      <td>woman</td>\n",
              "      <td>False</td>\n",
              "      <td>NaN</td>\n",
              "      <td>Southampton</td>\n",
              "      <td>no</td>\n",
              "      <td>False</td>\n",
              "    </tr>\n",
              "  </tbody>\n",
              "</table>\n",
              "<p>644 rows × 15 columns</p>\n",
              "</div>"
            ],
            "text/plain": [
              "     survived  pclass     sex   age  sibsp  parch     fare embarked   class  \\\n",
              "0           0       3    male  22.0      1      0   7.2500        S   Third   \n",
              "2           1       3  female  26.0      0      0   7.9250        S   Third   \n",
              "3           1       1  female  35.0      1      0  53.1000        S   First   \n",
              "4           0       3    male  35.0      0      0   8.0500        S   Third   \n",
              "6           0       1    male  54.0      0      0  51.8625        S   First   \n",
              "..        ...     ...     ...   ...    ...    ...      ...      ...     ...   \n",
              "883         0       2    male  28.0      0      0  10.5000        S  Second   \n",
              "884         0       3    male  25.0      0      0   7.0500        S   Third   \n",
              "886         0       2    male  27.0      0      0  13.0000        S  Second   \n",
              "887         1       1  female  19.0      0      0  30.0000        S   First   \n",
              "888         0       3  female   NaN      1      2  23.4500        S   Third   \n",
              "\n",
              "       who  adult_male deck  embark_town alive  alone  \n",
              "0      man        True  NaN  Southampton    no  False  \n",
              "2    woman       False  NaN  Southampton   yes   True  \n",
              "3    woman       False    C  Southampton   yes  False  \n",
              "4      man        True  NaN  Southampton    no   True  \n",
              "6      man        True    E  Southampton    no   True  \n",
              "..     ...         ...  ...          ...   ...    ...  \n",
              "883    man        True  NaN  Southampton    no   True  \n",
              "884    man        True  NaN  Southampton    no   True  \n",
              "886    man        True  NaN  Southampton    no   True  \n",
              "887  woman       False    B  Southampton   yes   True  \n",
              "888  woman       False  NaN  Southampton    no  False  \n",
              "\n",
              "[644 rows x 15 columns]"
            ]
          },
          "execution_count": 60,
          "metadata": {},
          "output_type": "execute_result"
        }
      ],
      "source": [
        "# embark_town 컬럼에서 Southampton 거주민의 모든 데이터를 조회하세요\n",
        "# iris.loc[iris['컬럼명'] == 'virginica',:]] # : 모든 컬럼 조회 처음에는 다 조회하고 나중에는 나만의 스타일로\n",
        "\n",
        "titanic.loc[titanic['embark_town'] == 'Southampton',:] #대소문자 구분 잘하셈\n",
        "# 팁 테이블이나 데이터에서 복사해서 넣을 수 있으면 복사해서 넣어라 저거 Southampton 같은거\n",
        "\n"
      ]
    },
    {
      "cell_type": "code",
      "execution_count": null,
      "id": "75b6575a-c17e-41fb-b8ed-846b0b6a5ba0",
      "metadata": {
        "id": "75b6575a-c17e-41fb-b8ed-846b0b6a5ba0",
        "outputId": "a5118d46-3dc5-4049-fe23-63415d4a07a0"
      },
      "outputs": [
        {
          "data": {
            "text/html": [
              "<div>\n",
              "<style scoped>\n",
              "    .dataframe tbody tr th:only-of-type {\n",
              "        vertical-align: middle;\n",
              "    }\n",
              "\n",
              "    .dataframe tbody tr th {\n",
              "        vertical-align: top;\n",
              "    }\n",
              "\n",
              "    .dataframe thead th {\n",
              "        text-align: right;\n",
              "    }\n",
              "</style>\n",
              "<table border=\"1\" class=\"dataframe\">\n",
              "  <thead>\n",
              "    <tr style=\"text-align: right;\">\n",
              "      <th></th>\n",
              "      <th>survived</th>\n",
              "      <th>pclass</th>\n",
              "      <th>sex</th>\n",
              "      <th>age</th>\n",
              "      <th>sibsp</th>\n",
              "      <th>parch</th>\n",
              "      <th>fare</th>\n",
              "      <th>embarked</th>\n",
              "      <th>class</th>\n",
              "      <th>who</th>\n",
              "      <th>adult_male</th>\n",
              "      <th>deck</th>\n",
              "      <th>embark_town</th>\n",
              "      <th>alive</th>\n",
              "      <th>alone</th>\n",
              "    </tr>\n",
              "  </thead>\n",
              "  <tbody>\n",
              "    <tr>\n",
              "      <th>1</th>\n",
              "      <td>1</td>\n",
              "      <td>1</td>\n",
              "      <td>female</td>\n",
              "      <td>38.0</td>\n",
              "      <td>1</td>\n",
              "      <td>0</td>\n",
              "      <td>71.2833</td>\n",
              "      <td>C</td>\n",
              "      <td>First</td>\n",
              "      <td>woman</td>\n",
              "      <td>False</td>\n",
              "      <td>C</td>\n",
              "      <td>Cherbourg</td>\n",
              "      <td>yes</td>\n",
              "      <td>False</td>\n",
              "    </tr>\n",
              "    <tr>\n",
              "      <th>3</th>\n",
              "      <td>1</td>\n",
              "      <td>1</td>\n",
              "      <td>female</td>\n",
              "      <td>35.0</td>\n",
              "      <td>1</td>\n",
              "      <td>0</td>\n",
              "      <td>53.1000</td>\n",
              "      <td>S</td>\n",
              "      <td>First</td>\n",
              "      <td>woman</td>\n",
              "      <td>False</td>\n",
              "      <td>C</td>\n",
              "      <td>Southampton</td>\n",
              "      <td>yes</td>\n",
              "      <td>False</td>\n",
              "    </tr>\n",
              "    <tr>\n",
              "      <th>4</th>\n",
              "      <td>0</td>\n",
              "      <td>3</td>\n",
              "      <td>male</td>\n",
              "      <td>35.0</td>\n",
              "      <td>0</td>\n",
              "      <td>0</td>\n",
              "      <td>8.0500</td>\n",
              "      <td>S</td>\n",
              "      <td>Third</td>\n",
              "      <td>man</td>\n",
              "      <td>True</td>\n",
              "      <td>NaN</td>\n",
              "      <td>Southampton</td>\n",
              "      <td>no</td>\n",
              "      <td>True</td>\n",
              "    </tr>\n",
              "    <tr>\n",
              "      <th>6</th>\n",
              "      <td>0</td>\n",
              "      <td>1</td>\n",
              "      <td>male</td>\n",
              "      <td>54.0</td>\n",
              "      <td>0</td>\n",
              "      <td>0</td>\n",
              "      <td>51.8625</td>\n",
              "      <td>S</td>\n",
              "      <td>First</td>\n",
              "      <td>man</td>\n",
              "      <td>True</td>\n",
              "      <td>E</td>\n",
              "      <td>Southampton</td>\n",
              "      <td>no</td>\n",
              "      <td>True</td>\n",
              "    </tr>\n",
              "    <tr>\n",
              "      <th>11</th>\n",
              "      <td>1</td>\n",
              "      <td>1</td>\n",
              "      <td>female</td>\n",
              "      <td>58.0</td>\n",
              "      <td>0</td>\n",
              "      <td>0</td>\n",
              "      <td>26.5500</td>\n",
              "      <td>S</td>\n",
              "      <td>First</td>\n",
              "      <td>woman</td>\n",
              "      <td>False</td>\n",
              "      <td>C</td>\n",
              "      <td>Southampton</td>\n",
              "      <td>yes</td>\n",
              "      <td>True</td>\n",
              "    </tr>\n",
              "    <tr>\n",
              "      <th>...</th>\n",
              "      <td>...</td>\n",
              "      <td>...</td>\n",
              "      <td>...</td>\n",
              "      <td>...</td>\n",
              "      <td>...</td>\n",
              "      <td>...</td>\n",
              "      <td>...</td>\n",
              "      <td>...</td>\n",
              "      <td>...</td>\n",
              "      <td>...</td>\n",
              "      <td>...</td>\n",
              "      <td>...</td>\n",
              "      <td>...</td>\n",
              "      <td>...</td>\n",
              "      <td>...</td>\n",
              "    </tr>\n",
              "    <tr>\n",
              "      <th>873</th>\n",
              "      <td>0</td>\n",
              "      <td>3</td>\n",
              "      <td>male</td>\n",
              "      <td>47.0</td>\n",
              "      <td>0</td>\n",
              "      <td>0</td>\n",
              "      <td>9.0000</td>\n",
              "      <td>S</td>\n",
              "      <td>Third</td>\n",
              "      <td>man</td>\n",
              "      <td>True</td>\n",
              "      <td>NaN</td>\n",
              "      <td>Southampton</td>\n",
              "      <td>no</td>\n",
              "      <td>True</td>\n",
              "    </tr>\n",
              "    <tr>\n",
              "      <th>879</th>\n",
              "      <td>1</td>\n",
              "      <td>1</td>\n",
              "      <td>female</td>\n",
              "      <td>56.0</td>\n",
              "      <td>0</td>\n",
              "      <td>1</td>\n",
              "      <td>83.1583</td>\n",
              "      <td>C</td>\n",
              "      <td>First</td>\n",
              "      <td>woman</td>\n",
              "      <td>False</td>\n",
              "      <td>C</td>\n",
              "      <td>Cherbourg</td>\n",
              "      <td>yes</td>\n",
              "      <td>False</td>\n",
              "    </tr>\n",
              "    <tr>\n",
              "      <th>881</th>\n",
              "      <td>0</td>\n",
              "      <td>3</td>\n",
              "      <td>male</td>\n",
              "      <td>33.0</td>\n",
              "      <td>0</td>\n",
              "      <td>0</td>\n",
              "      <td>7.8958</td>\n",
              "      <td>S</td>\n",
              "      <td>Third</td>\n",
              "      <td>man</td>\n",
              "      <td>True</td>\n",
              "      <td>NaN</td>\n",
              "      <td>Southampton</td>\n",
              "      <td>no</td>\n",
              "      <td>True</td>\n",
              "    </tr>\n",
              "    <tr>\n",
              "      <th>885</th>\n",
              "      <td>0</td>\n",
              "      <td>3</td>\n",
              "      <td>female</td>\n",
              "      <td>39.0</td>\n",
              "      <td>0</td>\n",
              "      <td>5</td>\n",
              "      <td>29.1250</td>\n",
              "      <td>Q</td>\n",
              "      <td>Third</td>\n",
              "      <td>woman</td>\n",
              "      <td>False</td>\n",
              "      <td>NaN</td>\n",
              "      <td>Queenstown</td>\n",
              "      <td>no</td>\n",
              "      <td>False</td>\n",
              "    </tr>\n",
              "    <tr>\n",
              "      <th>890</th>\n",
              "      <td>0</td>\n",
              "      <td>3</td>\n",
              "      <td>male</td>\n",
              "      <td>32.0</td>\n",
              "      <td>0</td>\n",
              "      <td>0</td>\n",
              "      <td>7.7500</td>\n",
              "      <td>Q</td>\n",
              "      <td>Third</td>\n",
              "      <td>man</td>\n",
              "      <td>True</td>\n",
              "      <td>NaN</td>\n",
              "      <td>Queenstown</td>\n",
              "      <td>no</td>\n",
              "      <td>True</td>\n",
              "    </tr>\n",
              "  </tbody>\n",
              "</table>\n",
              "<p>330 rows × 15 columns</p>\n",
              "</div>"
            ],
            "text/plain": [
              "     survived  pclass     sex   age  sibsp  parch     fare embarked  class  \\\n",
              "1           1       1  female  38.0      1      0  71.2833        C  First   \n",
              "3           1       1  female  35.0      1      0  53.1000        S  First   \n",
              "4           0       3    male  35.0      0      0   8.0500        S  Third   \n",
              "6           0       1    male  54.0      0      0  51.8625        S  First   \n",
              "11          1       1  female  58.0      0      0  26.5500        S  First   \n",
              "..        ...     ...     ...   ...    ...    ...      ...      ...    ...   \n",
              "873         0       3    male  47.0      0      0   9.0000        S  Third   \n",
              "879         1       1  female  56.0      0      1  83.1583        C  First   \n",
              "881         0       3    male  33.0      0      0   7.8958        S  Third   \n",
              "885         0       3  female  39.0      0      5  29.1250        Q  Third   \n",
              "890         0       3    male  32.0      0      0   7.7500        Q  Third   \n",
              "\n",
              "       who  adult_male deck  embark_town alive  alone  \n",
              "1    woman       False    C    Cherbourg   yes  False  \n",
              "3    woman       False    C  Southampton   yes  False  \n",
              "4      man        True  NaN  Southampton    no   True  \n",
              "6      man        True    E  Southampton    no   True  \n",
              "11   woman       False    C  Southampton   yes   True  \n",
              "..     ...         ...  ...          ...   ...    ...  \n",
              "873    man        True  NaN  Southampton    no   True  \n",
              "879  woman       False    C    Cherbourg   yes  False  \n",
              "881    man        True  NaN  Southampton    no   True  \n",
              "885  woman       False  NaN   Queenstown    no  False  \n",
              "890    man        True  NaN   Queenstown    no   True  \n",
              "\n",
              "[330 rows x 15 columns]"
            ]
          },
          "execution_count": 59,
          "metadata": {},
          "output_type": "execute_result"
        }
      ],
      "source": [
        "# age 평균 구하고, 평균 이상인 데이터만 조회하기\n",
        "# titanic.loc[:,'age'].mean() 난 평균을 어렵게 구했네...\n",
        "titanic.loc[titanic['age'] >= 29.69911764705882, :]\n",
        "\n",
        "# 강사의 평균 구하는 법\n",
        "# titanic['age'].mean()\n",
        "# titanic.loc[titanic['age'] >= titanic['age'].mean(), :].\n",
        "\n",
        "# 그다음에\n",
        "# var = 'age'\n",
        "# 한다음에 'age' 자리에 var입력\n"
      ]
    },
    {
      "cell_type": "code",
      "execution_count": null,
      "id": "558674f6-4260-446e-ad17-3f5ef357cd1e",
      "metadata": {
        "id": "558674f6-4260-446e-ad17-3f5ef357cd1e",
        "outputId": "3d6b792e-9da6-4b51-e75c-36eda9b88393"
      },
      "outputs": [
        {
          "data": {
            "text/html": [
              "<div>\n",
              "<style scoped>\n",
              "    .dataframe tbody tr th:only-of-type {\n",
              "        vertical-align: middle;\n",
              "    }\n",
              "\n",
              "    .dataframe tbody tr th {\n",
              "        vertical-align: top;\n",
              "    }\n",
              "\n",
              "    .dataframe thead th {\n",
              "        text-align: right;\n",
              "    }\n",
              "</style>\n",
              "<table border=\"1\" class=\"dataframe\">\n",
              "  <thead>\n",
              "    <tr style=\"text-align: right;\">\n",
              "      <th></th>\n",
              "      <th>total_bill</th>\n",
              "      <th>tip</th>\n",
              "      <th>sex</th>\n",
              "      <th>smoker</th>\n",
              "      <th>day</th>\n",
              "      <th>time</th>\n",
              "      <th>size</th>\n",
              "    </tr>\n",
              "  </thead>\n",
              "  <tbody>\n",
              "    <tr>\n",
              "      <th>0</th>\n",
              "      <td>16.99</td>\n",
              "      <td>1.01</td>\n",
              "      <td>Female</td>\n",
              "      <td>No</td>\n",
              "      <td>Sun</td>\n",
              "      <td>Dinner</td>\n",
              "      <td>2</td>\n",
              "    </tr>\n",
              "    <tr>\n",
              "      <th>1</th>\n",
              "      <td>10.34</td>\n",
              "      <td>1.66</td>\n",
              "      <td>Male</td>\n",
              "      <td>No</td>\n",
              "      <td>Sun</td>\n",
              "      <td>Dinner</td>\n",
              "      <td>3</td>\n",
              "    </tr>\n",
              "    <tr>\n",
              "      <th>2</th>\n",
              "      <td>21.01</td>\n",
              "      <td>3.50</td>\n",
              "      <td>Male</td>\n",
              "      <td>No</td>\n",
              "      <td>Sun</td>\n",
              "      <td>Dinner</td>\n",
              "      <td>3</td>\n",
              "    </tr>\n",
              "    <tr>\n",
              "      <th>3</th>\n",
              "      <td>23.68</td>\n",
              "      <td>3.31</td>\n",
              "      <td>Male</td>\n",
              "      <td>No</td>\n",
              "      <td>Sun</td>\n",
              "      <td>Dinner</td>\n",
              "      <td>2</td>\n",
              "    </tr>\n",
              "    <tr>\n",
              "      <th>4</th>\n",
              "      <td>24.59</td>\n",
              "      <td>3.61</td>\n",
              "      <td>Female</td>\n",
              "      <td>No</td>\n",
              "      <td>Sun</td>\n",
              "      <td>Dinner</td>\n",
              "      <td>4</td>\n",
              "    </tr>\n",
              "  </tbody>\n",
              "</table>\n",
              "</div>"
            ],
            "text/plain": [
              "   total_bill   tip     sex smoker  day    time  size\n",
              "0       16.99  1.01  Female     No  Sun  Dinner     2\n",
              "1       10.34  1.66    Male     No  Sun  Dinner     3\n",
              "2       21.01  3.50    Male     No  Sun  Dinner     3\n",
              "3       23.68  3.31    Male     No  Sun  Dinner     2\n",
              "4       24.59  3.61  Female     No  Sun  Dinner     4"
            ]
          },
          "execution_count": 61,
          "metadata": {},
          "output_type": "execute_result"
        }
      ],
      "source": [
        "#문제 하나 더\n",
        "tips = sns.load_dataset('tips')\n",
        "tips.head()"
      ]
    },
    {
      "cell_type": "code",
      "execution_count": null,
      "id": "35c8b9c0-219c-4238-ae0b-3356b74afb93",
      "metadata": {
        "id": "35c8b9c0-219c-4238-ae0b-3356b74afb93",
        "outputId": "2752be31-ab37-4b4e-db6d-98887d79269a"
      },
      "outputs": [
        {
          "data": {
            "text/html": [
              "<div>\n",
              "<style scoped>\n",
              "    .dataframe tbody tr th:only-of-type {\n",
              "        vertical-align: middle;\n",
              "    }\n",
              "\n",
              "    .dataframe tbody tr th {\n",
              "        vertical-align: top;\n",
              "    }\n",
              "\n",
              "    .dataframe thead th {\n",
              "        text-align: right;\n",
              "    }\n",
              "</style>\n",
              "<table border=\"1\" class=\"dataframe\">\n",
              "  <thead>\n",
              "    <tr style=\"text-align: right;\">\n",
              "      <th></th>\n",
              "      <th>total_bill</th>\n",
              "      <th>tip</th>\n",
              "      <th>sex</th>\n",
              "      <th>smoker</th>\n",
              "      <th>day</th>\n",
              "      <th>time</th>\n",
              "      <th>size</th>\n",
              "    </tr>\n",
              "  </thead>\n",
              "  <tbody>\n",
              "    <tr>\n",
              "      <th>0</th>\n",
              "      <td>16.99</td>\n",
              "      <td>1.01</td>\n",
              "      <td>Female</td>\n",
              "      <td>No</td>\n",
              "      <td>Sun</td>\n",
              "      <td>Dinner</td>\n",
              "      <td>2</td>\n",
              "    </tr>\n",
              "    <tr>\n",
              "      <th>1</th>\n",
              "      <td>10.34</td>\n",
              "      <td>1.66</td>\n",
              "      <td>Male</td>\n",
              "      <td>No</td>\n",
              "      <td>Sun</td>\n",
              "      <td>Dinner</td>\n",
              "      <td>3</td>\n",
              "    </tr>\n",
              "    <tr>\n",
              "      <th>6</th>\n",
              "      <td>8.77</td>\n",
              "      <td>2.00</td>\n",
              "      <td>Male</td>\n",
              "      <td>No</td>\n",
              "      <td>Sun</td>\n",
              "      <td>Dinner</td>\n",
              "      <td>2</td>\n",
              "    </tr>\n",
              "    <tr>\n",
              "      <th>8</th>\n",
              "      <td>15.04</td>\n",
              "      <td>1.96</td>\n",
              "      <td>Male</td>\n",
              "      <td>No</td>\n",
              "      <td>Sun</td>\n",
              "      <td>Dinner</td>\n",
              "      <td>2</td>\n",
              "    </tr>\n",
              "    <tr>\n",
              "      <th>9</th>\n",
              "      <td>14.78</td>\n",
              "      <td>3.23</td>\n",
              "      <td>Male</td>\n",
              "      <td>No</td>\n",
              "      <td>Sun</td>\n",
              "      <td>Dinner</td>\n",
              "      <td>2</td>\n",
              "    </tr>\n",
              "    <tr>\n",
              "      <th>...</th>\n",
              "      <td>...</td>\n",
              "      <td>...</td>\n",
              "      <td>...</td>\n",
              "      <td>...</td>\n",
              "      <td>...</td>\n",
              "      <td>...</td>\n",
              "      <td>...</td>\n",
              "    </tr>\n",
              "    <tr>\n",
              "      <th>232</th>\n",
              "      <td>11.61</td>\n",
              "      <td>3.39</td>\n",
              "      <td>Male</td>\n",
              "      <td>No</td>\n",
              "      <td>Sat</td>\n",
              "      <td>Dinner</td>\n",
              "      <td>2</td>\n",
              "    </tr>\n",
              "    <tr>\n",
              "      <th>233</th>\n",
              "      <td>10.77</td>\n",
              "      <td>1.47</td>\n",
              "      <td>Male</td>\n",
              "      <td>No</td>\n",
              "      <td>Sat</td>\n",
              "      <td>Dinner</td>\n",
              "      <td>2</td>\n",
              "    </tr>\n",
              "    <tr>\n",
              "      <th>234</th>\n",
              "      <td>15.53</td>\n",
              "      <td>3.00</td>\n",
              "      <td>Male</td>\n",
              "      <td>Yes</td>\n",
              "      <td>Sat</td>\n",
              "      <td>Dinner</td>\n",
              "      <td>2</td>\n",
              "    </tr>\n",
              "    <tr>\n",
              "      <th>235</th>\n",
              "      <td>10.07</td>\n",
              "      <td>1.25</td>\n",
              "      <td>Male</td>\n",
              "      <td>No</td>\n",
              "      <td>Sat</td>\n",
              "      <td>Dinner</td>\n",
              "      <td>2</td>\n",
              "    </tr>\n",
              "    <tr>\n",
              "      <th>236</th>\n",
              "      <td>12.60</td>\n",
              "      <td>1.00</td>\n",
              "      <td>Male</td>\n",
              "      <td>Yes</td>\n",
              "      <td>Sat</td>\n",
              "      <td>Dinner</td>\n",
              "      <td>2</td>\n",
              "    </tr>\n",
              "  </tbody>\n",
              "</table>\n",
              "<p>122 rows × 7 columns</p>\n",
              "</div>"
            ],
            "text/plain": [
              "     total_bill   tip     sex smoker  day    time  size\n",
              "0         16.99  1.01  Female     No  Sun  Dinner     2\n",
              "1         10.34  1.66    Male     No  Sun  Dinner     3\n",
              "6          8.77  2.00    Male     No  Sun  Dinner     2\n",
              "8         15.04  1.96    Male     No  Sun  Dinner     2\n",
              "9         14.78  3.23    Male     No  Sun  Dinner     2\n",
              "..          ...   ...     ...    ...  ...     ...   ...\n",
              "232       11.61  3.39    Male     No  Sat  Dinner     2\n",
              "233       10.77  1.47    Male     No  Sat  Dinner     2\n",
              "234       15.53  3.00    Male    Yes  Sat  Dinner     2\n",
              "235       10.07  1.25    Male     No  Sat  Dinner     2\n",
              "236       12.60  1.00    Male    Yes  Sat  Dinner     2\n",
              "\n",
              "[122 rows x 7 columns]"
            ]
          },
          "execution_count": 74,
          "metadata": {},
          "output_type": "execute_result"
        }
      ],
      "source": [
        "# total_bill의 중간값 이하인 것만 조회 (복습ㄱㄱ)\n",
        "# tips['total_bill'].median()\n",
        "tips.loc[tips['total_bill'] <= tips['total_bill'].median(), : ].head(1) # head는 그냥 위에서 뽑고싶어서 덧붙힘\n",
        "\n",
        "# day가 Sun인 데이터만 조회하기 (복습ㄱㄱ)\n",
        "\n",
        "# tip의 평균보다 크면서, time이 Dinner인 데이터만 조회\n"
      ]
    },
    {
      "cell_type": "code",
      "execution_count": null,
      "id": "13eaa0a1-b669-45e7-882c-902456d3eaef",
      "metadata": {
        "id": "13eaa0a1-b669-45e7-882c-902456d3eaef",
        "outputId": "1f0b74a3-1da3-4104-c56d-88e602d22e60"
      },
      "outputs": [
        {
          "data": {
            "text/html": [
              "<div>\n",
              "<style scoped>\n",
              "    .dataframe tbody tr th:only-of-type {\n",
              "        vertical-align: middle;\n",
              "    }\n",
              "\n",
              "    .dataframe tbody tr th {\n",
              "        vertical-align: top;\n",
              "    }\n",
              "\n",
              "    .dataframe thead th {\n",
              "        text-align: right;\n",
              "    }\n",
              "</style>\n",
              "<table border=\"1\" class=\"dataframe\">\n",
              "  <thead>\n",
              "    <tr style=\"text-align: right;\">\n",
              "      <th></th>\n",
              "      <th>total_bill</th>\n",
              "      <th>tip</th>\n",
              "      <th>sex</th>\n",
              "      <th>smoker</th>\n",
              "      <th>day</th>\n",
              "      <th>time</th>\n",
              "      <th>size</th>\n",
              "    </tr>\n",
              "  </thead>\n",
              "  <tbody>\n",
              "    <tr>\n",
              "      <th>0</th>\n",
              "      <td>16.99</td>\n",
              "      <td>1.01</td>\n",
              "      <td>Female</td>\n",
              "      <td>No</td>\n",
              "      <td>Sun</td>\n",
              "      <td>Dinner</td>\n",
              "      <td>2</td>\n",
              "    </tr>\n",
              "    <tr>\n",
              "      <th>1</th>\n",
              "      <td>10.34</td>\n",
              "      <td>1.66</td>\n",
              "      <td>Male</td>\n",
              "      <td>No</td>\n",
              "      <td>Sun</td>\n",
              "      <td>Dinner</td>\n",
              "      <td>3</td>\n",
              "    </tr>\n",
              "    <tr>\n",
              "      <th>2</th>\n",
              "      <td>21.01</td>\n",
              "      <td>3.50</td>\n",
              "      <td>Male</td>\n",
              "      <td>No</td>\n",
              "      <td>Sun</td>\n",
              "      <td>Dinner</td>\n",
              "      <td>3</td>\n",
              "    </tr>\n",
              "    <tr>\n",
              "      <th>3</th>\n",
              "      <td>23.68</td>\n",
              "      <td>3.31</td>\n",
              "      <td>Male</td>\n",
              "      <td>No</td>\n",
              "      <td>Sun</td>\n",
              "      <td>Dinner</td>\n",
              "      <td>2</td>\n",
              "    </tr>\n",
              "    <tr>\n",
              "      <th>4</th>\n",
              "      <td>24.59</td>\n",
              "      <td>3.61</td>\n",
              "      <td>Female</td>\n",
              "      <td>No</td>\n",
              "      <td>Sun</td>\n",
              "      <td>Dinner</td>\n",
              "      <td>4</td>\n",
              "    </tr>\n",
              "    <tr>\n",
              "      <th>...</th>\n",
              "      <td>...</td>\n",
              "      <td>...</td>\n",
              "      <td>...</td>\n",
              "      <td>...</td>\n",
              "      <td>...</td>\n",
              "      <td>...</td>\n",
              "      <td>...</td>\n",
              "    </tr>\n",
              "    <tr>\n",
              "      <th>186</th>\n",
              "      <td>20.90</td>\n",
              "      <td>3.50</td>\n",
              "      <td>Female</td>\n",
              "      <td>Yes</td>\n",
              "      <td>Sun</td>\n",
              "      <td>Dinner</td>\n",
              "      <td>3</td>\n",
              "    </tr>\n",
              "    <tr>\n",
              "      <th>187</th>\n",
              "      <td>30.46</td>\n",
              "      <td>2.00</td>\n",
              "      <td>Male</td>\n",
              "      <td>Yes</td>\n",
              "      <td>Sun</td>\n",
              "      <td>Dinner</td>\n",
              "      <td>5</td>\n",
              "    </tr>\n",
              "    <tr>\n",
              "      <th>188</th>\n",
              "      <td>18.15</td>\n",
              "      <td>3.50</td>\n",
              "      <td>Female</td>\n",
              "      <td>Yes</td>\n",
              "      <td>Sun</td>\n",
              "      <td>Dinner</td>\n",
              "      <td>3</td>\n",
              "    </tr>\n",
              "    <tr>\n",
              "      <th>189</th>\n",
              "      <td>23.10</td>\n",
              "      <td>4.00</td>\n",
              "      <td>Male</td>\n",
              "      <td>Yes</td>\n",
              "      <td>Sun</td>\n",
              "      <td>Dinner</td>\n",
              "      <td>3</td>\n",
              "    </tr>\n",
              "    <tr>\n",
              "      <th>190</th>\n",
              "      <td>15.69</td>\n",
              "      <td>1.50</td>\n",
              "      <td>Male</td>\n",
              "      <td>Yes</td>\n",
              "      <td>Sun</td>\n",
              "      <td>Dinner</td>\n",
              "      <td>2</td>\n",
              "    </tr>\n",
              "  </tbody>\n",
              "</table>\n",
              "<p>76 rows × 7 columns</p>\n",
              "</div>"
            ],
            "text/plain": [
              "     total_bill   tip     sex smoker  day    time  size\n",
              "0         16.99  1.01  Female     No  Sun  Dinner     2\n",
              "1         10.34  1.66    Male     No  Sun  Dinner     3\n",
              "2         21.01  3.50    Male     No  Sun  Dinner     3\n",
              "3         23.68  3.31    Male     No  Sun  Dinner     2\n",
              "4         24.59  3.61  Female     No  Sun  Dinner     4\n",
              "..          ...   ...     ...    ...  ...     ...   ...\n",
              "186       20.90  3.50  Female    Yes  Sun  Dinner     3\n",
              "187       30.46  2.00    Male    Yes  Sun  Dinner     5\n",
              "188       18.15  3.50  Female    Yes  Sun  Dinner     3\n",
              "189       23.10  4.00    Male    Yes  Sun  Dinner     3\n",
              "190       15.69  1.50    Male    Yes  Sun  Dinner     2\n",
              "\n",
              "[76 rows x 7 columns]"
            ]
          },
          "execution_count": 71,
          "metadata": {},
          "output_type": "execute_result"
        }
      ],
      "source": [
        "# day가 Sun인 데이터만 조회하기 (복습ㄱㄱ)\n",
        "tips.loc[tips['day']=='Sun',:]"
      ]
    },
    {
      "cell_type": "code",
      "execution_count": null,
      "id": "8202a37d-ebb7-458b-a75f-b5fc7f315e13",
      "metadata": {
        "id": "8202a37d-ebb7-458b-a75f-b5fc7f315e13",
        "outputId": "73ec62bc-1ac1-4c8e-d5b4-4707e0ecc222"
      },
      "outputs": [
        {
          "data": {
            "text/html": [
              "<div>\n",
              "<style scoped>\n",
              "    .dataframe tbody tr th:only-of-type {\n",
              "        vertical-align: middle;\n",
              "    }\n",
              "\n",
              "    .dataframe tbody tr th {\n",
              "        vertical-align: top;\n",
              "    }\n",
              "\n",
              "    .dataframe thead th {\n",
              "        text-align: right;\n",
              "    }\n",
              "</style>\n",
              "<table border=\"1\" class=\"dataframe\">\n",
              "  <thead>\n",
              "    <tr style=\"text-align: right;\">\n",
              "      <th></th>\n",
              "      <th>total_bill</th>\n",
              "      <th>tip</th>\n",
              "      <th>sex</th>\n",
              "      <th>smoker</th>\n",
              "      <th>day</th>\n",
              "      <th>time</th>\n",
              "      <th>size</th>\n",
              "    </tr>\n",
              "  </thead>\n",
              "  <tbody>\n",
              "    <tr>\n",
              "      <th>2</th>\n",
              "      <td>21.01</td>\n",
              "      <td>3.50</td>\n",
              "      <td>Male</td>\n",
              "      <td>No</td>\n",
              "      <td>Sun</td>\n",
              "      <td>Dinner</td>\n",
              "      <td>3</td>\n",
              "    </tr>\n",
              "    <tr>\n",
              "      <th>3</th>\n",
              "      <td>23.68</td>\n",
              "      <td>3.31</td>\n",
              "      <td>Male</td>\n",
              "      <td>No</td>\n",
              "      <td>Sun</td>\n",
              "      <td>Dinner</td>\n",
              "      <td>2</td>\n",
              "    </tr>\n",
              "    <tr>\n",
              "      <th>4</th>\n",
              "      <td>24.59</td>\n",
              "      <td>3.61</td>\n",
              "      <td>Female</td>\n",
              "      <td>No</td>\n",
              "      <td>Sun</td>\n",
              "      <td>Dinner</td>\n",
              "      <td>4</td>\n",
              "    </tr>\n",
              "    <tr>\n",
              "      <th>5</th>\n",
              "      <td>25.29</td>\n",
              "      <td>4.71</td>\n",
              "      <td>Male</td>\n",
              "      <td>No</td>\n",
              "      <td>Sun</td>\n",
              "      <td>Dinner</td>\n",
              "      <td>4</td>\n",
              "    </tr>\n",
              "    <tr>\n",
              "      <th>7</th>\n",
              "      <td>26.88</td>\n",
              "      <td>3.12</td>\n",
              "      <td>Male</td>\n",
              "      <td>No</td>\n",
              "      <td>Sun</td>\n",
              "      <td>Dinner</td>\n",
              "      <td>4</td>\n",
              "    </tr>\n",
              "    <tr>\n",
              "      <th>...</th>\n",
              "      <td>...</td>\n",
              "      <td>...</td>\n",
              "      <td>...</td>\n",
              "      <td>...</td>\n",
              "      <td>...</td>\n",
              "      <td>...</td>\n",
              "      <td>...</td>\n",
              "    </tr>\n",
              "    <tr>\n",
              "      <th>232</th>\n",
              "      <td>11.61</td>\n",
              "      <td>3.39</td>\n",
              "      <td>Male</td>\n",
              "      <td>No</td>\n",
              "      <td>Sat</td>\n",
              "      <td>Dinner</td>\n",
              "      <td>2</td>\n",
              "    </tr>\n",
              "    <tr>\n",
              "      <th>234</th>\n",
              "      <td>15.53</td>\n",
              "      <td>3.00</td>\n",
              "      <td>Male</td>\n",
              "      <td>Yes</td>\n",
              "      <td>Sat</td>\n",
              "      <td>Dinner</td>\n",
              "      <td>2</td>\n",
              "    </tr>\n",
              "    <tr>\n",
              "      <th>238</th>\n",
              "      <td>35.83</td>\n",
              "      <td>4.67</td>\n",
              "      <td>Female</td>\n",
              "      <td>No</td>\n",
              "      <td>Sat</td>\n",
              "      <td>Dinner</td>\n",
              "      <td>3</td>\n",
              "    </tr>\n",
              "    <tr>\n",
              "      <th>239</th>\n",
              "      <td>29.03</td>\n",
              "      <td>5.92</td>\n",
              "      <td>Male</td>\n",
              "      <td>No</td>\n",
              "      <td>Sat</td>\n",
              "      <td>Dinner</td>\n",
              "      <td>3</td>\n",
              "    </tr>\n",
              "    <tr>\n",
              "      <th>243</th>\n",
              "      <td>18.78</td>\n",
              "      <td>3.00</td>\n",
              "      <td>Female</td>\n",
              "      <td>No</td>\n",
              "      <td>Thur</td>\n",
              "      <td>Dinner</td>\n",
              "      <td>2</td>\n",
              "    </tr>\n",
              "  </tbody>\n",
              "</table>\n",
              "<p>98 rows × 7 columns</p>\n",
              "</div>"
            ],
            "text/plain": [
              "     total_bill   tip     sex smoker   day    time  size\n",
              "2         21.01  3.50    Male     No   Sun  Dinner     3\n",
              "3         23.68  3.31    Male     No   Sun  Dinner     2\n",
              "4         24.59  3.61  Female     No   Sun  Dinner     4\n",
              "5         25.29  4.71    Male     No   Sun  Dinner     4\n",
              "7         26.88  3.12    Male     No   Sun  Dinner     4\n",
              "..          ...   ...     ...    ...   ...     ...   ...\n",
              "232       11.61  3.39    Male     No   Sat  Dinner     2\n",
              "234       15.53  3.00    Male    Yes   Sat  Dinner     2\n",
              "238       35.83  4.67  Female     No   Sat  Dinner     3\n",
              "239       29.03  5.92    Male     No   Sat  Dinner     3\n",
              "243       18.78  3.00  Female     No  Thur  Dinner     2\n",
              "\n",
              "[98 rows x 7 columns]"
            ]
          },
          "execution_count": 76,
          "metadata": {},
          "output_type": "execute_result"
        }
      ],
      "source": [
        "# tip의 평균보다 크면서, time이 Dinner인 데이터만 조회\n",
        "# titanic['age'].mean()\n",
        "#셋팅을 먼저 해 tips.loc[(조건1) & (조건2),:] ---> 여기서 시작해 (다중조건)\n",
        "\n",
        "#tips.loc[(조건1) & (조건2),:] #다중조건을 무한으로 쓸 수 있는 것임 (tips['size']==3) & (tips['sex'] == 'Male')\n",
        "# 이런것들을 계속 더 넣어도 됨\n",
        "\n",
        "\n",
        "tips.loc[(tips['tip'] > tips['tip'].mean()) & (tips['time'] == 'Dinner'), :]\n",
        "\n",
        "#한번에 두개 쓰기 힘드니까 하나씩 써서 실행해보고 복붙해서 넣어도 됨.\n",
        "\n",
        "#코드 길어지니까 :] 이거 미리 내려놓으삼\n",
        "\n",
        "#and 조건, a이고 b이다. a이면서b이다.\n",
        "#or 조건, a이거나 또는 b이다.\n",
        "# &, AND조건 / \\(엔터위에), OR조건\n",
        "#조건식 두개 써야겠죠?"
      ]
    },
    {
      "cell_type": "code",
      "execution_count": null,
      "id": "da60def0-47eb-46e0-b30e-742437c4d2ec",
      "metadata": {
        "id": "da60def0-47eb-46e0-b30e-742437c4d2ec",
        "outputId": "9e31a3cc-1c48-4217-fbab-91a087e0e614"
      },
      "outputs": [
        {
          "data": {
            "text/html": [
              "<div>\n",
              "<style scoped>\n",
              "    .dataframe tbody tr th:only-of-type {\n",
              "        vertical-align: middle;\n",
              "    }\n",
              "\n",
              "    .dataframe tbody tr th {\n",
              "        vertical-align: top;\n",
              "    }\n",
              "\n",
              "    .dataframe thead th {\n",
              "        text-align: right;\n",
              "    }\n",
              "</style>\n",
              "<table border=\"1\" class=\"dataframe\">\n",
              "  <thead>\n",
              "    <tr style=\"text-align: right;\">\n",
              "      <th></th>\n",
              "      <th>total_bill</th>\n",
              "      <th>tip</th>\n",
              "      <th>sex</th>\n",
              "      <th>smoker</th>\n",
              "      <th>day</th>\n",
              "      <th>time</th>\n",
              "      <th>size</th>\n",
              "    </tr>\n",
              "  </thead>\n",
              "  <tbody>\n",
              "    <tr>\n",
              "      <th>19</th>\n",
              "      <td>20.65</td>\n",
              "      <td>3.35</td>\n",
              "      <td>Male</td>\n",
              "      <td>No</td>\n",
              "      <td>Sat</td>\n",
              "      <td>Dinner</td>\n",
              "      <td>3</td>\n",
              "    </tr>\n",
              "    <tr>\n",
              "      <th>35</th>\n",
              "      <td>24.06</td>\n",
              "      <td>3.60</td>\n",
              "      <td>Male</td>\n",
              "      <td>No</td>\n",
              "      <td>Sat</td>\n",
              "      <td>Dinner</td>\n",
              "      <td>3</td>\n",
              "    </tr>\n",
              "    <tr>\n",
              "      <th>39</th>\n",
              "      <td>31.27</td>\n",
              "      <td>5.00</td>\n",
              "      <td>Male</td>\n",
              "      <td>No</td>\n",
              "      <td>Sat</td>\n",
              "      <td>Dinner</td>\n",
              "      <td>3</td>\n",
              "    </tr>\n",
              "    <tr>\n",
              "      <th>65</th>\n",
              "      <td>20.08</td>\n",
              "      <td>3.15</td>\n",
              "      <td>Male</td>\n",
              "      <td>No</td>\n",
              "      <td>Sat</td>\n",
              "      <td>Dinner</td>\n",
              "      <td>3</td>\n",
              "    </tr>\n",
              "    <tr>\n",
              "      <th>170</th>\n",
              "      <td>50.81</td>\n",
              "      <td>10.00</td>\n",
              "      <td>Male</td>\n",
              "      <td>Yes</td>\n",
              "      <td>Sat</td>\n",
              "      <td>Dinner</td>\n",
              "      <td>3</td>\n",
              "    </tr>\n",
              "    <tr>\n",
              "      <th>206</th>\n",
              "      <td>26.59</td>\n",
              "      <td>3.41</td>\n",
              "      <td>Male</td>\n",
              "      <td>Yes</td>\n",
              "      <td>Sat</td>\n",
              "      <td>Dinner</td>\n",
              "      <td>3</td>\n",
              "    </tr>\n",
              "    <tr>\n",
              "      <th>231</th>\n",
              "      <td>15.69</td>\n",
              "      <td>3.00</td>\n",
              "      <td>Male</td>\n",
              "      <td>Yes</td>\n",
              "      <td>Sat</td>\n",
              "      <td>Dinner</td>\n",
              "      <td>3</td>\n",
              "    </tr>\n",
              "    <tr>\n",
              "      <th>239</th>\n",
              "      <td>29.03</td>\n",
              "      <td>5.92</td>\n",
              "      <td>Male</td>\n",
              "      <td>No</td>\n",
              "      <td>Sat</td>\n",
              "      <td>Dinner</td>\n",
              "      <td>3</td>\n",
              "    </tr>\n",
              "  </tbody>\n",
              "</table>\n",
              "</div>"
            ],
            "text/plain": [
              "     total_bill    tip   sex smoker  day    time  size\n",
              "19        20.65   3.35  Male     No  Sat  Dinner     3\n",
              "35        24.06   3.60  Male     No  Sat  Dinner     3\n",
              "39        31.27   5.00  Male     No  Sat  Dinner     3\n",
              "65        20.08   3.15  Male     No  Sat  Dinner     3\n",
              "170       50.81  10.00  Male    Yes  Sat  Dinner     3\n",
              "206       26.59   3.41  Male    Yes  Sat  Dinner     3\n",
              "231       15.69   3.00  Male    Yes  Sat  Dinner     3\n",
              "239       29.03   5.92  Male     No  Sat  Dinner     3"
            ]
          },
          "execution_count": 77,
          "metadata": {},
          "output_type": "execute_result"
        }
      ],
      "source": [
        "#위에 다중조건 예시\n",
        "tips.loc[(tips['tip'] >= tips['tip'].mean()) &\n",
        "    (tips['time'] == 'Dinner') &\n",
        "    (tips['size'] == 3) &\n",
        "    (tips['sex'] == 'Male') &\n",
        "    (tips['day'] == 'Sat'),\n",
        ":]"
      ]
    }
  ],
  "metadata": {
    "kernelspec": {
      "display_name": "Python 3 (ipykernel)",
      "language": "python",
      "name": "python3"
    },
    "language_info": {
      "codemirror_mode": {
        "name": "ipython",
        "version": 3
      },
      "file_extension": ".py",
      "mimetype": "text/x-python",
      "name": "python",
      "nbconvert_exporter": "python",
      "pygments_lexer": "ipython3",
      "version": "3.12.1"
    },
    "colab": {
      "provenance": [],
      "include_colab_link": true
    }
  },
  "nbformat": 4,
  "nbformat_minor": 5
}